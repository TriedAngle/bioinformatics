{
 "cells": [
  {
   "cell_type": "code",
   "execution_count": 26,
   "metadata": {},
   "outputs": [],
   "source": [
    "import h5py\n",
    "import numpy as np\n",
    "from umap import UMAP\n",
    "\n",
    "# import matplotlib.pyplot as plt\n",
    "# import seaborn as sns\n",
    "import plotly.graph_objects as go"
   ]
  },
  {
   "cell_type": "code",
   "execution_count": 3,
   "metadata": {},
   "outputs": [],
   "source": [
    "clades = [\n",
    "    \"coleoptera\", \n",
    "    \"diptera\", \n",
    "    \"hemiptera\", \n",
    "    \"homoptera\", \n",
    "    \"hymenoptera\", \n",
    "    \"lepidoptera\", \n",
    "    \"odonata\", \n",
    "    \"orthoptera\"\n",
    "]\n",
    "\n",
    "base_path = \"./saved/timout\"\n",
    "\n",
    "color_map = {\n",
    "    \"coleoptera\": \"red\", \n",
    "    \"diptera\": \"blue\", \n",
    "    \"hemiptera\": \"green\", \n",
    "    \"homoptera\": \"orange\",\n",
    "    \"hymenoptera\": \"purple\", \n",
    "    \"lepidoptera\": \"pink\", \n",
    "    \"odonata\": \"brown\", \n",
    "    \"orthoptera\": \"yellow\"\n",
    "}\n"
   ]
  },
  {
   "cell_type": "code",
   "execution_count": 25,
   "metadata": {},
   "outputs": [
    {
     "name": "stdout",
     "output_type": "stream",
     "text": [
      "['CAK1651321_1 Protein timeless homolog [Acanthoscelides obtectus]', 'CAK1651322_1 Protein timeless homolog [Acanthoscelides obtectus]', 'CAK1651328_1 Protein timeless homolog [Acanthoscelides obtectus]', 'CAK1651332_1 Protein timeless homolog [Acanthoscelides obtectus]', 'CAK1657700_1 Protein timeless homolog [Acanthoscelides obtectus]', 'CAK1664182_1 Protein timeless homolog [Acanthoscelides obtectus]', 'KAF7271216_1 hypothetical protein GWI33_015878 [Rhynchophorus ferrugineus]', 'KAF7275727_1 hypothetical protein GWI33_011329, partial [Rhynchophorus ferrugineus]', 'KAF7276150_1 hypothetical protein GWI33_010874, partial [Rhynchophorus ferrugineus]', 'KAF7276725_1 hypothetical protein GWI33_009884, partial [Rhynchophorus ferrugineus]', 'KAF7277062_1 hypothetical protein GWI33_009485, partial [Rhynchophorus ferrugineus]', 'KAF7285717_1 hypothetical protein GWI33_010138 [Rhynchophorus ferrugineus]', 'XP_008201051_1 protein timeless homolog isoform X1 [Tribolium castaneum]', 'XP_015840765_1 protein timeless homolog isoform X2 [Tribolium castaneum]', 'XP_017771147_1 PREDICTED: protein timeless homolog [Nicrophorus vespilloides]', 'XP_017783660_1 PREDICTED: protein timeless homolog, partial [Nicrophorus vespilloides]', 'XP_018327682_1 protein timeless homolog [Agrilus planipennis]', 'XP_018561954_1 protein timeless homolog [Anoplophora glabripennis]', 'XP_019866643_2 protein timeless homolog [Aethina tumida]', 'XP_022919507_1 protein timeless homolog [Onthophagus taurus]', 'XP_023016006_1 protein timeless homolog [Leptinotarsa decemlineata]', 'XP_028140690_1 protein timeless homolog [Diabrotica virgifera virgifera]', 'XP_030750597_1 protein timeless homolog [Sitophilus oryzae]', 'XP_031332510_1 protein timeless homolog [Photinus pyralis]', 'XP_044258885_1 protein timeless homolog [Tribolium madens]', 'XP_044762559_1 protein timeless homolog [Coccinella septempunctata]', 'XP_045461505_1 protein timeless homolog isoform X1 [Harmonia axyridis]', 'XP_045461506_1 protein timeless homolog isoform X2 [Harmonia axyridis]', 'XP_048519526_1 protein timeless homolog isoform X1 [Dendroctonus ponderosae]', 'XP_048519560_1 protein timeless homolog isoform X2 [Dendroctonus ponderosae]', 'XP_048519588_1 protein timeless homolog isoform X3 [Dendroctonus ponderosae]', 'XP_050308820_1 protein timeless homolog [Anthonomus grandis grandis]', 'XP_056642812_1 protein timeless homolog [Diorhabda sublineata]', 'XP_056642813_1 protein timeless homolog [Diorhabda sublineata]', 'XP_056642814_1 protein timeless homolog [Diorhabda sublineata]', 'XP_057660653_1 protein timeless homolog [Diorhabda carinulata]', 'XP_057660654_1 protein timeless homolog [Diorhabda carinulata]', 'XP_057660656_1 protein timeless homolog [Diorhabda carinulata]', 'XP_057660657_1 protein timeless homolog [Diorhabda carinulata]', 'XP_060524213_1 protein timeless homolog isoform X1 [Cylas formicarius]', 'XP_060524214_1 protein timeless homolog isoform X2 [Cylas formicarius]', 'XP_063908888_1 protein timeless homolog [Zophobas morio]']\n"
     ]
    }
   ],
   "source": [
    "def print_keys(filename):\n",
    "    with h5py.File(filename, 'r') as file:\n",
    "        print(list(file.keys()))\n",
    "\n",
    "# Use this function on one of the .h5 files to see its structure\n",
    "print_keys(f'{base_path}/coleoptera/per_protein_embeddings.h5')"
   ]
  },
  {
   "cell_type": "code",
   "execution_count": 32,
   "metadata": {},
   "outputs": [],
   "source": [
    "def load_embeddings(path):\n",
    "    embeddings = []\n",
    "    with h5py.File(path, 'r') as file:\n",
    "        keys = list(file.keys())\n",
    "        for key in file.keys():\n",
    "            try:\n",
    "                embeddings.append(np.array(file[key]))\n",
    "            except Exception as e:\n",
    "                print(f\"Could not load {key} due to: {e}\")\n",
    "    return np.array(embeddings), keys\n"
   ]
  },
  {
   "cell_type": "code",
   "execution_count": 44,
   "metadata": {},
   "outputs": [
    {
     "name": "stdout",
     "output_type": "stream",
     "text": [
      "{'coleoptera': ['CAK1651321_1 Protein timeless homolog [Acanthoscelides obtectus]', 'CAK1651322_1 Protein timeless homolog [Acanthoscelides obtectus]', 'CAK1651328_1 Protein timeless homolog [Acanthoscelides obtectus]', 'CAK1651332_1 Protein timeless homolog [Acanthoscelides obtectus]', 'CAK1657700_1 Protein timeless homolog [Acanthoscelides obtectus]', 'CAK1664182_1 Protein timeless homolog [Acanthoscelides obtectus]', 'KAF7271216_1 hypothetical protein GWI33_015878 [Rhynchophorus ferrugineus]', 'KAF7275727_1 hypothetical protein GWI33_011329, partial [Rhynchophorus ferrugineus]', 'KAF7276150_1 hypothetical protein GWI33_010874, partial [Rhynchophorus ferrugineus]', 'KAF7276725_1 hypothetical protein GWI33_009884, partial [Rhynchophorus ferrugineus]', 'KAF7277062_1 hypothetical protein GWI33_009485, partial [Rhynchophorus ferrugineus]', 'KAF7285717_1 hypothetical protein GWI33_010138 [Rhynchophorus ferrugineus]', 'XP_008201051_1 protein timeless homolog isoform X1 [Tribolium castaneum]', 'XP_015840765_1 protein timeless homolog isoform X2 [Tribolium castaneum]', 'XP_017771147_1 PREDICTED: protein timeless homolog [Nicrophorus vespilloides]', 'XP_017783660_1 PREDICTED: protein timeless homolog, partial [Nicrophorus vespilloides]', 'XP_018327682_1 protein timeless homolog [Agrilus planipennis]', 'XP_018561954_1 protein timeless homolog [Anoplophora glabripennis]', 'XP_019866643_2 protein timeless homolog [Aethina tumida]', 'XP_022919507_1 protein timeless homolog [Onthophagus taurus]', 'XP_023016006_1 protein timeless homolog [Leptinotarsa decemlineata]', 'XP_028140690_1 protein timeless homolog [Diabrotica virgifera virgifera]', 'XP_030750597_1 protein timeless homolog [Sitophilus oryzae]', 'XP_031332510_1 protein timeless homolog [Photinus pyralis]', 'XP_044258885_1 protein timeless homolog [Tribolium madens]', 'XP_044762559_1 protein timeless homolog [Coccinella septempunctata]', 'XP_045461505_1 protein timeless homolog isoform X1 [Harmonia axyridis]', 'XP_045461506_1 protein timeless homolog isoform X2 [Harmonia axyridis]', 'XP_048519526_1 protein timeless homolog isoform X1 [Dendroctonus ponderosae]', 'XP_048519560_1 protein timeless homolog isoform X2 [Dendroctonus ponderosae]', 'XP_048519588_1 protein timeless homolog isoform X3 [Dendroctonus ponderosae]', 'XP_050308820_1 protein timeless homolog [Anthonomus grandis grandis]', 'XP_056642812_1 protein timeless homolog [Diorhabda sublineata]', 'XP_056642813_1 protein timeless homolog [Diorhabda sublineata]', 'XP_056642814_1 protein timeless homolog [Diorhabda sublineata]', 'XP_057660653_1 protein timeless homolog [Diorhabda carinulata]', 'XP_057660654_1 protein timeless homolog [Diorhabda carinulata]', 'XP_057660656_1 protein timeless homolog [Diorhabda carinulata]', 'XP_057660657_1 protein timeless homolog [Diorhabda carinulata]', 'XP_060524213_1 protein timeless homolog isoform X1 [Cylas formicarius]', 'XP_060524214_1 protein timeless homolog isoform X2 [Cylas formicarius]', 'XP_063908888_1 protein timeless homolog [Zophobas morio]'], 'diptera': ['AAC39101_1 CLOCK [Drosophila melanogaster]', 'BFF90723_1 protein timeless homolog [Drosophila madeirensis]', 'JAC98811_1 Protein timeless homolog [Zeugodacus cucurbitae]', 'SPP87904_1 blast:Protein timeless homolog [Drosophila guanche]', 'XP_001953059_3 protein timeless homolog [Drosophila ananassae]', 'XP_001980312_1 protein timeless homolog [Drosophila erecta]', 'XP_001998905_3 protein timeless homolog [Drosophila mojavensis]', 'XP_002031370_1 protein timeless homolog isoform X2 [Drosophila sechellia]', 'XP_002056175_1 protein timeless homolog [Drosophila virilis]', 'XP_002097485_2 protein timeless homolog [Drosophila yakuba]', 'XP_016034895_1 protein timeless homolog [Drosophila simulans]', 'XP_016949738_1 protein timeless homolog [Drosophila biarmipes]', 'XP_017020269_1 protein timeless homolog [Drosophila kikkawai]', 'XP_017039962_1 protein timeless homolog isoform X1 [Drosophila ficusphila]', 'XP_017039963_1 protein timeless homolog isoform X2 [Drosophila ficusphila]', 'XP_017039964_1 protein timeless homolog isoform X2 [Drosophila ficusphila]', 'XP_017084436_2 LOW QUALITY PROTEIN: protein timeless homolog [Drosophila eugracilis]', 'XP_017104534_2 protein timeless homolog isoform X1 [Drosophila bipectinata]', 'XP_017104535_2 protein timeless homolog isoform X2 [Drosophila bipectinata]', 'XP_017110468_1 protein timeless homolog [Drosophila elegans]', 'XP_017143003_1 protein timeless homolog [Drosophila miranda]', 'XP_017475253_1 PREDICTED: protein timeless homolog, partial [Rhagoletis zephyria]', 'XP_017478984_1 PREDICTED: protein timeless homolog [Rhagoletis zephyria]', 'XP_017481394_1 PREDICTED: protein timeless homolog, partial [Rhagoletis zephyria]', 'XP_017482642_1 PREDICTED: protein timeless homolog, partial [Rhagoletis zephyria]', 'XP_017486485_1 PREDICTED: protein timeless homolog, partial [Rhagoletis zephyria]', 'XP_017487645_1 PREDICTED: protein timeless homolog, partial [Rhagoletis zephyria]', 'XP_017492742_1 PREDICTED: protein timeless homolog [Rhagoletis zephyria]', 'XP_017844954_1 protein timeless homolog [Drosophila busckii]', 'XP_017855718_1 PREDICTED: protein timeless homolog [Drosophila arizonae]', 'XP_017968856_1 protein timeless homolog isoform X1 [Drosophila navojoa]', 'XP_017968857_1 protein timeless homolog isoform X2 [Drosophila navojoa]', 'XP_018786691_1 PREDICTED: protein timeless homolog, partial [Bactrocera latifrons]', 'XP_018803058_1 PREDICTED: protein timeless homolog [Bactrocera latifrons]', 'XP_020811280_1 protein timeless homolog [Drosophila serrata]', 'XP_021704743_1 protein timeless homolog [Aedes aegypti]', 'XP_022211508_2 LOW QUALITY PROTEIN: protein timeless homolog [Drosophila obscura]', 'XP_023035402_1 protein timeless homolog [Drosophila willistoni]', 'XP_023158519_1 protein timeless homolog [Ceratitis capitata]', 'XP_023158675_1 protein timeless homolog [Ceratitis capitata]', 'XP_026845744_1 protein timeless homolog [Drosophila persimilis]', 'XP_030080650_1 protein timeless homolog [Drosophila hydei]', 'XP_030080772_1 protein timeless homolog [Drosophila hydei]', 'XP_030370378_1 protein timeless homolog [Scaptodrosophila lebanonensis]', 'XP_030558784_1 protein timeless homolog isoform X1 [Drosophila novamexicana]', 'XP_030558785_1 protein timeless homolog isoform X2 [Drosophila novamexicana]', 'XP_031631724_1 protein timeless homolog [Contarinia nasturtii]', 'XP_032576688_1 protein timeless homolog isoform X1 [Drosophila sechellia]', 'XP_032593051_1 LOW QUALITY PROTEIN: protein timeless homolog [Drosophila grimshawi]', 'XP_033149795_1 protein timeless homolog [Drosophila busckii]', 'XP_033162455_1 protein timeless homolog [Drosophila mauritiana]', 'XP_033235075_1 protein timeless homolog [Drosophila pseudoobscura]', 'XP_034112918_2 protein timeless homolog [Drosophila albomicans]', 'XP_034137511_1 protein timeless homolog [Drosophila guanche]', 'XP_034485285_1 protein timeless homolog [Drosophila innubila]', 'XP_034660738_1 protein timeless homolog [Drosophila subobscura]', 'XP_035774369_1 protein timeless homolog [Anopheles albimanus]', 'XP_035903529_1 protein timeless homolog isoform X1 [Anopheles stephensi]', 'XP_035903530_1 protein timeless homolog isoform X2 [Anopheles stephensi]', 'XP_036217632_1 LOW QUALITY PROTEIN: protein timeless homolog [Bactrocera oleae]', 'XP_036221609_1 protein timeless homolog, partial [Bactrocera oleae]', 'XP_036324507_1 protein timeless homolog [Rhagoletis pomonella]', 'XP_036325088_1 protein timeless homolog [Rhagoletis pomonella]', 'XP_036325089_1 protein timeless homolog [Rhagoletis pomonella]', 'XP_036673902_1 protein timeless homolog [Drosophila suzukii]', 'XP_037029927_1 protein timeless homolog [Bradysia coprophila]', 'XP_037710339_1 protein timeless homolog [Drosophila subpulchrella]', 'XP_037810211_1 protein timeless homolog, partial [Lucilia sericata]', 'XP_037818705_1 protein timeless homolog, partial [Lucilia sericata]', 'XP_037823816_1 protein timeless homolog, partial [Lucilia sericata]', 'XP_037891579_1 protein timeless homolog [Glossina fuscipes]', 'XP_037898745_1 protein timeless homolog [Glossina fuscipes]', 'XP_037910311_1 protein timeless homolog [Hermetia illucens]', 'XP_037944705_1 protein timeless homolog [Teleopsis dalmanni]', 'XP_038119185_1 protein timeless homolog [Culex quinquefasciatus]', 'XP_039444112_1 protein timeless homolog [Culex pipiens pallens]', 'XP_039490573_1 protein timeless homolog [Drosophila santomea]', 'XP_039970840_1 protein timeless homolog [Bactrocera tryoni]', 'XP_040169072_1 protein timeless homolog [Anopheles arabiensis]', 'XP_040236697_2 protein timeless homolog [Anopheles coluzzii]', 'XP_041783569_1 protein timeless homolog [Anopheles merus]', 'XP_041787849_1 protein timeless homolog [Anopheles merus]', 'XP_043651501_1 protein timeless homolog [Drosophila teissieri]', 'XP_044250121_1 protein timeless homolog [Drosophila takahashii]', 'XP_044250122_1 protein timeless homolog [Drosophila takahashii]', 'XP_044313331_1 protein timeless homolog [Drosophila rhopaloa]', 'XP_046806289_1 protein timeless homolog [Lucilia cuprina]', 'XP_049288882_1 protein timeless homolog [Anopheles funestus]', 'XP_049304185_1 protein timeless homolog [Bactrocera dorsalis]', 'XP_049549391_1 protein timeless homolog [Anopheles darlingi]', 'XP_050080049_1 LOW QUALITY PROTEIN: protein timeless homolog [Anopheles maculipalpis]', 'XP_050087805_1 protein timeless homolog [Anopheles aquasalis]', 'XP_050318241_1 protein timeless homolog [Bactrocera neohumeralis]', 'XP_052836881_1 protein timeless homolog isoform X1 [Drosophila gunungcola]', 'XP_052836882_1 protein timeless homolog isoform X2 [Drosophila gunungcola]', 'XP_052870855_1 protein timeless homolog, partial [Anopheles cruzii]', 'XP_052873402_1 LOW QUALITY PROTEIN: protein timeless homolog [Anopheles cruzii]', 'XP_052873403_1 protein timeless homolog [Anopheles cruzii]', 'XP_052902821_1 protein timeless homolog [Anopheles moucheti]', 'XP_053661191_1 protein timeless homolog [Anopheles marshallii]', 'XP_053678116_1 protein timeless homolog [Anopheles nili]', 'XP_053678117_1 protein timeless homolog [Anopheles nili]', 'XP_053699073_1 protein timeless homolog isoform X1 [Sabethes cyaneus]', 'XP_053699127_1 protein timeless homolog isoform X2 [Sabethes cyaneus]', 'XP_053945845_1 protein timeless homolog [Anastrepha ludens]', 'XP_053946362_1 protein timeless homolog [Anastrepha ludens]', 'XP_054086429_1 protein timeless homolog [Zeugodacus cucurbitae]', 'XP_054086432_1 protein timeless homolog [Zeugodacus cucurbitae]', 'XP_054726635_1 protein timeless homolog [Anastrepha obliqua]', 'XP_054728280_1 protein timeless homolog [Anastrepha obliqua]', 'XP_055324474_1 protein timeless homolog [Sitodiplosis mosellana]', 'XP_055382504_1 protein timeless homolog [Condylostylus longicornis]', 'XP_055524013_1 protein timeless homolog isoform X1 [Wyeomyia smithii]', 'XP_055524014_1 protein timeless homolog isoform X2 [Wyeomyia smithii]', 'XP_055604879_1 protein timeless homolog [Uranotaenia lowii]', 'XP_055616681_1 protein timeless homolog [Toxorhynchites rutilus septentrionalis]', 'XP_055677398_1 protein timeless homolog [Lutzomyia longipalpis]', 'XP_055712943_1 protein timeless homolog [Phlebotomus papatasi]', 'XP_055851009_1 protein timeless homolog [Episyrphus balteatus]', 'XP_055901939_1 protein timeless homolog [Eupeodes corollae]', 'XP_058065592_1 protein timeless homolog [Anopheles bellator]', 'XP_058121766_1 protein timeless homolog [Anopheles coustani]', 'XP_058168125_1 protein timeless homolog [Anopheles ziemanni]', 'XP_058442752_1 protein timeless homolog [Malaya genurostris]', 'XP_058811331_1 protein timeless homolog [Topomyia yanbarensis]', 'XP_058984004_1 protein timeless homolog [Musca domestica]', 'XP_059218459_1 protein timeless homolog [Stomoxys calcitrans]', 'XP_059621722_1 protein timeless homolog [Phlebotomus argentipes]', 'XP_060645851_1 protein timeless homolog [Drosophila nasuta]', 'XP_061387220_1 protein timeless homolog [Musca vetustissima]', 'XP_061395865_1 protein timeless homolog [Musca vetustissima]', 'XP_061513618_1 protein timeless homolog [Anopheles gambiae]', 'XP_062127255_1 LOW QUALITY PROTEIN: protein timeless homolog [Drosophila sulfurigaster albostrigata]', 'XP_062536633_1 protein timeless homolog isoform X1 [Armigeres subalbatus]', 'XP_062536634_1 protein timeless homolog isoform X2 [Armigeres subalbatus]', 'XP_062536635_1 protein timeless homolog isoform X3 [Armigeres subalbatus]', 'XP_062701717_1 protein timeless homolog [Aedes albopictus]', 'XP_063704948_1 protein timeless homolog [Culicoides brevitarsis]', 'sp|O61735_3|CLOCK_DROME RecName: Full=Circadian locomoter output cycles protein kaput; AltName: Full=dCLOCK; AltName: Full=dPAS1', 'sp|O96690_2|PDF_DROME RecName: Full=Protein PDF; Contains: RecName: Full=PDF precursor-related peptide; Short=PAP; Contains: RecName: Full=Neuropeptide PDF; AltName: Full=Pigment-dispersing factor homolog; Flags: Precursor'], 'hemiptera': ['UHH90574_1 cyclobutane pyrimidine dimer photolyase [Pyrrhocoris apterus]', 'XP_008186746_1 protein timeless homolog [Acyrthosiphon pisum]', 'XP_008482101_2 protein timeless homolog [Diaphorina citri]', 'XP_014246467_1 protein timeless homolog [Cimex lectularius]', 'XP_014246468_1 protein timeless homolog [Cimex lectularius]', 'XP_015364645_1 PREDICTED: protein timeless homolog [Diuraphis noxia]', 'XP_016662949_1 protein timeless homolog [Acyrthosiphon pisum]', 'XP_018907854_1 PREDICTED: protein timeless homolog [Bemisia tabaci]', 'XP_022179868_1 protein timeless homolog isoform X1 [Myzus persicae]', 'XP_022179877_1 protein timeless homolog isoform X2 [Myzus persicae]', 'XP_024217293_1 protein timeless homolog [Halyomorpha halys]', 'XP_025208327_1 protein timeless homolog [Melanaphis sacchari]', 'XP_025208328_1 protein timeless homolog [Melanaphis sacchari]', 'XP_025415562_1 protein timeless homolog isoform X1 [Sipha flava]', 'XP_025415563_1 protein timeless homolog isoform X2 [Sipha flava]', 'XP_025415564_1 protein timeless homolog isoform X3 [Sipha flava]', 'XP_025415565_1 protein timeless homolog isoform X3 [Sipha flava]', 'XP_025415566_1 protein timeless homolog isoform X3 [Sipha flava]', 'XP_025415567_1 protein timeless homolog isoform X4 [Sipha flava]', 'XP_026679889_1 protein timeless homolog isoform X1 [Diaphorina citri]', 'XP_026679890_1 protein timeless homolog isoform X2 [Diaphorina citri]', 'XP_026686241_1 protein timeless homolog [Diaphorina citri]', 'XP_026686242_1 protein timeless homolog isoform X1 [Diaphorina citri]', 'XP_026686243_1 protein timeless homolog isoform X2 [Diaphorina citri]', 'XP_026686244_1 protein timeless homolog isoform X3 [Diaphorina citri]', 'XP_026816055_1 protein timeless homolog [Rhopalosiphum maidis]', 'XP_026816056_1 protein timeless homolog [Rhopalosiphum maidis]', 'XP_039290694_1 protein timeless homolog [Nilaparvata lugens]', 'XP_046662859_1 protein timeless homolog [Homalodisca vitripennis]', 'XP_046687267_1 protein timeless homolog isoform X1 [Homalodisca vitripennis]', 'XP_046687268_1 protein timeless homolog isoform X2 [Homalodisca vitripennis]', 'XP_050054653_1 protein timeless homolog isoform X1 [Aphis gossypii]', 'XP_050054654_1 protein timeless homolog isoform X2 [Aphis gossypii]', 'XP_050054655_1 protein timeless homolog isoform X3 [Aphis gossypii]', 'XP_050054656_1 protein timeless homolog isoform X4 [Aphis gossypii]', 'XP_050066510_1 protein timeless homolog isoform X1 [Aphis gossypii]', 'XP_050066511_1 protein timeless homolog isoform X1 [Aphis gossypii]', 'XP_050066512_1 protein timeless homolog isoform X2 [Aphis gossypii]', 'XP_050066513_1 protein timeless homolog isoform X3 [Aphis gossypii]', 'XP_050066514_1 protein timeless homolog isoform X4 [Aphis gossypii]', 'XP_050432474_1 LOW QUALITY PROTEIN: protein timeless homolog [Adelges cooleyi]', 'XP_050538805_1 protein timeless homolog [Daktulosphaira vitifoliae]', 'XP_054279540_1 protein timeless homolog [Macrosteles quadrilineatus]', 'XP_054281406_1 protein timeless homolog [Macrosteles quadrilineatus]', 'XP_060843659_1 protein timeless homolog isoform X1 [Rhopalosiphum padi]', 'XP_060843660_1 protein timeless homolog isoform X2 [Rhopalosiphum padi]', 'XP_060869026_1 protein timeless homolog [Metopolophium dirhodum]'], 'homoptera': ['UHH90574_1 cyclobutane pyrimidine dimer photolyase [Pyrrhocoris apterus]', 'XP_008186746_1 protein timeless homolog [Acyrthosiphon pisum]', 'XP_008482101_2 protein timeless homolog [Diaphorina citri]', 'XP_014246467_1 protein timeless homolog [Cimex lectularius]', 'XP_014246468_1 protein timeless homolog [Cimex lectularius]', 'XP_015364645_1 PREDICTED: protein timeless homolog [Diuraphis noxia]', 'XP_016662949_1 protein timeless homolog [Acyrthosiphon pisum]', 'XP_018907854_1 PREDICTED: protein timeless homolog [Bemisia tabaci]', 'XP_022179868_1 protein timeless homolog isoform X1 [Myzus persicae]', 'XP_022179877_1 protein timeless homolog isoform X2 [Myzus persicae]', 'XP_024217293_1 protein timeless homolog [Halyomorpha halys]', 'XP_025208327_1 protein timeless homolog [Melanaphis sacchari]', 'XP_025208328_1 protein timeless homolog [Melanaphis sacchari]', 'XP_025415562_1 protein timeless homolog isoform X1 [Sipha flava]', 'XP_025415563_1 protein timeless homolog isoform X2 [Sipha flava]', 'XP_025415564_1 protein timeless homolog isoform X3 [Sipha flava]', 'XP_025415565_1 protein timeless homolog isoform X3 [Sipha flava]', 'XP_025415566_1 protein timeless homolog isoform X3 [Sipha flava]', 'XP_025415567_1 protein timeless homolog isoform X4 [Sipha flava]', 'XP_026679889_1 protein timeless homolog isoform X1 [Diaphorina citri]', 'XP_026679890_1 protein timeless homolog isoform X2 [Diaphorina citri]', 'XP_026686241_1 protein timeless homolog [Diaphorina citri]', 'XP_026686242_1 protein timeless homolog isoform X1 [Diaphorina citri]', 'XP_026686243_1 protein timeless homolog isoform X2 [Diaphorina citri]', 'XP_026686244_1 protein timeless homolog isoform X3 [Diaphorina citri]', 'XP_026816055_1 protein timeless homolog [Rhopalosiphum maidis]', 'XP_026816056_1 protein timeless homolog [Rhopalosiphum maidis]', 'XP_039290694_1 protein timeless homolog [Nilaparvata lugens]', 'XP_046662859_1 protein timeless homolog [Homalodisca vitripennis]', 'XP_046687267_1 protein timeless homolog isoform X1 [Homalodisca vitripennis]', 'XP_046687268_1 protein timeless homolog isoform X2 [Homalodisca vitripennis]', 'XP_050054653_1 protein timeless homolog isoform X1 [Aphis gossypii]', 'XP_050054654_1 protein timeless homolog isoform X2 [Aphis gossypii]', 'XP_050054655_1 protein timeless homolog isoform X3 [Aphis gossypii]', 'XP_050054656_1 protein timeless homolog isoform X4 [Aphis gossypii]', 'XP_050066510_1 protein timeless homolog isoform X1 [Aphis gossypii]', 'XP_050066511_1 protein timeless homolog isoform X1 [Aphis gossypii]', 'XP_050066512_1 protein timeless homolog isoform X2 [Aphis gossypii]', 'XP_050066513_1 protein timeless homolog isoform X3 [Aphis gossypii]', 'XP_050066514_1 protein timeless homolog isoform X4 [Aphis gossypii]', 'XP_050432474_1 LOW QUALITY PROTEIN: protein timeless homolog [Adelges cooleyi]', 'XP_050538805_1 protein timeless homolog [Daktulosphaira vitifoliae]', 'XP_054279540_1 protein timeless homolog [Macrosteles quadrilineatus]', 'XP_054281406_1 protein timeless homolog [Macrosteles quadrilineatus]', 'XP_060843659_1 protein timeless homolog isoform X1 [Rhopalosiphum padi]', 'XP_060843660_1 protein timeless homolog isoform X2 [Rhopalosiphum padi]', 'XP_060869026_1 protein timeless homolog [Metopolophium dirhodum]'], 'hymenoptera': ['CAG5109075_1 Similar to Timeless: Protein timeless homolog (Mus musculus) [Cotesia congregata]', 'CAG5109077_1 Similar to Timeless: Protein timeless homolog (Rattus norvegicus) [Cotesia congregata]', 'KAG8037721_1 hypothetical protein G9C98_005932, partial [Cotesia typhae]', 'KAG8037722_1 hypothetical protein G9C98_005933, partial [Cotesia typhae]', 'XP_003395036_2 protein timeless homolog isoform X1 [Bombus terrestris]', 'XP_006565495_2 protein timeless homolog isoform X1 [Apis mellifera]', 'XP_006565496_2 protein timeless homolog isoform X2 [Apis mellifera]', 'XP_006614752_1 protein timeless homolog isoform X1 [Apis dorsata]', 'XP_008552252_1 protein timeless homolog [Microplitis demolitor]', 'XP_011059080_1 PREDICTED: protein timeless homolog [Acromyrmex echinatior]', 'XP_011173663_2 protein timeless homolog isoform X1 [Solenopsis invicta]', 'XP_011173664_2 protein timeless homolog isoform X1 [Solenopsis invicta]', 'XP_011252216_2 protein timeless homolog [Camponotus floridanus]', 'XP_011305481_1 PREDICTED: protein timeless homolog [Fopius arisanus]', 'XP_011334076_2 protein timeless homolog isoform X1 [Ooceraea biroi]', 'XP_011334077_2 protein timeless homolog isoform X2 [Ooceraea biroi]', 'XP_011499954_1 PREDICTED: protein timeless homolog [Ceratosolen solmsi marchali]', 'XP_011690831_1 PREDICTED: protein timeless homolog isoform X1 [Wasmannia auropunctata]', 'XP_011690841_1 PREDICTED: protein timeless homolog isoform X2 [Wasmannia auropunctata]', 'XP_011874597_1 PREDICTED: protein timeless homolog isoform X1 [Vollenhovia emeryi]', 'XP_011874598_1 PREDICTED: protein timeless homolog isoform X1 [Vollenhovia emeryi]', 'XP_011874599_1 PREDICTED: protein timeless homolog isoform X2 [Vollenhovia emeryi]', 'XP_012062583_1 PREDICTED: protein timeless homolog [Atta cephalotes]', 'XP_012151360_1 PREDICTED: protein timeless homolog [Megachile rotundata]', 'XP_012222323_1 PREDICTED: protein timeless homolog [Linepithema humile]', 'XP_012222324_1 PREDICTED: protein timeless homolog [Linepithema humile]', 'XP_012222325_1 PREDICTED: protein timeless homolog [Linepithema humile]', 'XP_012279584_1 protein timeless homolog [Orussus abietinus]', 'XP_012343215_2 protein timeless homolog [Apis florea]', 'XP_012535516_2 protein timeless homolog isoform X2 [Monomorium pharaonis]', 'XP_014234686_1 protein timeless homolog [Trichogramma pretiosum]', 'XP_014475495_1 PREDICTED: protein timeless homolog [Dinoponera quadriceps]', 'XP_014609708_1 PREDICTED: protein timeless homolog isoform X1 [Polistes canadensis]', 'XP_014609709_1 PREDICTED: protein timeless homolog isoform X2 [Polistes canadensis]', 'XP_015111724_1 protein timeless homolog [Diachasma alloeum]', 'XP_015111725_1 protein timeless homolog [Diachasma alloeum]', 'XP_015111726_1 protein timeless homolog [Diachasma alloeum]', 'XP_015190380_1 PREDICTED: protein timeless homolog isoform X1 [Polistes dominula]', 'XP_015190382_1 PREDICTED: protein timeless homolog isoform X2 [Polistes dominula]', 'XP_015190383_1 PREDICTED: protein timeless homolog isoform X3 [Polistes dominula]', 'XP_015433585_1 PREDICTED: protein timeless homolog [Dufourea novaeangliae]', 'XP_015524887_1 protein timeless homolog [Neodiprion lecontei]', 'XP_015606157_1 protein timeless homolog [Cephus cinctus]', 'XP_017753046_1 PREDICTED: protein timeless homolog [Eufriesea mexicana]', 'XP_017756744_1 PREDICTED: protein timeless homolog, partial [Eufriesea mexicana]', 'XP_017793791_1 PREDICTED: protein timeless homolog [Habropoda laboriosa]', 'XP_017793810_1 PREDICTED: LOW QUALITY PROTEIN: protein timeless homolog [Habropoda laboriosa]', 'XP_017893332_1 protein timeless homolog isoform X2 [Ceratina calcarata]', 'XP_018055561_1 PREDICTED: protein timeless homolog [Atta colombica]', 'XP_018314887_1 PREDICTED: LOW QUALITY PROTEIN: protein timeless homolog [Trachymyrmex zeteki]', 'XP_018314888_1 PREDICTED: LOW QUALITY PROTEIN: protein timeless homolog [Trachymyrmex zeteki]', 'XP_018346918_1 PREDICTED: protein timeless homolog [Trachymyrmex septentrionalis]', 'XP_018347152_1 PREDICTED: LOW QUALITY PROTEIN: protein timeless homolog [Trachymyrmex septentrionalis]', 'XP_018360634_1 PREDICTED: LOW QUALITY PROTEIN: protein timeless homolog [Trachymyrmex cornetzi]', 'XP_018375486_1 PREDICTED: protein timeless homolog [Trachymyrmex cornetzi]', 'XP_018393058_1 PREDICTED: protein timeless homolog [Cyphomyrmex costatus]', 'XP_019886605_2 protein timeless homolog isoform X3 [Ooceraea biroi]', 'XP_019886606_2 protein timeless homolog isoform X4 [Ooceraea biroi]', 'XP_020292360_1 protein timeless homolog isoform X1 [Pseudomyrmex gracilis]', 'XP_020292361_1 protein timeless homolog isoform X2 [Pseudomyrmex gracilis]', 'XP_020709520_2 protein timeless homolog isoform X1 [Athalia rosae]', 'XP_023245988_1 protein timeless homolog [Copidosoma floridanum]', 'XP_024871768_1 protein timeless homolog [Temnothorax curvispinosus]', 'XP_025075247_1 protein timeless homolog [Pogonomyrmex barbatus]', 'XP_025161119_1 protein timeless homolog [Harpegnathos saltator]', 'XP_025266375_1 protein timeless homolog [Camponotus floridanus]', 'XP_026666669_1 protein timeless homolog isoform X1 [Ceratina calcarata]', 'XP_026666670_1 protein timeless homolog isoform X3 [Ceratina calcarata]', 'XP_029034528_1 protein timeless homolog isoform X1 [Osmia bicornis bicornis]', 'XP_029034529_1 protein timeless homolog isoform X2 [Osmia bicornis bicornis]', 'XP_029034530_1 protein timeless homolog isoform X3 [Osmia bicornis bicornis]', 'XP_029159250_1 protein timeless homolog [Nylanderia fulva]', 'XP_029667673_1 LOW QUALITY PROTEIN: protein timeless homolog [Formica exsecta]', 'XP_031365788_1 protein timeless homolog isoform X2 [Apis dorsata]', 'XP_031783081_1 protein timeless homolog [Nasonia vitripennis]', 'XP_031783083_1 protein timeless homolog [Nasonia vitripennis]', 'XP_031783084_1 protein timeless homolog [Nasonia vitripennis]', 'XP_031783085_1 protein timeless homolog [Nasonia vitripennis]', 'XP_031834411_1 protein timeless homolog [Nomia melanderi]', 'XP_032453711_1 protein timeless homolog [Nasonia vitripennis]', 'XP_032684188_1 protein timeless homolog isoform X1 [Odontomachus brunneus]', 'XP_032684189_1 protein timeless homolog isoform X1 [Odontomachus brunneus]', 'XP_032684190_1 protein timeless homolog isoform X2 [Odontomachus brunneus]', 'XP_033178655_1 protein timeless homolog, partial [Bombus impatiens]', 'XP_033180090_1 protein timeless homolog [Bombus impatiens]', 'XP_033188264_1 protein timeless homolog isoform X1 [Bombus vancouverensis nearcticus]', 'XP_033188265_1 protein timeless homolog isoform X2 [Bombus vancouverensis nearcticus]', 'XP_033200565_1 protein timeless homolog, partial [Bombus vancouverensis nearcticus]', 'XP_033230286_1 protein timeless homolog [Belonocnema kinseyi]', 'XP_033297290_1 protein timeless homolog isoform X1 [Bombus bifarius]', 'XP_033297291_1 protein timeless homolog isoform X2 [Bombus bifarius]', 'XP_033298193_1 protein timeless homolog, partial [Bombus bifarius]', 'XP_033326523_1 protein timeless homolog [Megalopta genalis]', 'XP_033346868_1 protein timeless homolog isoform X1 [Bombus vosnesenskii]', 'XP_033346869_1 protein timeless homolog isoform X2 [Bombus vosnesenskii]', 'XP_033348735_1 protein timeless homolog isoform X1 [Bombus vosnesenskii]', 'XP_033348741_1 protein timeless homolog isoform X2 [Bombus vosnesenskii]', 'XP_034174592_1 protein timeless homolog isoform X1 [Osmia lignaria]', 'XP_034174593_1 protein timeless homolog isoform X2 [Osmia lignaria]', 'XP_034934837_1 protein timeless homolog isoform X1 [Chelonus insularis]', 'XP_034934838_1 protein timeless homolog isoform X2 [Chelonus insularis]', 'XP_035744025_1 protein timeless homolog isoform X1 [Vespa mandarinia]', 'XP_035744027_1 protein timeless homolog isoform X1 [Vespa mandarinia]', 'XP_035744028_1 protein timeless homolog isoform X1 [Vespa mandarinia]', 'XP_035744029_1 protein timeless homolog isoform X1 [Vespa mandarinia]', 'XP_035744030_1 protein timeless homolog isoform X1 [Vespa mandarinia]', 'XP_035744031_1 protein timeless homolog isoform X1 [Vespa mandarinia]', 'XP_035744032_1 protein timeless homolog isoform X1 [Vespa mandarinia]', 'XP_035744033_1 protein timeless homolog isoform X2 [Vespa mandarinia]', 'XP_036146421_1 protein timeless homolog isoform X1 [Monomorium pharaonis]', 'XP_039305902_1 protein timeless homolog isoform X1 [Solenopsis invicta]', 'XP_039305903_1 protein timeless homolog isoform X2 [Solenopsis invicta]', 'XP_043250203_1 protein timeless homolog, partial [Colletes gigas]', 'XP_043268843_1 protein timeless homolog [Venturia canescens]', 'XP_043470922_1 protein timeless homolog [Leptopilina heterotoma]', 'XP_043499789_1 protein timeless homolog [Polistes fuscatus]', 'XP_043529520_1 protein timeless homolog isoform X1 [Frieseomelitta varia]', 'XP_043529521_1 protein timeless homolog isoform X1 [Frieseomelitta varia]', 'XP_043529522_1 protein timeless homolog isoform X2 [Frieseomelitta varia]', 'XP_043529524_1 protein timeless homolog isoform X3 [Frieseomelitta varia]', 'XP_043579591_1 protein timeless homolog [Bombus pyrosoma]', 'XP_043664097_1 protein timeless homolog [Vespula pensylvanica]', 'XP_043664098_1 protein timeless homolog [Vespula pensylvanica]', 'XP_043801951_1 protein timeless homolog isoform X1 [Apis laboriosa]', 'XP_043801952_1 protein timeless homolog isoform X2 [Apis laboriosa]', 'XP_044012560_1 protein timeless homolog [Aphidius gifuensis]', 'XP_044599448_1 protein timeless homolog isoform X1 [Cotesia glomerata]', 'XP_044599449_1 protein timeless homolog isoform X2 [Cotesia glomerata]', 'XP_046417749_1 protein timeless homolog [Neodiprion fabricii]', 'XP_046476559_1 protein timeless homolog [Neodiprion pinetum]', 'XP_046612222_1 protein timeless homolog [Neodiprion virginianus]', 'XP_046736872_1 protein timeless homolog [Diprion similis]', 'XP_046837900_1 protein timeless homolog isoform X1 [Vespa crabro]', 'XP_046837902_1 protein timeless homolog isoform X1 [Vespa crabro]', 'XP_046837903_1 protein timeless homolog isoform X1 [Vespa crabro]', 'XP_046837904_1 protein timeless homolog isoform X1 [Vespa crabro]', 'XP_046837905_1 protein timeless homolog isoform X1 [Vespa crabro]', 'XP_046837906_1 protein timeless homolog isoform X1 [Vespa crabro]', 'XP_046837907_1 protein timeless homolog isoform X1 [Vespa crabro]', 'XP_046837908_1 protein timeless homolog isoform X1 [Vespa crabro]', 'XP_046837909_1 protein timeless homolog isoform X1 [Vespa crabro]', 'XP_046837910_1 protein timeless homolog isoform X1 [Vespa crabro]', 'XP_046837911_1 protein timeless homolog isoform X2 [Vespa crabro]', 'XP_047343569_1 protein timeless homolog [Vespa velutina]', 'XP_048261586_1 protein timeless homolog isoform X2 [Bombus terrestris]', 'XP_048512372_1 protein timeless homolog isoform X2 [Athalia rosae]', 'XP_050450903_1 protein timeless homolog [Cataglyphis hispanica]', 'XP_050450904_1 protein timeless homolog [Cataglyphis hispanica]', 'XP_050450905_1 protein timeless homolog [Cataglyphis hispanica]', 'XP_050450906_1 protein timeless homolog [Cataglyphis hispanica]', 'XP_050479053_1 protein timeless homolog isoform X1 [Bombus huntii]', 'XP_050479054_1 protein timeless homolog isoform X2 [Bombus huntii]', 'XP_050573610_1 protein timeless homolog isoform X1 [Bombus affinis]', 'XP_050573611_1 protein timeless homolog isoform X2 [Bombus affinis]', 'XP_050844030_1 protein timeless homolog [Vespula vulgaris]', 'XP_051156269_1 protein timeless homolog, partial [Leptopilina boulardi]', 'XP_051170612_1 protein timeless homolog [Leptopilina boulardi]', 'XP_053978576_1 protein timeless homolog isoform X1 [Hylaeus volcanicus]', 'XP_053978577_1 protein timeless homolog isoform X2 [Hylaeus volcanicus]', 'XP_054003528_1 protein timeless homolog isoform X1 [Hylaeus anthracinus]', 'XP_054003529_1 protein timeless homolog isoform X2 [Hylaeus anthracinus]', 'XP_057326747_1 protein timeless homolog [Microplitis mediator]', 'XP_057326748_1 protein timeless homolog [Microplitis mediator]', 'XP_058798650_1 protein timeless homolog isoform X1 [Phymastichus coffea]', 'XP_058798651_1 protein timeless homolog isoform X2 [Phymastichus coffea]', 'XP_060821668_1 protein timeless homolog isoform X1 [Bombus pascuorum]', 'XP_060821669_1 protein timeless homolog isoform X2 [Bombus pascuorum]', 'XP_060821670_1 protein timeless homolog isoform X3 [Bombus pascuorum]', 'XP_061929980_1 protein timeless homolog isoform X1 [Apis cerana]', 'XP_061929981_1 protein timeless homolog isoform X1 [Apis cerana]', 'XP_061929982_1 protein timeless homolog isoform X2 [Apis cerana]', 'XP_061929983_1 protein timeless homolog isoform X3 [Apis cerana]', 'XP_063971887_1 protein timeless homolog [Diachasmimorpha longicaudata]'], 'lepidoptera': ['GBP19670_1 Protein timeless homolog [Eumeta japonica]', 'KAI8424376_1 hypothetical protein MSG28_002902 [Choristoneura fumiferana]', 'PZC70583_1 hypothetical protein B5X24_HaOG215582 [Helicoverpa armigera]', 'PZC71942_1 hypothetical protein B5X24_HaOG212222 [Helicoverpa armigera]', 'PZC76761_1 hypothetical protein B5X24_HaOG204149 [Helicoverpa armigera]', 'PZC86677_1 hypothetical protein B5X24_HaOG206238 [Helicoverpa armigera]', 'XP_012545048_1 protein timeless homolog isoform X1 [Bombyx mori]', 'XP_012545050_1 protein timeless homolog isoform X3 [Bombyx mori]', 'XP_013139047_1 PREDICTED: protein timeless homolog [Papilio polytes]', 'XP_013165122_1 PREDICTED: protein timeless homolog isoform X1 [Papilio xuthus]', 'XP_013165123_1 PREDICTED: protein timeless homolog isoform X2 [Papilio xuthus]', 'XP_013190354_1 protein timeless homolog isoform X1 [Amyelois transitella]', 'XP_013190355_1 protein timeless homolog isoform X2 [Amyelois transitella]', 'XP_021188130_2 protein timeless homolog isoform X1 [Helicoverpa armigera]', 'XP_021188130_3 protein timeless homolog isoform X1 [Helicoverpa armigera]', 'XP_021188135_2 protein timeless homolog isoform X2 [Helicoverpa armigera]', 'XP_021188135_3 protein timeless homolog isoform X2 [Helicoverpa armigera]', 'XP_021203013_1 protein timeless homolog isoform X2 [Bombyx mori]', 'XP_022130632_2 protein timeless homolog [Pieris rapae]', 'XP_022825293_1 protein timeless homolog [Spodoptera litura]', 'XP_023951788_2 protein timeless homolog [Bicyclus anynana]', 'XP_026322138_1 protein timeless homolog [Hyposmocoma kahamanoa]', 'XP_026737157_1 protein timeless homolog [Trichoplusia ni]', 'XP_026755358_2 protein timeless homolog isoform X1 [Galleria mellonella]', 'XP_028031042_1 protein timeless homolog [Bombyx mandarina]', 'XP_028171612_1 protein timeless homolog [Ostrinia furnacalis]', 'XP_030028363_2 protein timeless homolog [Manduca sexta]', 'XP_031767070_2 protein timeless homolog isoform X2 [Galleria mellonella]', 'XP_032512746_1 protein timeless homolog [Danaus plexippus plexippus]', 'XP_034829680_1 protein timeless homolog [Maniola hyperantus]', 'XP_037961725_2 protein timeless homolog [Plutella xylostella]', 'XP_038223054_1 protein timeless homolog [Zerene cesonia]', 'XP_039749472_1 protein timeless homolog [Pararge aegeria]', 'XP_041971304_1 protein timeless homolog [Aricia agestis]', 'XP_045446823_1 protein timeless homolog [Melitaea cinxia]', 'XP_045494148_1 protein timeless homolog [Colias croceus]', 'XP_045514633_1 protein timeless homolog isoform X1 [Pieris brassicae]', 'XP_045514640_1 protein timeless homolog isoform X2 [Pieris brassicae]', 'XP_045534788_1 protein timeless homolog isoform X1 [Papilio machaon]', 'XP_045534789_1 protein timeless homolog isoform X2 [Papilio machaon]', 'XP_045765294_1 protein timeless homolog isoform X1 [Maniola jurtina]', 'XP_045765295_1 protein timeless homolog isoform X2 [Maniola jurtina]', 'XP_046963189_1 protein timeless homolog [Vanessa cardui]', 'XP_047022504_1 protein timeless homolog isoform X1 [Helicoverpa zea]', 'XP_047022505_1 protein timeless homolog isoform X2 [Helicoverpa zea]', 'XP_047526130_1 protein timeless homolog [Pieris napi]', 'XP_047528915_1 protein timeless homolog [Vanessa atalanta]', 'XP_047983992_1 protein timeless homolog isoform X1 [Leguminivora glycinivorella]', 'XP_047983993_1 protein timeless homolog isoform X2 [Leguminivora glycinivorella]', 'XP_049869881_1 protein timeless homolog [Pectinophora gossypiella]', 'XP_050343206_1 protein timeless homolog [Nymphalis io]', 'XP_050562246_1 protein timeless homolog [Spodoptera frugiperda]', 'XP_050681257_1 protein timeless homolog [Leptidea sinapis]', 'XP_052749243_1 protein timeless homolog isoform X1 [Galleria mellonella]', 'XP_053603776_1 protein timeless homolog [Plodia interpunctella]', 'XP_059046079_1 protein timeless homolog [Achroia grisella]', 'XP_061377646_1 protein timeless homolog [Danaus plexippus]', 'XP_061710979_1 protein timeless homolog [Cydia pomonella]', 'XP_063360561_1 protein timeless homolog [Cydia amplana]', 'XP_063377349_1 protein timeless homolog [Cydia fagiglandana]', 'XP_063533309_1 protein timeless homolog [Cydia strobilella]', 'XP_063619541_1 protein timeless homolog [Cydia splendana]', 'XP_063824228_1 protein timeless homolog isoform X1 [Ostrinia nubilalis]', 'XP_063824229_1 protein timeless homolog isoform X2 [Ostrinia nubilalis]', 'XP_063893290_1 protein timeless homolog isoform X1 [Helicoverpa armigera]', 'XP_064071504_1 protein timeless homolog [Vanessa tameamea]', 'sp|Q17062_1|PER_ANTPE RecName: Full=Period circadian protein', 'sp|Q25020_1|PER_HYACE RecName: Full=Period circadian protein', 'sp|Q25478_1|PER_MANSE RecName: Full=Period circadian protein'], 'odonata': ['XP_046407332_1 protein timeless homolog [Ischnura elegans]'], 'orthoptera': ['XP_046982697_1 protein timeless homolog [Schistocerca americana]', 'XP_047100393_1 protein timeless homolog [Schistocerca piceifrons]', 'XP_049770457_1 protein timeless homolog [Schistocerca cancellata]', 'XP_049797672_1 protein timeless homolog [Schistocerca nitens]', 'XP_049842526_1 protein timeless homolog [Schistocerca gregaria]', 'XP_049849404_1 protein timeless homolog [Schistocerca gregaria]', 'XP_049945993_1 protein timeless homolog [Schistocerca serialis cubense]']}\n"
     ]
    }
   ],
   "source": [
    "# Load all embeddings and labels\n",
    "embeddings_data = {}\n",
    "keys_data = {}\n",
    "for clade in clades:\n",
    "    file_path = f\"{base_path}/{clade}/per_protein_embeddings.h5\"\n",
    "    embeddings_data[clade], keys_data[clade] = load_embeddings(file_path)"
   ]
  },
  {
   "cell_type": "code",
   "execution_count": 39,
   "metadata": {},
   "outputs": [
    {
     "name": "stderr",
     "output_type": "stream",
     "text": [
      "c:\\ProgramData\\anaconda3\\envs\\ml\\Lib\\site-packages\\umap\\umap_.py:1943: UserWarning:\n",
      "\n",
      "n_jobs value -1 overridden to 1 by setting random_state. Use no seed for parallelism.\n",
      "\n"
     ]
    }
   ],
   "source": [
    "# Initialize UMAP for 3D projection\n",
    "umap_reducer_3d = UMAP(n_components=3, n_neighbors=30, min_dist=0.0, random_state=42)\n",
    "\n",
    "# Concatenate all embeddings for fitting\n",
    "all_embeddings_3d = np.concatenate(list(embeddings_data.values()))\n",
    "all_labels_3d = np.concatenate([[clade] * len(data) for clade, data in embeddings_data.items()])\n",
    "\n",
    "# Fit UMAP\n",
    "embedded_data_3d = umap_reducer_3d.fit_transform(all_embeddings_3d)"
   ]
  },
  {
   "cell_type": "code",
   "execution_count": 46,
   "metadata": {},
   "outputs": [
    {
     "data": {
      "application/vnd.plotly.v1+json": {
       "config": {
        "plotlyServerURL": "https://plot.ly"
       },
       "data": [
        {
         "hoverinfo": "text",
         "marker": {
          "color": "red",
          "size": 5
         },
         "mode": "markers",
         "name": "coleoptera",
         "text": [
          "CAK1651321_1 Protein timeless homolog [Acanthoscelides obtectus]",
          "CAK1651322_1 Protein timeless homolog [Acanthoscelides obtectus]",
          "CAK1651328_1 Protein timeless homolog [Acanthoscelides obtectus]",
          "CAK1651332_1 Protein timeless homolog [Acanthoscelides obtectus]",
          "CAK1657700_1 Protein timeless homolog [Acanthoscelides obtectus]",
          "CAK1664182_1 Protein timeless homolog [Acanthoscelides obtectus]",
          "KAF7271216_1 hypothetical protein GWI33_015878 [Rhynchophorus ferrugineus]",
          "KAF7275727_1 hypothetical protein GWI33_011329, partial [Rhynchophorus ferrugineus]",
          "KAF7276150_1 hypothetical protein GWI33_010874, partial [Rhynchophorus ferrugineus]",
          "KAF7276725_1 hypothetical protein GWI33_009884, partial [Rhynchophorus ferrugineus]",
          "KAF7277062_1 hypothetical protein GWI33_009485, partial [Rhynchophorus ferrugineus]",
          "KAF7285717_1 hypothetical protein GWI33_010138 [Rhynchophorus ferrugineus]",
          "XP_008201051_1 protein timeless homolog isoform X1 [Tribolium castaneum]",
          "XP_015840765_1 protein timeless homolog isoform X2 [Tribolium castaneum]",
          "XP_017771147_1 PREDICTED: protein timeless homolog [Nicrophorus vespilloides]",
          "XP_017783660_1 PREDICTED: protein timeless homolog, partial [Nicrophorus vespilloides]",
          "XP_018327682_1 protein timeless homolog [Agrilus planipennis]",
          "XP_018561954_1 protein timeless homolog [Anoplophora glabripennis]",
          "XP_019866643_2 protein timeless homolog [Aethina tumida]",
          "XP_022919507_1 protein timeless homolog [Onthophagus taurus]",
          "XP_023016006_1 protein timeless homolog [Leptinotarsa decemlineata]",
          "XP_028140690_1 protein timeless homolog [Diabrotica virgifera virgifera]",
          "XP_030750597_1 protein timeless homolog [Sitophilus oryzae]",
          "XP_031332510_1 protein timeless homolog [Photinus pyralis]",
          "XP_044258885_1 protein timeless homolog [Tribolium madens]",
          "XP_044762559_1 protein timeless homolog [Coccinella septempunctata]",
          "XP_045461505_1 protein timeless homolog isoform X1 [Harmonia axyridis]",
          "XP_045461506_1 protein timeless homolog isoform X2 [Harmonia axyridis]",
          "XP_048519526_1 protein timeless homolog isoform X1 [Dendroctonus ponderosae]",
          "XP_048519560_1 protein timeless homolog isoform X2 [Dendroctonus ponderosae]",
          "XP_048519588_1 protein timeless homolog isoform X3 [Dendroctonus ponderosae]",
          "XP_050308820_1 protein timeless homolog [Anthonomus grandis grandis]",
          "XP_056642812_1 protein timeless homolog [Diorhabda sublineata]",
          "XP_056642813_1 protein timeless homolog [Diorhabda sublineata]",
          "XP_056642814_1 protein timeless homolog [Diorhabda sublineata]",
          "XP_057660653_1 protein timeless homolog [Diorhabda carinulata]",
          "XP_057660654_1 protein timeless homolog [Diorhabda carinulata]",
          "XP_057660656_1 protein timeless homolog [Diorhabda carinulata]",
          "XP_057660657_1 protein timeless homolog [Diorhabda carinulata]",
          "XP_060524213_1 protein timeless homolog isoform X1 [Cylas formicarius]",
          "XP_060524214_1 protein timeless homolog isoform X2 [Cylas formicarius]",
          "XP_063908888_1 protein timeless homolog [Zophobas morio]"
         ],
         "type": "scatter3d",
         "x": [
          7.127382278442383,
          6.250039577484131,
          6.25801944732666,
          6.155405044555664,
          6.1841816902160645,
          7.07533597946167,
          7.147063255310059,
          6.370174407958984,
          6.517695903778076,
          6.421075820922852,
          6.418372631072998,
          6.752664089202881,
          5.606584072113037,
          5.5517096519470215,
          6.7224555015563965,
          7.010229587554932,
          5.4568657875061035,
          -4.352837562561035,
          -4.397506237030029,
          5.822803020477295,
          5.1775336265563965,
          5.664353847503662,
          -4.287985324859619,
          5.190336227416992,
          5.619510650634766,
          5.5183234214782715,
          5.410974979400635,
          5.470864295959473,
          5.819756507873535,
          5.798029899597168,
          5.724520206451416,
          5.780484676361084,
          5.457615375518799,
          5.500312328338623,
          5.500792503356934,
          5.5250959396362305,
          5.510327339172363,
          5.496052265167236,
          5.503954887390137,
          5.612536430358887,
          6.614512920379639,
          5.507025718688965
         ],
         "y": [
          -0.21039991080760956,
          0.0009413875523023307,
          -0.1474699079990387,
          0.020388728007674217,
          0.04703863710165024,
          14.103215217590332,
          14.078977584838867,
          0.37646055221557617,
          0.4432053565979004,
          0.38052332401275635,
          0.41359537839889526,
          0.00521276006475091,
          10.71632194519043,
          10.769880294799805,
          -0.03623276948928833,
          14.06513786315918,
          16.18320083618164,
          12.430776596069336,
          12.392559051513672,
          9.18928337097168,
          12.301284790039062,
          8.791845321655273,
          12.505698204040527,
          11.333392143249512,
          10.730192184448242,
          16.10540008544922,
          16.214801788330078,
          16.1478328704834,
          7.638477802276611,
          7.678894519805908,
          10.294690132141113,
          9.128449440002441,
          8.232312202453613,
          8.276567459106445,
          8.274372100830078,
          8.230897903442383,
          8.275439262390137,
          8.253181457519531,
          8.24907398223877,
          10.372430801391602,
          0.5307595729827881,
          10.801284790039062
         ],
         "z": [
          7.627018928527832,
          7.959024429321289,
          6.884828567504883,
          7.9539361000061035,
          7.919888973236084,
          7.406307697296143,
          7.338921070098877,
          7.857083797454834,
          7.882003307342529,
          7.869037628173828,
          7.88961124420166,
          8.143363952636719,
          11.310832023620605,
          11.3389892578125,
          8.132497787475586,
          7.451250076293945,
          8.70094108581543,
          2.170452356338501,
          1.9878168106079102,
          10.788683891296387,
          9.988693237304688,
          10.674975395202637,
          2.1790337562561035,
          11.016128540039062,
          11.357193946838379,
          8.567094802856445,
          8.52730941772461,
          8.554305076599121,
          10.45400333404541,
          10.453476905822754,
          11.071816444396973,
          10.811732292175293,
          10.34367847442627,
          10.389884948730469,
          10.386486053466797,
          10.409521102905273,
          10.396425247192383,
          10.372818946838379,
          10.373162269592285,
          11.117419242858887,
          8.00903606414795,
          11.370235443115234
         ]
        },
        {
         "hoverinfo": "text",
         "marker": {
          "color": "blue",
          "size": 5
         },
         "mode": "markers",
         "name": "diptera",
         "text": [
          "AAC39101_1 CLOCK [Drosophila melanogaster]",
          "BFF90723_1 protein timeless homolog [Drosophila madeirensis]",
          "JAC98811_1 Protein timeless homolog [Zeugodacus cucurbitae]",
          "SPP87904_1 blast:Protein timeless homolog [Drosophila guanche]",
          "XP_001953059_3 protein timeless homolog [Drosophila ananassae]",
          "XP_001980312_1 protein timeless homolog [Drosophila erecta]",
          "XP_001998905_3 protein timeless homolog [Drosophila mojavensis]",
          "XP_002031370_1 protein timeless homolog isoform X2 [Drosophila sechellia]",
          "XP_002056175_1 protein timeless homolog [Drosophila virilis]",
          "XP_002097485_2 protein timeless homolog [Drosophila yakuba]",
          "XP_016034895_1 protein timeless homolog [Drosophila simulans]",
          "XP_016949738_1 protein timeless homolog [Drosophila biarmipes]",
          "XP_017020269_1 protein timeless homolog [Drosophila kikkawai]",
          "XP_017039962_1 protein timeless homolog isoform X1 [Drosophila ficusphila]",
          "XP_017039963_1 protein timeless homolog isoform X2 [Drosophila ficusphila]",
          "XP_017039964_1 protein timeless homolog isoform X2 [Drosophila ficusphila]",
          "XP_017084436_2 LOW QUALITY PROTEIN: protein timeless homolog [Drosophila eugracilis]",
          "XP_017104534_2 protein timeless homolog isoform X1 [Drosophila bipectinata]",
          "XP_017104535_2 protein timeless homolog isoform X2 [Drosophila bipectinata]",
          "XP_017110468_1 protein timeless homolog [Drosophila elegans]",
          "XP_017143003_1 protein timeless homolog [Drosophila miranda]",
          "XP_017475253_1 PREDICTED: protein timeless homolog, partial [Rhagoletis zephyria]",
          "XP_017478984_1 PREDICTED: protein timeless homolog [Rhagoletis zephyria]",
          "XP_017481394_1 PREDICTED: protein timeless homolog, partial [Rhagoletis zephyria]",
          "XP_017482642_1 PREDICTED: protein timeless homolog, partial [Rhagoletis zephyria]",
          "XP_017486485_1 PREDICTED: protein timeless homolog, partial [Rhagoletis zephyria]",
          "XP_017487645_1 PREDICTED: protein timeless homolog, partial [Rhagoletis zephyria]",
          "XP_017492742_1 PREDICTED: protein timeless homolog [Rhagoletis zephyria]",
          "XP_017844954_1 protein timeless homolog [Drosophila busckii]",
          "XP_017855718_1 PREDICTED: protein timeless homolog [Drosophila arizonae]",
          "XP_017968856_1 protein timeless homolog isoform X1 [Drosophila navojoa]",
          "XP_017968857_1 protein timeless homolog isoform X2 [Drosophila navojoa]",
          "XP_018786691_1 PREDICTED: protein timeless homolog, partial [Bactrocera latifrons]",
          "XP_018803058_1 PREDICTED: protein timeless homolog [Bactrocera latifrons]",
          "XP_020811280_1 protein timeless homolog [Drosophila serrata]",
          "XP_021704743_1 protein timeless homolog [Aedes aegypti]",
          "XP_022211508_2 LOW QUALITY PROTEIN: protein timeless homolog [Drosophila obscura]",
          "XP_023035402_1 protein timeless homolog [Drosophila willistoni]",
          "XP_023158519_1 protein timeless homolog [Ceratitis capitata]",
          "XP_023158675_1 protein timeless homolog [Ceratitis capitata]",
          "XP_026845744_1 protein timeless homolog [Drosophila persimilis]",
          "XP_030080650_1 protein timeless homolog [Drosophila hydei]",
          "XP_030080772_1 protein timeless homolog [Drosophila hydei]",
          "XP_030370378_1 protein timeless homolog [Scaptodrosophila lebanonensis]",
          "XP_030558784_1 protein timeless homolog isoform X1 [Drosophila novamexicana]",
          "XP_030558785_1 protein timeless homolog isoform X2 [Drosophila novamexicana]",
          "XP_031631724_1 protein timeless homolog [Contarinia nasturtii]",
          "XP_032576688_1 protein timeless homolog isoform X1 [Drosophila sechellia]",
          "XP_032593051_1 LOW QUALITY PROTEIN: protein timeless homolog [Drosophila grimshawi]",
          "XP_033149795_1 protein timeless homolog [Drosophila busckii]",
          "XP_033162455_1 protein timeless homolog [Drosophila mauritiana]",
          "XP_033235075_1 protein timeless homolog [Drosophila pseudoobscura]",
          "XP_034112918_2 protein timeless homolog [Drosophila albomicans]",
          "XP_034137511_1 protein timeless homolog [Drosophila guanche]",
          "XP_034485285_1 protein timeless homolog [Drosophila innubila]",
          "XP_034660738_1 protein timeless homolog [Drosophila subobscura]",
          "XP_035774369_1 protein timeless homolog [Anopheles albimanus]",
          "XP_035903529_1 protein timeless homolog isoform X1 [Anopheles stephensi]",
          "XP_035903530_1 protein timeless homolog isoform X2 [Anopheles stephensi]",
          "XP_036217632_1 LOW QUALITY PROTEIN: protein timeless homolog [Bactrocera oleae]",
          "XP_036221609_1 protein timeless homolog, partial [Bactrocera oleae]",
          "XP_036324507_1 protein timeless homolog [Rhagoletis pomonella]",
          "XP_036325088_1 protein timeless homolog [Rhagoletis pomonella]",
          "XP_036325089_1 protein timeless homolog [Rhagoletis pomonella]",
          "XP_036673902_1 protein timeless homolog [Drosophila suzukii]",
          "XP_037029927_1 protein timeless homolog [Bradysia coprophila]",
          "XP_037710339_1 protein timeless homolog [Drosophila subpulchrella]",
          "XP_037810211_1 protein timeless homolog, partial [Lucilia sericata]",
          "XP_037818705_1 protein timeless homolog, partial [Lucilia sericata]",
          "XP_037823816_1 protein timeless homolog, partial [Lucilia sericata]",
          "XP_037891579_1 protein timeless homolog [Glossina fuscipes]",
          "XP_037898745_1 protein timeless homolog [Glossina fuscipes]",
          "XP_037910311_1 protein timeless homolog [Hermetia illucens]",
          "XP_037944705_1 protein timeless homolog [Teleopsis dalmanni]",
          "XP_038119185_1 protein timeless homolog [Culex quinquefasciatus]",
          "XP_039444112_1 protein timeless homolog [Culex pipiens pallens]",
          "XP_039490573_1 protein timeless homolog [Drosophila santomea]",
          "XP_039970840_1 protein timeless homolog [Bactrocera tryoni]",
          "XP_040169072_1 protein timeless homolog [Anopheles arabiensis]",
          "XP_040236697_2 protein timeless homolog [Anopheles coluzzii]",
          "XP_041783569_1 protein timeless homolog [Anopheles merus]",
          "XP_041787849_1 protein timeless homolog [Anopheles merus]",
          "XP_043651501_1 protein timeless homolog [Drosophila teissieri]",
          "XP_044250121_1 protein timeless homolog [Drosophila takahashii]",
          "XP_044250122_1 protein timeless homolog [Drosophila takahashii]",
          "XP_044313331_1 protein timeless homolog [Drosophila rhopaloa]",
          "XP_046806289_1 protein timeless homolog [Lucilia cuprina]",
          "XP_049288882_1 protein timeless homolog [Anopheles funestus]",
          "XP_049304185_1 protein timeless homolog [Bactrocera dorsalis]",
          "XP_049549391_1 protein timeless homolog [Anopheles darlingi]",
          "XP_050080049_1 LOW QUALITY PROTEIN: protein timeless homolog [Anopheles maculipalpis]",
          "XP_050087805_1 protein timeless homolog [Anopheles aquasalis]",
          "XP_050318241_1 protein timeless homolog [Bactrocera neohumeralis]",
          "XP_052836881_1 protein timeless homolog isoform X1 [Drosophila gunungcola]",
          "XP_052836882_1 protein timeless homolog isoform X2 [Drosophila gunungcola]",
          "XP_052870855_1 protein timeless homolog, partial [Anopheles cruzii]",
          "XP_052873402_1 LOW QUALITY PROTEIN: protein timeless homolog [Anopheles cruzii]",
          "XP_052873403_1 protein timeless homolog [Anopheles cruzii]",
          "XP_052902821_1 protein timeless homolog [Anopheles moucheti]",
          "XP_053661191_1 protein timeless homolog [Anopheles marshallii]",
          "XP_053678116_1 protein timeless homolog [Anopheles nili]",
          "XP_053678117_1 protein timeless homolog [Anopheles nili]",
          "XP_053699073_1 protein timeless homolog isoform X1 [Sabethes cyaneus]",
          "XP_053699127_1 protein timeless homolog isoform X2 [Sabethes cyaneus]",
          "XP_053945845_1 protein timeless homolog [Anastrepha ludens]",
          "XP_053946362_1 protein timeless homolog [Anastrepha ludens]",
          "XP_054086429_1 protein timeless homolog [Zeugodacus cucurbitae]",
          "XP_054086432_1 protein timeless homolog [Zeugodacus cucurbitae]",
          "XP_054726635_1 protein timeless homolog [Anastrepha obliqua]",
          "XP_054728280_1 protein timeless homolog [Anastrepha obliqua]",
          "XP_055324474_1 protein timeless homolog [Sitodiplosis mosellana]",
          "XP_055382504_1 protein timeless homolog [Condylostylus longicornis]",
          "XP_055524013_1 protein timeless homolog isoform X1 [Wyeomyia smithii]",
          "XP_055524014_1 protein timeless homolog isoform X2 [Wyeomyia smithii]",
          "XP_055604879_1 protein timeless homolog [Uranotaenia lowii]",
          "XP_055616681_1 protein timeless homolog [Toxorhynchites rutilus septentrionalis]",
          "XP_055677398_1 protein timeless homolog [Lutzomyia longipalpis]",
          "XP_055712943_1 protein timeless homolog [Phlebotomus papatasi]",
          "XP_055851009_1 protein timeless homolog [Episyrphus balteatus]",
          "XP_055901939_1 protein timeless homolog [Eupeodes corollae]",
          "XP_058065592_1 protein timeless homolog [Anopheles bellator]",
          "XP_058121766_1 protein timeless homolog [Anopheles coustani]",
          "XP_058168125_1 protein timeless homolog [Anopheles ziemanni]",
          "XP_058442752_1 protein timeless homolog [Malaya genurostris]",
          "XP_058811331_1 protein timeless homolog [Topomyia yanbarensis]",
          "XP_058984004_1 protein timeless homolog [Musca domestica]",
          "XP_059218459_1 protein timeless homolog [Stomoxys calcitrans]",
          "XP_059621722_1 protein timeless homolog [Phlebotomus argentipes]",
          "XP_060645851_1 protein timeless homolog [Drosophila nasuta]",
          "XP_061387220_1 protein timeless homolog [Musca vetustissima]",
          "XP_061395865_1 protein timeless homolog [Musca vetustissima]",
          "XP_061513618_1 protein timeless homolog [Anopheles gambiae]",
          "XP_062127255_1 LOW QUALITY PROTEIN: protein timeless homolog [Drosophila sulfurigaster albostrigata]",
          "XP_062536633_1 protein timeless homolog isoform X1 [Armigeres subalbatus]",
          "XP_062536634_1 protein timeless homolog isoform X2 [Armigeres subalbatus]",
          "XP_062536635_1 protein timeless homolog isoform X3 [Armigeres subalbatus]",
          "XP_062701717_1 protein timeless homolog [Aedes albopictus]",
          "XP_063704948_1 protein timeless homolog [Culicoides brevitarsis]",
          "sp|O61735_3|CLOCK_DROME RecName: Full=Circadian locomoter output cycles protein kaput; AltName: Full=dCLOCK; AltName: Full=dPAS1",
          "sp|O96690_2|PDF_DROME RecName: Full=Protein PDF; Contains: RecName: Full=PDF precursor-related peptide; Short=PAP; Contains: RecName: Full=Neuropeptide PDF; AltName: Full=Pigment-dispersing factor homolog; Flags: Precursor"
         ],
         "type": "scatter3d",
         "x": [
          6.768134593963623,
          13.112913131713867,
          12.109687805175781,
          13.137070655822754,
          12.773321151733398,
          12.893973350524902,
          13.247068405151367,
          12.887899398803711,
          13.118085861206055,
          12.948686599731445,
          12.859142303466797,
          12.841011047363281,
          12.827252388000488,
          12.871197700500488,
          11.500505447387695,
          11.497633934020996,
          12.765881538391113,
          12.771923065185547,
          12.608145713806152,
          12.847895622253418,
          12.94952392578125,
          11.388463020324707,
          6.2208638191223145,
          6.778685569763184,
          6.561268329620361,
          6.089858531951904,
          6.158221244812012,
          -4.450231552124023,
          11.54764175415039,
          13.234740257263184,
          13.252178192138672,
          12.914506912231445,
          11.380663871765137,
          12.147427558898926,
          12.74775218963623,
          6.726794242858887,
          12.963323593139648,
          13.024999618530273,
          11.445069313049316,
          6.629549503326416,
          12.943635940551758,
          11.5082368850708,
          6.544460773468018,
          13.098058700561523,
          13.191107749938965,
          11.499290466308594,
          6.550616264343262,
          12.952430725097656,
          13.18960189819336,
          6.633388519287109,
          12.886380195617676,
          12.983378410339355,
          13.069533348083496,
          13.14238452911377,
          13.044825553894043,
          13.192508697509766,
          5.662593364715576,
          5.454117774963379,
          5.4635844230651855,
          12.091623306274414,
          6.56234073638916,
          11.408642768859863,
          6.783898830413818,
          6.698361396789551,
          12.829277038574219,
          6.670985221862793,
          12.825654983520508,
          6.661506652832031,
          11.362215995788574,
          6.1398773193359375,
          11.984576225280762,
          7.139369010925293,
          11.943439483642578,
          11.827969551086426,
          6.807835102081299,
          6.864299297332764,
          12.89317512512207,
          12.104988098144531,
          5.412485599517822,
          5.362940311431885,
          5.390793323516846,
          6.848894119262695,
          12.905035018920898,
          11.529402732849121,
          6.395491600036621,
          12.919763565063477,
          12.326841354370117,
          5.376992225646973,
          12.142133712768555,
          5.660477638244629,
          5.3826494216918945,
          5.689196586608887,
          12.07859992980957,
          12.698283195495605,
          12.557537078857422,
          6.549506187438965,
          -4.0577287673950195,
          -3.9655115604400635,
          5.466021537780762,
          5.508525371551514,
          5.684356689453125,
          5.693020343780518,
          6.479366302490234,
          6.554694175720215,
          11.35209846496582,
          6.514002799987793,
          12.107240676879883,
          12.07625675201416,
          6.550261974334717,
          11.369095802307129,
          6.682201385498047,
          6.556009769439697,
          6.428890228271484,
          6.452284336090088,
          6.774718761444092,
          6.741563320159912,
          5.868833541870117,
          5.796053409576416,
          6.5976457595825195,
          6.718478202819824,
          5.72151517868042,
          5.714033603668213,
          5.705871105194092,
          6.744033336639404,
          6.759463310241699,
          12.358759880065918,
          12.36444091796875,
          5.8191118240356445,
          13.079483032226562,
          6.645796775817871,
          11.41188907623291,
          5.339943885803223,
          13.041997909545898,
          6.745276927947998,
          6.763037204742432,
          6.784485340118408,
          6.718503952026367,
          6.505031585693359,
          6.71717643737793,
          6.2869873046875
         ],
         "y": [
          14.409117698669434,
          11.746909141540527,
          12.444449424743652,
          11.749407768249512,
          11.729697227478027,
          11.689058303833008,
          11.7694091796875,
          11.633951187133789,
          11.796927452087402,
          11.745519638061523,
          11.64678955078125,
          11.683114051818848,
          11.674894332885742,
          11.629718780517578,
          12.957529067993164,
          12.963592529296875,
          11.766521453857422,
          11.72693157196045,
          11.816719055175781,
          11.640860557556152,
          11.608741760253906,
          13.05484390258789,
          -0.006610489916056395,
          -0.02698964625597,
          0.012126498855650425,
          0.0397246889770031,
          0.02925761044025421,
          12.424609184265137,
          12.912357330322266,
          11.821805000305176,
          11.854430198669434,
          11.52564525604248,
          13.067413330078125,
          12.430520057678223,
          11.763447761535645,
          10.363919258117676,
          11.610980033874512,
          11.879996299743652,
          12.985780715942383,
          0.11391887813806534,
          11.612154960632324,
          12.957118034362793,
          -0.01264179963618517,
          11.776330947875977,
          11.800938606262207,
          12.966241836547852,
          10.46955394744873,
          11.621270179748535,
          11.886566162109375,
          0.0021686521358788013,
          11.585383415222168,
          11.616006851196289,
          11.916595458984375,
          11.79022216796875,
          11.930449485778809,
          11.79195499420166,
          9.861157417297363,
          10.816021919250488,
          10.881671905517578,
          12.398375511169434,
          0.5026452541351318,
          13.036961555480957,
          -0.054604679346084595,
          -0.007744636852294207,
          11.73454761505127,
          10.673652648925781,
          11.674962043762207,
          0.021168028935790062,
          13.083600044250488,
          -0.04397321864962578,
          12.39940071105957,
          -0.22551438212394714,
          12.303610801696777,
          12.387388229370117,
          10.436090469360352,
          10.460963249206543,
          11.696229934692383,
          12.387280464172363,
          10.876306533813477,
          10.914566040039062,
          10.886950492858887,
          -0.04086904600262642,
          11.69263744354248,
          12.926947593688965,
          0.0015391845954582095,
          11.54638671875,
          12.154988288879395,
          10.893548011779785,
          12.458577156066895,
          9.790005683898926,
          10.897989273071289,
          9.809745788574219,
          12.433917045593262,
          11.573413848876953,
          11.810647964477539,
          0.10372694581747055,
          12.414847373962402,
          12.43079662322998,
          10.794976234436035,
          10.74452018737793,
          9.517816543579102,
          9.550414085388184,
          10.395410537719727,
          10.383416175842285,
          13.089117050170898,
          -0.04391656816005707,
          12.411335945129395,
          12.420184135437012,
          0.036334045231342316,
          13.076778411865234,
          10.521618843078613,
          0.01084465254098177,
          10.254372596740723,
          10.275317192077637,
          10.384302139282227,
          10.387166023254395,
          9.903855323791504,
          9.896656036376953,
          10.659635543823242,
          10.623546600341797,
          9.707006454467773,
          9.796289443969727,
          9.803669929504395,
          10.38778018951416,
          10.362527847290039,
          12.060728073120117,
          12.079389572143555,
          9.852910041809082,
          11.931133270263672,
          0.043006036430597305,
          13.03911018371582,
          10.941829681396484,
          11.870281219482422,
          10.34453296661377,
          10.337794303894043,
          10.31580924987793,
          10.353832244873047,
          10.612247467041016,
          14.462660789489746,
          -0.01456652581691742
         ],
         "z": [
          7.602802276611328,
          5.670698642730713,
          5.9142374992370605,
          5.672276973724365,
          6.062801837921143,
          6.045760631561279,
          5.58610725402832,
          6.099206924438477,
          5.641061305999756,
          5.972901344299316,
          6.129915714263916,
          6.033175468444824,
          6.102876663208008,
          6.017410755157471,
          5.66971492767334,
          5.664885997772217,
          6.221931457519531,
          6.057859897613525,
          5.940202236175537,
          6.058618068695068,
          5.713498115539551,
          5.611826419830322,
          7.923746109008789,
          7.7637739181518555,
          7.733030319213867,
          8.007701873779297,
          8.028862953186035,
          2.104534149169922,
          5.712494373321533,
          5.598040580749512,
          5.622159004211426,
          6.224645614624023,
          5.589077949523926,
          5.909244537353516,
          6.185802459716797,
          10.162753105163574,
          5.734015464782715,
          5.852672100067139,
          5.668532371520996,
          7.846371173858643,
          5.692299842834473,
          5.650986671447754,
          7.885326862335205,
          5.771084785461426,
          5.600008487701416,
          5.675548553466797,
          10.337554931640625,
          6.166511535644531,
          5.571035861968994,
          7.7396440505981445,
          6.204172611236572,
          5.640212059020996,
          5.704410076141357,
          5.6266279220581055,
          5.8599090576171875,
          5.701486110687256,
          10.816356658935547,
          9.537763595581055,
          9.556215286254883,
          5.962941646575928,
          7.961141586303711,
          5.620299816131592,
          7.776735782623291,
          7.675511360168457,
          6.056016445159912,
          10.2056245803833,
          6.069066047668457,
          7.827191352844238,
          5.573586463928223,
          7.965786457061768,
          6.053236961364746,
          7.609999179840088,
          6.159767150878906,
          6.196439743041992,
          10.077849388122559,
          10.016998291015625,
          6.000824928283691,
          5.934123992919922,
          9.514752388000488,
          9.4994478225708,
          9.467577934265137,
          7.805654525756836,
          5.948727130889893,
          5.701885223388672,
          8.254773139953613,
          6.236824035644531,
          6.011059284210205,
          9.471288681030273,
          5.896056652069092,
          10.703396797180176,
          9.471684455871582,
          10.756857872009277,
          5.9606099128723145,
          6.03582239151001,
          5.9357194900512695,
          8.038522720336914,
          2.3614280223846436,
          2.4623961448669434,
          9.60301399230957,
          9.629820823669434,
          10.654986381530762,
          10.650341987609863,
          10.36320686340332,
          10.294750213623047,
          5.575869083404541,
          7.753963470458984,
          5.952132701873779,
          5.9516191482543945,
          7.760871887207031,
          5.579563140869141,
          10.253983497619629,
          7.782413482666016,
          10.38580322265625,
          10.390734672546387,
          10.153148651123047,
          10.120688438415527,
          10.703168869018555,
          10.74776554107666,
          10.397866249084473,
          10.312792778015137,
          10.737117767333984,
          10.641855239868164,
          10.64962100982666,
          10.139993667602539,
          10.107434272766113,
          6.045156955718994,
          6.067315101623535,
          10.744179725646973,
          5.792351245880127,
          7.7446208000183105,
          5.60476541519165,
          9.444416999816895,
          5.799187660217285,
          10.138806343078613,
          10.123486518859863,
          10.100861549377441,
          10.163851737976074,
          10.511555671691895,
          7.6547441482543945,
          7.974989891052246
         ]
        },
        {
         "hoverinfo": "text",
         "marker": {
          "color": "green",
          "size": 5
         },
         "mode": "markers",
         "name": "hemiptera",
         "text": [
          "UHH90574_1 cyclobutane pyrimidine dimer photolyase [Pyrrhocoris apterus]",
          "XP_008186746_1 protein timeless homolog [Acyrthosiphon pisum]",
          "XP_008482101_2 protein timeless homolog [Diaphorina citri]",
          "XP_014246467_1 protein timeless homolog [Cimex lectularius]",
          "XP_014246468_1 protein timeless homolog [Cimex lectularius]",
          "XP_015364645_1 PREDICTED: protein timeless homolog [Diuraphis noxia]",
          "XP_016662949_1 protein timeless homolog [Acyrthosiphon pisum]",
          "XP_018907854_1 PREDICTED: protein timeless homolog [Bemisia tabaci]",
          "XP_022179868_1 protein timeless homolog isoform X1 [Myzus persicae]",
          "XP_022179877_1 protein timeless homolog isoform X2 [Myzus persicae]",
          "XP_024217293_1 protein timeless homolog [Halyomorpha halys]",
          "XP_025208327_1 protein timeless homolog [Melanaphis sacchari]",
          "XP_025208328_1 protein timeless homolog [Melanaphis sacchari]",
          "XP_025415562_1 protein timeless homolog isoform X1 [Sipha flava]",
          "XP_025415563_1 protein timeless homolog isoform X2 [Sipha flava]",
          "XP_025415564_1 protein timeless homolog isoform X3 [Sipha flava]",
          "XP_025415565_1 protein timeless homolog isoform X3 [Sipha flava]",
          "XP_025415566_1 protein timeless homolog isoform X3 [Sipha flava]",
          "XP_025415567_1 protein timeless homolog isoform X4 [Sipha flava]",
          "XP_026679889_1 protein timeless homolog isoform X1 [Diaphorina citri]",
          "XP_026679890_1 protein timeless homolog isoform X2 [Diaphorina citri]",
          "XP_026686241_1 protein timeless homolog [Diaphorina citri]",
          "XP_026686242_1 protein timeless homolog isoform X1 [Diaphorina citri]",
          "XP_026686243_1 protein timeless homolog isoform X2 [Diaphorina citri]",
          "XP_026686244_1 protein timeless homolog isoform X3 [Diaphorina citri]",
          "XP_026816055_1 protein timeless homolog [Rhopalosiphum maidis]",
          "XP_026816056_1 protein timeless homolog [Rhopalosiphum maidis]",
          "XP_039290694_1 protein timeless homolog [Nilaparvata lugens]",
          "XP_046662859_1 protein timeless homolog [Homalodisca vitripennis]",
          "XP_046687267_1 protein timeless homolog isoform X1 [Homalodisca vitripennis]",
          "XP_046687268_1 protein timeless homolog isoform X2 [Homalodisca vitripennis]",
          "XP_050054653_1 protein timeless homolog isoform X1 [Aphis gossypii]",
          "XP_050054654_1 protein timeless homolog isoform X2 [Aphis gossypii]",
          "XP_050054655_1 protein timeless homolog isoform X3 [Aphis gossypii]",
          "XP_050054656_1 protein timeless homolog isoform X4 [Aphis gossypii]",
          "XP_050066510_1 protein timeless homolog isoform X1 [Aphis gossypii]",
          "XP_050066511_1 protein timeless homolog isoform X1 [Aphis gossypii]",
          "XP_050066512_1 protein timeless homolog isoform X2 [Aphis gossypii]",
          "XP_050066513_1 protein timeless homolog isoform X3 [Aphis gossypii]",
          "XP_050066514_1 protein timeless homolog isoform X4 [Aphis gossypii]",
          "XP_050432474_1 LOW QUALITY PROTEIN: protein timeless homolog [Adelges cooleyi]",
          "XP_050538805_1 protein timeless homolog [Daktulosphaira vitifoliae]",
          "XP_054279540_1 protein timeless homolog [Macrosteles quadrilineatus]",
          "XP_054281406_1 protein timeless homolog [Macrosteles quadrilineatus]",
          "XP_060843659_1 protein timeless homolog isoform X1 [Rhopalosiphum padi]",
          "XP_060843660_1 protein timeless homolog isoform X2 [Rhopalosiphum padi]",
          "XP_060869026_1 protein timeless homolog [Metopolophium dirhodum]"
         ],
         "type": "scatter3d",
         "x": [
          5.808943748474121,
          -4.485461711883545,
          7.147364139556885,
          -3.605876922607422,
          -3.627208948135376,
          -4.291473388671875,
          -4.514901161193848,
          -3.490506172180176,
          -4.264383792877197,
          -4.362470626831055,
          -4.3844499588012695,
          -4.402260780334473,
          -4.404515743255615,
          -4.571670055389404,
          -4.580021381378174,
          -4.520045280456543,
          -4.534852504730225,
          -4.557270526885986,
          -4.561060428619385,
          7.141681671142578,
          7.1334452629089355,
          6.401354789733887,
          6.230719089508057,
          6.234024524688721,
          6.221712112426758,
          -3.6149463653564453,
          -3.6059083938598633,
          -3.4624290466308594,
          6.582215309143066,
          -3.538919448852539,
          -3.522874355316162,
          -3.1555063724517822,
          -3.180332899093628,
          -3.2197327613830566,
          -3.2147727012634277,
          -3.185723066329956,
          -3.1697962284088135,
          -3.140960693359375,
          -3.208185911178589,
          -3.2416486740112305,
          -4.494864463806152,
          -4.506340503692627,
          -3.9931881427764893,
          -3.9613239765167236,
          -3.6480414867401123,
          -3.6135759353637695,
          -4.283627986907959
         ],
         "y": [
          7.656982421875,
          12.360249519348145,
          14.067331314086914,
          9.79807186126709,
          9.816588401794434,
          11.244418144226074,
          12.35686206817627,
          12.49582576751709,
          11.290969848632812,
          11.467137336730957,
          12.4487886428833,
          11.672463417053223,
          11.686327934265137,
          12.25546932220459,
          12.223685264587402,
          12.281198501586914,
          12.290963172912598,
          12.27834415435791,
          12.321455001831055,
          -0.21646519005298615,
          -0.18934881687164307,
          -0.00030978216091170907,
          -0.15721429884433746,
          -0.1508857160806656,
          -0.1533685177564621,
          9.891755104064941,
          9.912737846374512,
          12.498116493225098,
          0.42847657203674316,
          12.489006042480469,
          12.477533340454102,
          8.49989128112793,
          8.575614929199219,
          8.5601167678833,
          8.519098281860352,
          7.9321208000183105,
          7.9224019050598145,
          7.887806415557861,
          7.970226287841797,
          8.015628814697266,
          12.41156005859375,
          12.082120895385742,
          12.417428016662598,
          12.431538581848145,
          9.85644817352295,
          9.876973152160645,
          11.237175941467285
         ],
         "z": [
          10.454652786254883,
          1.6351096630096436,
          7.3536529541015625,
          0.7581042647361755,
          0.7765282988548279,
          1.4607608318328857,
          1.6481399536132812,
          2.908621311187744,
          1.4090709686279297,
          1.5230381488800049,
          1.9820606708526611,
          1.5604324340820312,
          1.5614585876464844,
          1.8972903490066528,
          1.8289226293563843,
          1.6242804527282715,
          1.601839303970337,
          1.6131139993667603,
          1.7313971519470215,
          7.614626884460449,
          7.651105880737305,
          8.175976753234863,
          6.834998607635498,
          6.830678462982178,
          6.813355445861816,
          0.8601368069648743,
          0.8834405541419983,
          2.9405643939971924,
          7.956680774688721,
          2.8542301654815674,
          2.870612144470215,
          0.24285531044006348,
          0.315073162317276,
          0.3108455538749695,
          0.3067697286605835,
          0.25733670592308044,
          0.24129541218280792,
          0.2119300812482834,
          0.2809646725654602,
          0.3159276247024536,
          1.7163200378417969,
          1.6018056869506836,
          2.429884195327759,
          2.465866804122925,
          0.8120036125183105,
          0.8408287763595581,
          1.453628420829773
         ]
        },
        {
         "hoverinfo": "text",
         "marker": {
          "color": "orange",
          "size": 5
         },
         "mode": "markers",
         "name": "homoptera",
         "text": [
          "UHH90574_1 cyclobutane pyrimidine dimer photolyase [Pyrrhocoris apterus]",
          "XP_008186746_1 protein timeless homolog [Acyrthosiphon pisum]",
          "XP_008482101_2 protein timeless homolog [Diaphorina citri]",
          "XP_014246467_1 protein timeless homolog [Cimex lectularius]",
          "XP_014246468_1 protein timeless homolog [Cimex lectularius]",
          "XP_015364645_1 PREDICTED: protein timeless homolog [Diuraphis noxia]",
          "XP_016662949_1 protein timeless homolog [Acyrthosiphon pisum]",
          "XP_018907854_1 PREDICTED: protein timeless homolog [Bemisia tabaci]",
          "XP_022179868_1 protein timeless homolog isoform X1 [Myzus persicae]",
          "XP_022179877_1 protein timeless homolog isoform X2 [Myzus persicae]",
          "XP_024217293_1 protein timeless homolog [Halyomorpha halys]",
          "XP_025208327_1 protein timeless homolog [Melanaphis sacchari]",
          "XP_025208328_1 protein timeless homolog [Melanaphis sacchari]",
          "XP_025415562_1 protein timeless homolog isoform X1 [Sipha flava]",
          "XP_025415563_1 protein timeless homolog isoform X2 [Sipha flava]",
          "XP_025415564_1 protein timeless homolog isoform X3 [Sipha flava]",
          "XP_025415565_1 protein timeless homolog isoform X3 [Sipha flava]",
          "XP_025415566_1 protein timeless homolog isoform X3 [Sipha flava]",
          "XP_025415567_1 protein timeless homolog isoform X4 [Sipha flava]",
          "XP_026679889_1 protein timeless homolog isoform X1 [Diaphorina citri]",
          "XP_026679890_1 protein timeless homolog isoform X2 [Diaphorina citri]",
          "XP_026686241_1 protein timeless homolog [Diaphorina citri]",
          "XP_026686242_1 protein timeless homolog isoform X1 [Diaphorina citri]",
          "XP_026686243_1 protein timeless homolog isoform X2 [Diaphorina citri]",
          "XP_026686244_1 protein timeless homolog isoform X3 [Diaphorina citri]",
          "XP_026816055_1 protein timeless homolog [Rhopalosiphum maidis]",
          "XP_026816056_1 protein timeless homolog [Rhopalosiphum maidis]",
          "XP_039290694_1 protein timeless homolog [Nilaparvata lugens]",
          "XP_046662859_1 protein timeless homolog [Homalodisca vitripennis]",
          "XP_046687267_1 protein timeless homolog isoform X1 [Homalodisca vitripennis]",
          "XP_046687268_1 protein timeless homolog isoform X2 [Homalodisca vitripennis]",
          "XP_050054653_1 protein timeless homolog isoform X1 [Aphis gossypii]",
          "XP_050054654_1 protein timeless homolog isoform X2 [Aphis gossypii]",
          "XP_050054655_1 protein timeless homolog isoform X3 [Aphis gossypii]",
          "XP_050054656_1 protein timeless homolog isoform X4 [Aphis gossypii]",
          "XP_050066510_1 protein timeless homolog isoform X1 [Aphis gossypii]",
          "XP_050066511_1 protein timeless homolog isoform X1 [Aphis gossypii]",
          "XP_050066512_1 protein timeless homolog isoform X2 [Aphis gossypii]",
          "XP_050066513_1 protein timeless homolog isoform X3 [Aphis gossypii]",
          "XP_050066514_1 protein timeless homolog isoform X4 [Aphis gossypii]",
          "XP_050432474_1 LOW QUALITY PROTEIN: protein timeless homolog [Adelges cooleyi]",
          "XP_050538805_1 protein timeless homolog [Daktulosphaira vitifoliae]",
          "XP_054279540_1 protein timeless homolog [Macrosteles quadrilineatus]",
          "XP_054281406_1 protein timeless homolog [Macrosteles quadrilineatus]",
          "XP_060843659_1 protein timeless homolog isoform X1 [Rhopalosiphum padi]",
          "XP_060843660_1 protein timeless homolog isoform X2 [Rhopalosiphum padi]",
          "XP_060869026_1 protein timeless homolog [Metopolophium dirhodum]"
         ],
         "type": "scatter3d",
         "x": [
          5.810025691986084,
          -4.600098133087158,
          7.2088518142700195,
          -3.638641834259033,
          -3.628960609436035,
          -4.275820255279541,
          -4.552074909210205,
          -3.4470579624176025,
          -4.327364444732666,
          -4.3220601081848145,
          -4.438772678375244,
          -4.386052131652832,
          -4.373095512390137,
          -4.58255672454834,
          -4.578634738922119,
          -4.596080303192139,
          -4.535393714904785,
          -4.62213659286499,
          -4.574195384979248,
          7.132692337036133,
          7.127358913421631,
          6.393820762634277,
          6.229641914367676,
          6.226930618286133,
          6.228509902954102,
          -3.597245216369629,
          -3.5361039638519287,
          -3.467205762863159,
          6.591649532318115,
          -3.5482168197631836,
          -3.54691481590271,
          -3.184324264526367,
          -3.2078897953033447,
          -3.2008376121520996,
          -3.215041160583496,
          -3.208078384399414,
          -3.2021262645721436,
          -3.168475866317749,
          -3.2073841094970703,
          -3.2614951133728027,
          -4.477336406707764,
          -4.490138053894043,
          -3.971907615661621,
          -3.9631943702697754,
          -3.6267826557159424,
          -3.6093525886535645,
          -4.2858476638793945
         ],
         "y": [
          7.656423568725586,
          12.288034439086914,
          14.0155029296875,
          9.842545509338379,
          9.831287384033203,
          11.23521900177002,
          12.338027000427246,
          12.522357940673828,
          11.302897453308105,
          11.396514892578125,
          12.497270584106445,
          11.662064552307129,
          11.632603645324707,
          12.258270263671875,
          12.249329566955566,
          12.2660493850708,
          12.318353652954102,
          12.34080696105957,
          12.29920768737793,
          -0.20680132508277893,
          -0.20662854611873627,
          0.017002621665596962,
          -0.15613146126270294,
          -0.15826354920864105,
          -0.1571844220161438,
          9.887486457824707,
          9.920945167541504,
          12.498062133789062,
          0.4471386969089508,
          12.50738525390625,
          12.494596481323242,
          8.55855941772461,
          8.527316093444824,
          8.55546760559082,
          8.527741432189941,
          7.951688289642334,
          7.948192119598389,
          7.912399768829346,
          7.957274913787842,
          8.012691497802734,
          12.388260841369629,
          12.065840721130371,
          12.420350074768066,
          12.431233406066895,
          9.856147766113281,
          9.879142761230469,
          11.242831230163574
         ],
         "z": [
          10.45405101776123,
          1.5773025751113892,
          7.29666805267334,
          0.8011752367019653,
          0.7897741198539734,
          1.4422374963760376,
          1.599979043006897,
          2.952718734741211,
          1.4867815971374512,
          1.4857444763183594,
          1.925243616104126,
          1.5670093297958374,
          1.5296982526779175,
          1.8527328968048096,
          1.7928096055984497,
          1.556317925453186,
          1.627976655960083,
          1.5274221897125244,
          1.590206503868103,
          7.626209259033203,
          7.630709648132324,
          8.185476303100586,
          6.8252434730529785,
          6.819362163543701,
          6.822414398193359,
          0.8562343120574951,
          0.8950743079185486,
          2.9352190494537354,
          7.9678263664245605,
          2.8432037830352783,
          2.8455917835235596,
          0.2739604711532593,
          0.26518943905830383,
          0.29104211926460266,
          0.30606499314308167,
          0.28019553422927856,
          0.2738853991031647,
          0.2396371215581894,
          0.2798398733139038,
          0.3347901403903961,
          1.7520054578781128,
          1.561985731124878,
          2.4504129886627197,
          2.4651567935943604,
          0.8096936941146851,
          0.8437604308128357,
          1.4554566144943237
         ]
        },
        {
         "hoverinfo": "text",
         "marker": {
          "color": "purple",
          "size": 5
         },
         "mode": "markers",
         "name": "hymenoptera",
         "text": [
          "CAG5109075_1 Similar to Timeless: Protein timeless homolog (Mus musculus) [Cotesia congregata]",
          "CAG5109077_1 Similar to Timeless: Protein timeless homolog (Rattus norvegicus) [Cotesia congregata]",
          "KAG8037721_1 hypothetical protein G9C98_005932, partial [Cotesia typhae]",
          "KAG8037722_1 hypothetical protein G9C98_005933, partial [Cotesia typhae]",
          "XP_003395036_2 protein timeless homolog isoform X1 [Bombus terrestris]",
          "XP_006565495_2 protein timeless homolog isoform X1 [Apis mellifera]",
          "XP_006565496_2 protein timeless homolog isoform X2 [Apis mellifera]",
          "XP_006614752_1 protein timeless homolog isoform X1 [Apis dorsata]",
          "XP_008552252_1 protein timeless homolog [Microplitis demolitor]",
          "XP_011059080_1 PREDICTED: protein timeless homolog [Acromyrmex echinatior]",
          "XP_011173663_2 protein timeless homolog isoform X1 [Solenopsis invicta]",
          "XP_011173664_2 protein timeless homolog isoform X1 [Solenopsis invicta]",
          "XP_011252216_2 protein timeless homolog [Camponotus floridanus]",
          "XP_011305481_1 PREDICTED: protein timeless homolog [Fopius arisanus]",
          "XP_011334076_2 protein timeless homolog isoform X1 [Ooceraea biroi]",
          "XP_011334077_2 protein timeless homolog isoform X2 [Ooceraea biroi]",
          "XP_011499954_1 PREDICTED: protein timeless homolog [Ceratosolen solmsi marchali]",
          "XP_011690831_1 PREDICTED: protein timeless homolog isoform X1 [Wasmannia auropunctata]",
          "XP_011690841_1 PREDICTED: protein timeless homolog isoform X2 [Wasmannia auropunctata]",
          "XP_011874597_1 PREDICTED: protein timeless homolog isoform X1 [Vollenhovia emeryi]",
          "XP_011874598_1 PREDICTED: protein timeless homolog isoform X1 [Vollenhovia emeryi]",
          "XP_011874599_1 PREDICTED: protein timeless homolog isoform X2 [Vollenhovia emeryi]",
          "XP_012062583_1 PREDICTED: protein timeless homolog [Atta cephalotes]",
          "XP_012151360_1 PREDICTED: protein timeless homolog [Megachile rotundata]",
          "XP_012222323_1 PREDICTED: protein timeless homolog [Linepithema humile]",
          "XP_012222324_1 PREDICTED: protein timeless homolog [Linepithema humile]",
          "XP_012222325_1 PREDICTED: protein timeless homolog [Linepithema humile]",
          "XP_012279584_1 protein timeless homolog [Orussus abietinus]",
          "XP_012343215_2 protein timeless homolog [Apis florea]",
          "XP_012535516_2 protein timeless homolog isoform X2 [Monomorium pharaonis]",
          "XP_014234686_1 protein timeless homolog [Trichogramma pretiosum]",
          "XP_014475495_1 PREDICTED: protein timeless homolog [Dinoponera quadriceps]",
          "XP_014609708_1 PREDICTED: protein timeless homolog isoform X1 [Polistes canadensis]",
          "XP_014609709_1 PREDICTED: protein timeless homolog isoform X2 [Polistes canadensis]",
          "XP_015111724_1 protein timeless homolog [Diachasma alloeum]",
          "XP_015111725_1 protein timeless homolog [Diachasma alloeum]",
          "XP_015111726_1 protein timeless homolog [Diachasma alloeum]",
          "XP_015190380_1 PREDICTED: protein timeless homolog isoform X1 [Polistes dominula]",
          "XP_015190382_1 PREDICTED: protein timeless homolog isoform X2 [Polistes dominula]",
          "XP_015190383_1 PREDICTED: protein timeless homolog isoform X3 [Polistes dominula]",
          "XP_015433585_1 PREDICTED: protein timeless homolog [Dufourea novaeangliae]",
          "XP_015524887_1 protein timeless homolog [Neodiprion lecontei]",
          "XP_015606157_1 protein timeless homolog [Cephus cinctus]",
          "XP_017753046_1 PREDICTED: protein timeless homolog [Eufriesea mexicana]",
          "XP_017756744_1 PREDICTED: protein timeless homolog, partial [Eufriesea mexicana]",
          "XP_017793791_1 PREDICTED: protein timeless homolog [Habropoda laboriosa]",
          "XP_017793810_1 PREDICTED: LOW QUALITY PROTEIN: protein timeless homolog [Habropoda laboriosa]",
          "XP_017893332_1 protein timeless homolog isoform X2 [Ceratina calcarata]",
          "XP_018055561_1 PREDICTED: protein timeless homolog [Atta colombica]",
          "XP_018314887_1 PREDICTED: LOW QUALITY PROTEIN: protein timeless homolog [Trachymyrmex zeteki]",
          "XP_018314888_1 PREDICTED: LOW QUALITY PROTEIN: protein timeless homolog [Trachymyrmex zeteki]",
          "XP_018346918_1 PREDICTED: protein timeless homolog [Trachymyrmex septentrionalis]",
          "XP_018347152_1 PREDICTED: LOW QUALITY PROTEIN: protein timeless homolog [Trachymyrmex septentrionalis]",
          "XP_018360634_1 PREDICTED: LOW QUALITY PROTEIN: protein timeless homolog [Trachymyrmex cornetzi]",
          "XP_018375486_1 PREDICTED: protein timeless homolog [Trachymyrmex cornetzi]",
          "XP_018393058_1 PREDICTED: protein timeless homolog [Cyphomyrmex costatus]",
          "XP_019886605_2 protein timeless homolog isoform X3 [Ooceraea biroi]",
          "XP_019886606_2 protein timeless homolog isoform X4 [Ooceraea biroi]",
          "XP_020292360_1 protein timeless homolog isoform X1 [Pseudomyrmex gracilis]",
          "XP_020292361_1 protein timeless homolog isoform X2 [Pseudomyrmex gracilis]",
          "XP_020709520_2 protein timeless homolog isoform X1 [Athalia rosae]",
          "XP_023245988_1 protein timeless homolog [Copidosoma floridanum]",
          "XP_024871768_1 protein timeless homolog [Temnothorax curvispinosus]",
          "XP_025075247_1 protein timeless homolog [Pogonomyrmex barbatus]",
          "XP_025161119_1 protein timeless homolog [Harpegnathos saltator]",
          "XP_025266375_1 protein timeless homolog [Camponotus floridanus]",
          "XP_026666669_1 protein timeless homolog isoform X1 [Ceratina calcarata]",
          "XP_026666670_1 protein timeless homolog isoform X3 [Ceratina calcarata]",
          "XP_029034528_1 protein timeless homolog isoform X1 [Osmia bicornis bicornis]",
          "XP_029034529_1 protein timeless homolog isoform X2 [Osmia bicornis bicornis]",
          "XP_029034530_1 protein timeless homolog isoform X3 [Osmia bicornis bicornis]",
          "XP_029159250_1 protein timeless homolog [Nylanderia fulva]",
          "XP_029667673_1 LOW QUALITY PROTEIN: protein timeless homolog [Formica exsecta]",
          "XP_031365788_1 protein timeless homolog isoform X2 [Apis dorsata]",
          "XP_031783081_1 protein timeless homolog [Nasonia vitripennis]",
          "XP_031783083_1 protein timeless homolog [Nasonia vitripennis]",
          "XP_031783084_1 protein timeless homolog [Nasonia vitripennis]",
          "XP_031783085_1 protein timeless homolog [Nasonia vitripennis]",
          "XP_031834411_1 protein timeless homolog [Nomia melanderi]",
          "XP_032453711_1 protein timeless homolog [Nasonia vitripennis]",
          "XP_032684188_1 protein timeless homolog isoform X1 [Odontomachus brunneus]",
          "XP_032684189_1 protein timeless homolog isoform X1 [Odontomachus brunneus]",
          "XP_032684190_1 protein timeless homolog isoform X2 [Odontomachus brunneus]",
          "XP_033178655_1 protein timeless homolog, partial [Bombus impatiens]",
          "XP_033180090_1 protein timeless homolog [Bombus impatiens]",
          "XP_033188264_1 protein timeless homolog isoform X1 [Bombus vancouverensis nearcticus]",
          "XP_033188265_1 protein timeless homolog isoform X2 [Bombus vancouverensis nearcticus]",
          "XP_033200565_1 protein timeless homolog, partial [Bombus vancouverensis nearcticus]",
          "XP_033230286_1 protein timeless homolog [Belonocnema kinseyi]",
          "XP_033297290_1 protein timeless homolog isoform X1 [Bombus bifarius]",
          "XP_033297291_1 protein timeless homolog isoform X2 [Bombus bifarius]",
          "XP_033298193_1 protein timeless homolog, partial [Bombus bifarius]",
          "XP_033326523_1 protein timeless homolog [Megalopta genalis]",
          "XP_033346868_1 protein timeless homolog isoform X1 [Bombus vosnesenskii]",
          "XP_033346869_1 protein timeless homolog isoform X2 [Bombus vosnesenskii]",
          "XP_033348735_1 protein timeless homolog isoform X1 [Bombus vosnesenskii]",
          "XP_033348741_1 protein timeless homolog isoform X2 [Bombus vosnesenskii]",
          "XP_034174592_1 protein timeless homolog isoform X1 [Osmia lignaria]",
          "XP_034174593_1 protein timeless homolog isoform X2 [Osmia lignaria]",
          "XP_034934837_1 protein timeless homolog isoform X1 [Chelonus insularis]",
          "XP_034934838_1 protein timeless homolog isoform X2 [Chelonus insularis]",
          "XP_035744025_1 protein timeless homolog isoform X1 [Vespa mandarinia]",
          "XP_035744027_1 protein timeless homolog isoform X1 [Vespa mandarinia]",
          "XP_035744028_1 protein timeless homolog isoform X1 [Vespa mandarinia]",
          "XP_035744029_1 protein timeless homolog isoform X1 [Vespa mandarinia]",
          "XP_035744030_1 protein timeless homolog isoform X1 [Vespa mandarinia]",
          "XP_035744031_1 protein timeless homolog isoform X1 [Vespa mandarinia]",
          "XP_035744032_1 protein timeless homolog isoform X1 [Vespa mandarinia]",
          "XP_035744033_1 protein timeless homolog isoform X2 [Vespa mandarinia]",
          "XP_036146421_1 protein timeless homolog isoform X1 [Monomorium pharaonis]",
          "XP_039305902_1 protein timeless homolog isoform X1 [Solenopsis invicta]",
          "XP_039305903_1 protein timeless homolog isoform X2 [Solenopsis invicta]",
          "XP_043250203_1 protein timeless homolog, partial [Colletes gigas]",
          "XP_043268843_1 protein timeless homolog [Venturia canescens]",
          "XP_043470922_1 protein timeless homolog [Leptopilina heterotoma]",
          "XP_043499789_1 protein timeless homolog [Polistes fuscatus]",
          "XP_043529520_1 protein timeless homolog isoform X1 [Frieseomelitta varia]",
          "XP_043529521_1 protein timeless homolog isoform X1 [Frieseomelitta varia]",
          "XP_043529522_1 protein timeless homolog isoform X2 [Frieseomelitta varia]",
          "XP_043529524_1 protein timeless homolog isoform X3 [Frieseomelitta varia]",
          "XP_043579591_1 protein timeless homolog [Bombus pyrosoma]",
          "XP_043664097_1 protein timeless homolog [Vespula pensylvanica]",
          "XP_043664098_1 protein timeless homolog [Vespula pensylvanica]",
          "XP_043801951_1 protein timeless homolog isoform X1 [Apis laboriosa]",
          "XP_043801952_1 protein timeless homolog isoform X2 [Apis laboriosa]",
          "XP_044012560_1 protein timeless homolog [Aphidius gifuensis]",
          "XP_044599448_1 protein timeless homolog isoform X1 [Cotesia glomerata]",
          "XP_044599449_1 protein timeless homolog isoform X2 [Cotesia glomerata]",
          "XP_046417749_1 protein timeless homolog [Neodiprion fabricii]",
          "XP_046476559_1 protein timeless homolog [Neodiprion pinetum]",
          "XP_046612222_1 protein timeless homolog [Neodiprion virginianus]",
          "XP_046736872_1 protein timeless homolog [Diprion similis]",
          "XP_046837900_1 protein timeless homolog isoform X1 [Vespa crabro]",
          "XP_046837902_1 protein timeless homolog isoform X1 [Vespa crabro]",
          "XP_046837903_1 protein timeless homolog isoform X1 [Vespa crabro]",
          "XP_046837904_1 protein timeless homolog isoform X1 [Vespa crabro]",
          "XP_046837905_1 protein timeless homolog isoform X1 [Vespa crabro]",
          "XP_046837906_1 protein timeless homolog isoform X1 [Vespa crabro]",
          "XP_046837907_1 protein timeless homolog isoform X1 [Vespa crabro]",
          "XP_046837908_1 protein timeless homolog isoform X1 [Vespa crabro]",
          "XP_046837909_1 protein timeless homolog isoform X1 [Vespa crabro]",
          "XP_046837910_1 protein timeless homolog isoform X1 [Vespa crabro]",
          "XP_046837911_1 protein timeless homolog isoform X2 [Vespa crabro]",
          "XP_047343569_1 protein timeless homolog [Vespa velutina]",
          "XP_048261586_1 protein timeless homolog isoform X2 [Bombus terrestris]",
          "XP_048512372_1 protein timeless homolog isoform X2 [Athalia rosae]",
          "XP_050450903_1 protein timeless homolog [Cataglyphis hispanica]",
          "XP_050450904_1 protein timeless homolog [Cataglyphis hispanica]",
          "XP_050450905_1 protein timeless homolog [Cataglyphis hispanica]",
          "XP_050450906_1 protein timeless homolog [Cataglyphis hispanica]",
          "XP_050479053_1 protein timeless homolog isoform X1 [Bombus huntii]",
          "XP_050479054_1 protein timeless homolog isoform X2 [Bombus huntii]",
          "XP_050573610_1 protein timeless homolog isoform X1 [Bombus affinis]",
          "XP_050573611_1 protein timeless homolog isoform X2 [Bombus affinis]",
          "XP_050844030_1 protein timeless homolog [Vespula vulgaris]",
          "XP_051156269_1 protein timeless homolog, partial [Leptopilina boulardi]",
          "XP_051170612_1 protein timeless homolog [Leptopilina boulardi]",
          "XP_053978576_1 protein timeless homolog isoform X1 [Hylaeus volcanicus]",
          "XP_053978577_1 protein timeless homolog isoform X2 [Hylaeus volcanicus]",
          "XP_054003528_1 protein timeless homolog isoform X1 [Hylaeus anthracinus]",
          "XP_054003529_1 protein timeless homolog isoform X2 [Hylaeus anthracinus]",
          "XP_057326747_1 protein timeless homolog [Microplitis mediator]",
          "XP_057326748_1 protein timeless homolog [Microplitis mediator]",
          "XP_058798650_1 protein timeless homolog isoform X1 [Phymastichus coffea]",
          "XP_058798651_1 protein timeless homolog isoform X2 [Phymastichus coffea]",
          "XP_060821668_1 protein timeless homolog isoform X1 [Bombus pascuorum]",
          "XP_060821669_1 protein timeless homolog isoform X2 [Bombus pascuorum]",
          "XP_060821670_1 protein timeless homolog isoform X3 [Bombus pascuorum]",
          "XP_061929980_1 protein timeless homolog isoform X1 [Apis cerana]",
          "XP_061929981_1 protein timeless homolog isoform X1 [Apis cerana]",
          "XP_061929982_1 protein timeless homolog isoform X2 [Apis cerana]",
          "XP_061929983_1 protein timeless homolog isoform X3 [Apis cerana]",
          "XP_063971887_1 protein timeless homolog [Diachasmimorpha longicaudata]"
         ],
         "type": "scatter3d",
         "x": [
          6.062377452850342,
          7.195341110229492,
          6.448197841644287,
          7.105440616607666,
          4.812637805938721,
          4.981188774108887,
          4.949573516845703,
          4.9486565589904785,
          5.7880988121032715,
          5.342506408691406,
          5.353954792022705,
          5.440122127532959,
          5.308524131774902,
          5.919424533843994,
          5.340296268463135,
          5.344964981079102,
          5.400091648101807,
          5.530489444732666,
          5.478946685791016,
          5.366615295410156,
          5.345620632171631,
          5.313648223876953,
          5.324983596801758,
          4.835240840911865,
          5.559411525726318,
          5.61430025100708,
          5.589106559753418,
          5.016733169555664,
          4.9657392501831055,
          5.503140926361084,
          5.261681079864502,
          5.267406940460205,
          5.341620922088623,
          5.5049614906311035,
          6.038224220275879,
          6.058324813842773,
          6.027848720550537,
          5.266064643859863,
          5.3204569816589355,
          5.292422294616699,
          6.7931904792785645,
          5.881558895111084,
          5.319327354431152,
          6.777502536773682,
          7.093719482421875,
          7.072900295257568,
          6.790119171142578,
          4.928722381591797,
          5.287133693695068,
          6.533250331878662,
          7.114363193511963,
          6.996795177459717,
          6.6044487953186035,
          6.607487678527832,
          7.14399528503418,
          5.471136569976807,
          5.315173625946045,
          5.458505153656006,
          5.236025810241699,
          5.323771953582764,
          5.8362555503845215,
          5.207247257232666,
          5.455817222595215,
          5.403271198272705,
          5.2237067222595215,
          5.3660993576049805,
          4.987793922424316,
          4.944698810577393,
          4.786142349243164,
          4.76143217086792,
          4.815237045288086,
          5.555278778076172,
          4.780998706817627,
          4.967964172363281,
          5.259797096252441,
          5.286779880523682,
          5.24470853805542,
          5.247072696685791,
          4.719841957092285,
          5.244812965393066,
          5.2272772789001465,
          5.182852268218994,
          5.19035530090332,
          7.052668571472168,
          6.808942794799805,
          6.824105262756348,
          6.897791862487793,
          7.094797611236572,
          5.170153617858887,
          6.83751916885376,
          6.927278518676758,
          7.0273051261901855,
          4.9256086349487305,
          6.939743995666504,
          6.96373987197876,
          6.886613368988037,
          6.90454626083374,
          4.796426296234131,
          4.8093390464782715,
          -4.502719402313232,
          -4.585200309753418,
          5.599183082580566,
          5.602032661437988,
          5.603582382202148,
          5.617811679840088,
          5.615281105041504,
          5.627771854400635,
          5.603497505187988,
          5.600793838500977,
          5.456959247589111,
          5.480106830596924,
          5.493302345275879,
          6.603643894195557,
          5.6631388664245605,
          -4.364448070526123,
          5.371036052703857,
          4.905258655548096,
          4.962203025817871,
          4.972971439361572,
          4.924659729003906,
          4.777132987976074,
          5.404653549194336,
          5.418823719024658,
          5.004483222961426,
          4.980381965637207,
          5.173251628875732,
          5.689202308654785,
          5.711443901062012,
          5.913501739501953,
          5.92539644241333,
          5.888822078704834,
          5.889735221862793,
          5.27653694152832,
          5.227277755737305,
          5.26486349105835,
          5.242170333862305,
          5.251557350158691,
          5.2434258460998535,
          5.277436256408691,
          5.257781028747559,
          5.264224052429199,
          5.281758785247803,
          5.193541526794434,
          5.169915199279785,
          4.765903949737549,
          5.86204719543457,
          4.800095558166504,
          4.799333095550537,
          4.774208068847656,
          4.77424955368042,
          4.835107326507568,
          4.762608528137207,
          4.818991184234619,
          4.748030185699463,
          5.41883659362793,
          6.900460720062256,
          7.0949835777282715,
          4.926235675811768,
          4.914551258087158,
          4.971128940582275,
          4.936119556427002,
          5.781379699707031,
          5.766018390655518,
          5.426816940307617,
          5.447059154510498,
          4.745373249053955,
          4.617250919342041,
          4.762862205505371,
          4.864041805267334,
          4.872264385223389,
          4.834118843078613,
          4.900663375854492,
          6.005655288696289
         ],
         "y": [
          0.06306876242160797,
          14.031649589538574,
          -0.054301656782627106,
          14.101835250854492,
          12.782444953918457,
          13.353830337524414,
          13.320698738098145,
          13.307389259338379,
          11.817428588867188,
          11.13965129852295,
          11.034622192382812,
          11.047075271606445,
          11.207877159118652,
          10.577608108520508,
          11.126276969909668,
          11.104068756103516,
          16.068418502807617,
          10.993599891662598,
          11.00917911529541,
          10.825225830078125,
          10.802374839782715,
          10.8466215133667,
          11.229659080505371,
          12.453864097595215,
          11.05547046661377,
          11.042022705078125,
          11.083820343017578,
          13.51234245300293,
          13.334893226623535,
          11.005431175231934,
          12.3569974899292,
          11.16950798034668,
          16.16394805908203,
          15.877703666687012,
          10.668070793151855,
          10.685998916625977,
          10.667322158813477,
          16.187114715576172,
          16.178117752075195,
          16.20578384399414,
          -0.06610780954360962,
          10.235884666442871,
          10.811684608459473,
          -0.021801859140396118,
          14.079183578491211,
          14.115925788879395,
          -0.11581499129533768,
          12.323224067687988,
          11.198403358459473,
          0.021522097289562225,
          14.056550025939941,
          13.974630355834961,
          0.042426466941833496,
          -0.0057564000599086285,
          14.060741424560547,
          10.888052940368652,
          11.045348167419434,
          10.447378158569336,
          11.181656837463379,
          11.097299575805664,
          10.400375366210938,
          12.302617073059082,
          10.953324317932129,
          11.05875301361084,
          11.205916404724121,
          11.271129608154297,
          12.298584938049316,
          12.257307052612305,
          12.530844688415527,
          12.491535186767578,
          12.429152488708496,
          11.1812162399292,
          11.542610168457031,
          13.313158988952637,
          12.33483600616455,
          12.414070129394531,
          12.348444938659668,
          12.344573974609375,
          11.64007568359375,
          12.345983505249023,
          11.339054107666016,
          11.274590492248535,
          11.388010025024414,
          14.101977348327637,
          -0.0950082466006279,
          -0.04631013795733452,
          0.041946642100811005,
          14.111491203308105,
          12.420523643493652,
          -0.010145637206733227,
          0.025292782112956047,
          14.01949405670166,
          12.5728759765625,
          14.210741996765137,
          14.161630630493164,
          -0.03488253057003021,
          0.011541320942342281,
          12.518411636352539,
          12.506677627563477,
          12.383047103881836,
          12.328997611999512,
          16.083322525024414,
          16.10547637939453,
          16.083248138427734,
          16.09433364868164,
          16.07060432434082,
          16.11663818359375,
          16.117780685424805,
          16.121618270874023,
          11.043251037597656,
          10.966801643371582,
          10.478863716125488,
          0.6587380170822144,
          9.842268943786621,
          12.480097770690918,
          16.16309356689453,
          12.747051239013672,
          12.676440238952637,
          12.68939208984375,
          12.801643371582031,
          12.830065727233887,
          16.223281860351562,
          16.216083526611328,
          13.37942886352539,
          13.257615089416504,
          16.44503402709961,
          11.61328125,
          11.611337661743164,
          10.27628231048584,
          10.24220085144043,
          10.237844467163086,
          10.211919784545898,
          16.34149742126465,
          16.398988723754883,
          16.353580474853516,
          16.369625091552734,
          16.369544982910156,
          16.3844051361084,
          16.33867835998535,
          16.371501922607422,
          16.360992431640625,
          16.360116958618164,
          16.426727294921875,
          16.438467025756836,
          12.813239097595215,
          10.460409164428711,
          11.51082992553711,
          11.514063835144043,
          11.532801628112793,
          11.532511711120605,
          12.688227653503418,
          12.808126449584961,
          12.780008316040039,
          12.81391716003418,
          16.18092918395996,
          -0.07846672087907791,
          14.123767852783203,
          12.165596008300781,
          12.148477554321289,
          12.134381294250488,
          12.128358840942383,
          11.761151313781738,
          11.778426170349121,
          15.823868751525879,
          15.776906967163086,
          12.839705467224121,
          12.7781982421875,
          12.811806678771973,
          13.243599891662598,
          13.245373725891113,
          13.237631797790527,
          13.297929763793945,
          10.705011367797852
         ],
         "z": [
          8.07098388671875,
          7.324714183807373,
          8.280645370483398,
          7.431591510772705,
          10.803561210632324,
          10.857197761535645,
          10.871814727783203,
          10.861196517944336,
          10.98702335357666,
          11.505254745483398,
          11.416845321655273,
          11.442068099975586,
          11.328503608703613,
          11.052375793457031,
          11.23730182647705,
          11.236623764038086,
          8.745985984802246,
          11.51138687133789,
          11.4808931350708,
          11.166960716247559,
          11.14628791809082,
          11.117982864379883,
          11.466632843017578,
          10.62372875213623,
          11.409268379211426,
          11.410422325134277,
          11.391111373901367,
          10.811007499694824,
          10.88308048248291,
          11.501696586608887,
          9.687915802001953,
          11.247328758239746,
          8.824934005737305,
          8.629534721374512,
          11.011404991149902,
          10.988382339477539,
          11.023270606994629,
          8.728372573852539,
          8.79220199584961,
          8.714271545410156,
          8.214569091796875,
          10.987617492675781,
          10.982198715209961,
          8.1797456741333,
          7.37573766708374,
          7.398031711578369,
          8.220183372497559,
          10.69920825958252,
          11.484746932983398,
          8.16068172454834,
          7.35755729675293,
          7.489558696746826,
          8.218791007995605,
          8.207659721374512,
          7.30366849899292,
          11.450095176696777,
          11.182254791259766,
          11.234158515930176,
          11.369577407836914,
          11.30444622039795,
          11.001972198486328,
          9.889215469360352,
          11.478665351867676,
          11.494955062866211,
          11.265217781066895,
          11.459977149963379,
          10.654974937438965,
          10.73597526550293,
          10.670217514038086,
          10.672287940979004,
          10.678421974182129,
          11.359906196594238,
          11.361618995666504,
          10.875518798828125,
          9.692581176757812,
          9.76176643371582,
          9.717507362365723,
          9.7144193649292,
          11.287546157836914,
          9.706062316894531,
          11.048625946044922,
          10.942276954650879,
          10.974164962768555,
          7.421426773071289,
          8.22118854522705,
          8.183674812316895,
          8.05314826965332,
          7.427093029022217,
          9.844695091247559,
          8.235743522644043,
          8.076089859008789,
          7.363514423370361,
          10.608296394348145,
          7.348639011383057,
          7.396153926849365,
          8.211204528808594,
          8.07165813446045,
          10.639788627624512,
          10.64940071105957,
          2.0575497150421143,
          2.0966062545776367,
          9.010945320129395,
          9.012648582458496,
          9.01246452331543,
          9.025809288024902,
          9.022821426391602,
          9.033392906188965,
          9.01833438873291,
          9.01357650756836,
          11.492313385009766,
          11.493467330932617,
          11.233112335205078,
          8.029577255249023,
          11.133207321166992,
          2.001783847808838,
          8.794105529785156,
          10.75210189819336,
          10.725762367248535,
          10.767682075500488,
          10.711843490600586,
          10.819780349731445,
          8.739651679992676,
          8.765372276306152,
          10.915642738342285,
          10.921656608581543,
          8.4254150390625,
          11.063650131225586,
          11.044955253601074,
          11.004060745239258,
          11.011855125427246,
          10.993266105651855,
          11.005952835083008,
          8.456206321716309,
          8.417526245117188,
          8.4559907913208,
          8.412615776062012,
          8.419951438903809,
          8.401606559753418,
          8.458391189575195,
          8.394283294677734,
          8.372320175170898,
          8.369080543518066,
          8.396925926208496,
          8.49594497680664,
          10.734502792358398,
          11.021777153015137,
          11.382046699523926,
          11.385210037231445,
          11.377803802490234,
          11.381006240844727,
          10.873651504516602,
          10.781092643737793,
          10.812618255615234,
          10.781219482421875,
          8.793462753295898,
          8.185437202453613,
          7.18461799621582,
          10.853839874267578,
          10.855722427368164,
          10.884013175964355,
          10.870609283447266,
          11.002158164978027,
          11.014143943786621,
          8.844976425170898,
          8.896891593933105,
          10.730823516845703,
          10.616726875305176,
          10.822113990783691,
          10.842108726501465,
          10.844983100891113,
          10.803230285644531,
          10.785776138305664,
          11.04855728149414
         ]
        },
        {
         "hoverinfo": "text",
         "marker": {
          "color": "pink",
          "size": 5
         },
         "mode": "markers",
         "name": "lepidoptera",
         "text": [
          "GBP19670_1 Protein timeless homolog [Eumeta japonica]",
          "KAI8424376_1 hypothetical protein MSG28_002902 [Choristoneura fumiferana]",
          "PZC70583_1 hypothetical protein B5X24_HaOG215582 [Helicoverpa armigera]",
          "PZC71942_1 hypothetical protein B5X24_HaOG212222 [Helicoverpa armigera]",
          "PZC76761_1 hypothetical protein B5X24_HaOG204149 [Helicoverpa armigera]",
          "PZC86677_1 hypothetical protein B5X24_HaOG206238 [Helicoverpa armigera]",
          "XP_012545048_1 protein timeless homolog isoform X1 [Bombyx mori]",
          "XP_012545050_1 protein timeless homolog isoform X3 [Bombyx mori]",
          "XP_013139047_1 PREDICTED: protein timeless homolog [Papilio polytes]",
          "XP_013165122_1 PREDICTED: protein timeless homolog isoform X1 [Papilio xuthus]",
          "XP_013165123_1 PREDICTED: protein timeless homolog isoform X2 [Papilio xuthus]",
          "XP_013190354_1 protein timeless homolog isoform X1 [Amyelois transitella]",
          "XP_013190355_1 protein timeless homolog isoform X2 [Amyelois transitella]",
          "XP_021188130_2 protein timeless homolog isoform X1 [Helicoverpa armigera]",
          "XP_021188130_3 protein timeless homolog isoform X1 [Helicoverpa armigera]",
          "XP_021188135_2 protein timeless homolog isoform X2 [Helicoverpa armigera]",
          "XP_021188135_3 protein timeless homolog isoform X2 [Helicoverpa armigera]",
          "XP_021203013_1 protein timeless homolog isoform X2 [Bombyx mori]",
          "XP_022130632_2 protein timeless homolog [Pieris rapae]",
          "XP_022825293_1 protein timeless homolog [Spodoptera litura]",
          "XP_023951788_2 protein timeless homolog [Bicyclus anynana]",
          "XP_026322138_1 protein timeless homolog [Hyposmocoma kahamanoa]",
          "XP_026737157_1 protein timeless homolog [Trichoplusia ni]",
          "XP_026755358_2 protein timeless homolog isoform X1 [Galleria mellonella]",
          "XP_028031042_1 protein timeless homolog [Bombyx mandarina]",
          "XP_028171612_1 protein timeless homolog [Ostrinia furnacalis]",
          "XP_030028363_2 protein timeless homolog [Manduca sexta]",
          "XP_031767070_2 protein timeless homolog isoform X2 [Galleria mellonella]",
          "XP_032512746_1 protein timeless homolog [Danaus plexippus plexippus]",
          "XP_034829680_1 protein timeless homolog [Maniola hyperantus]",
          "XP_037961725_2 protein timeless homolog [Plutella xylostella]",
          "XP_038223054_1 protein timeless homolog [Zerene cesonia]",
          "XP_039749472_1 protein timeless homolog [Pararge aegeria]",
          "XP_041971304_1 protein timeless homolog [Aricia agestis]",
          "XP_045446823_1 protein timeless homolog [Melitaea cinxia]",
          "XP_045494148_1 protein timeless homolog [Colias croceus]",
          "XP_045514633_1 protein timeless homolog isoform X1 [Pieris brassicae]",
          "XP_045514640_1 protein timeless homolog isoform X2 [Pieris brassicae]",
          "XP_045534788_1 protein timeless homolog isoform X1 [Papilio machaon]",
          "XP_045534789_1 protein timeless homolog isoform X2 [Papilio machaon]",
          "XP_045765294_1 protein timeless homolog isoform X1 [Maniola jurtina]",
          "XP_045765295_1 protein timeless homolog isoform X2 [Maniola jurtina]",
          "XP_046963189_1 protein timeless homolog [Vanessa cardui]",
          "XP_047022504_1 protein timeless homolog isoform X1 [Helicoverpa zea]",
          "XP_047022505_1 protein timeless homolog isoform X2 [Helicoverpa zea]",
          "XP_047526130_1 protein timeless homolog [Pieris napi]",
          "XP_047528915_1 protein timeless homolog [Vanessa atalanta]",
          "XP_047983992_1 protein timeless homolog isoform X1 [Leguminivora glycinivorella]",
          "XP_047983993_1 protein timeless homolog isoform X2 [Leguminivora glycinivorella]",
          "XP_049869881_1 protein timeless homolog [Pectinophora gossypiella]",
          "XP_050343206_1 protein timeless homolog [Nymphalis io]",
          "XP_050562246_1 protein timeless homolog [Spodoptera frugiperda]",
          "XP_050681257_1 protein timeless homolog [Leptidea sinapis]",
          "XP_052749243_1 protein timeless homolog isoform X1 [Galleria mellonella]",
          "XP_053603776_1 protein timeless homolog [Plodia interpunctella]",
          "XP_059046079_1 protein timeless homolog [Achroia grisella]",
          "XP_061377646_1 protein timeless homolog [Danaus plexippus]",
          "XP_061710979_1 protein timeless homolog [Cydia pomonella]",
          "XP_063360561_1 protein timeless homolog [Cydia amplana]",
          "XP_063377349_1 protein timeless homolog [Cydia fagiglandana]",
          "XP_063533309_1 protein timeless homolog [Cydia strobilella]",
          "XP_063619541_1 protein timeless homolog [Cydia splendana]",
          "XP_063824228_1 protein timeless homolog isoform X1 [Ostrinia nubilalis]",
          "XP_063824229_1 protein timeless homolog isoform X2 [Ostrinia nubilalis]",
          "XP_063893290_1 protein timeless homolog isoform X1 [Helicoverpa armigera]",
          "XP_064071504_1 protein timeless homolog [Vanessa tameamea]",
          "sp|Q17062_1|PER_ANTPE RecName: Full=Period circadian protein",
          "sp|Q25020_1|PER_HYACE RecName: Full=Period circadian protein",
          "sp|Q25478_1|PER_MANSE RecName: Full=Period circadian protein"
         ],
         "type": "scatter3d",
         "x": [
          6.5694499015808105,
          6.339423656463623,
          5.999791622161865,
          7.24850606918335,
          6.083394527435303,
          6.700533390045166,
          6.066986083984375,
          6.051164627075195,
          6.528932571411133,
          6.555002212524414,
          6.086767673492432,
          6.050058841705322,
          6.089943885803223,
          6.735660076141357,
          6.70203971862793,
          6.693978786468506,
          6.703727722167969,
          6.093843460083008,
          6.4960808753967285,
          6.573209762573242,
          6.174627304077148,
          5.939936637878418,
          6.475726127624512,
          6.635462284088135,
          6.026359558105469,
          6.178330421447754,
          6.006036758422852,
          6.6003737449646,
          6.404751300811768,
          6.381263256072998,
          6.272938251495361,
          6.74393367767334,
          6.406123638153076,
          6.084896564483643,
          6.410400390625,
          6.657098770141602,
          6.489145755767822,
          6.474384784698486,
          6.60029935836792,
          6.594576835632324,
          6.11065673828125,
          6.099768161773682,
          6.018249034881592,
          6.7407917976379395,
          6.714231967926025,
          6.427439212799072,
          6.0208330154418945,
          6.224423885345459,
          6.187805652618408,
          6.0759196281433105,
          6.018345832824707,
          6.4126458168029785,
          6.41124963760376,
          6.572925567626953,
          6.222418785095215,
          6.716409683227539,
          6.416658878326416,
          6.241827487945557,
          6.248485088348389,
          6.294350624084473,
          6.228942394256592,
          6.263862609863281,
          6.159316539764404,
          6.101470947265625,
          6.67390251159668,
          6.019232749938965,
          6.788059711456299,
          6.761898517608643,
          6.655032634735107
         ],
         "y": [
          6.414572715759277,
          6.444046497344971,
          0.07293134927749634,
          14.025965690612793,
          0.06804274022579193,
          5.9681878089904785,
          5.88066291809082,
          6.352789402008057,
          6.462245464324951,
          6.379716396331787,
          6.654464244842529,
          5.907114028930664,
          5.933542728424072,
          5.9194865226745605,
          5.958453178405762,
          5.974216461181641,
          5.964985370635986,
          5.935722827911377,
          6.234959602355957,
          6.136419773101807,
          6.4001030921936035,
          9.881836891174316,
          6.242784023284912,
          6.354698181152344,
          5.902512073516846,
          5.774875164031982,
          5.824416637420654,
          6.234150409698486,
          6.2056803703308105,
          6.053972244262695,
          6.6001152992248535,
          5.898739337921143,
          6.262784004211426,
          5.942734241485596,
          6.350558757781982,
          5.9208598136901855,
          6.318897247314453,
          6.284155368804932,
          6.389270782470703,
          6.389404773712158,
          5.858682632446289,
          5.899382591247559,
          5.818603515625,
          6.039715766906738,
          5.958817958831787,
          6.329341411590576,
          5.832211017608643,
          6.557216167449951,
          6.593086242675781,
          5.916862487792969,
          5.823586940765381,
          6.089476108551025,
          6.073633670806885,
          6.352406978607178,
          6.511316776275635,
          6.409109592437744,
          6.152255058288574,
          6.539334774017334,
          6.5822834968566895,
          6.475687503814697,
          6.538907051086426,
          6.562017440795898,
          5.808762550354004,
          5.82818603515625,
          5.976845741271973,
          5.82923698425293,
          14.399871826171875,
          0.2598939538002014,
          0.25233373045921326
         ],
         "z": [
          10.782513618469238,
          10.648229598999023,
          8.191514015197754,
          7.271430969238281,
          8.194930076599121,
          10.932570457458496,
          10.38916301727295,
          10.370986938476562,
          10.499716758728027,
          10.645282745361328,
          10.388435363769531,
          10.390840530395508,
          10.413613319396973,
          10.972542762756348,
          10.938786506652832,
          10.927340507507324,
          10.949054718017578,
          10.413968086242676,
          10.494394302368164,
          10.858820915222168,
          10.756185531616211,
          10.6072998046875,
          10.828972816467285,
          10.850385665893555,
          10.352445602416992,
          10.532233238220215,
          10.273643493652344,
          10.866403579711914,
          10.721418380737305,
          10.779890060424805,
          10.677011489868164,
          10.983677864074707,
          10.861150741577148,
          10.439884185791016,
          10.493446350097656,
          10.882841110229492,
          10.469754219055176,
          10.492039680480957,
          10.66010570526123,
          10.667415618896484,
          10.473001480102539,
          10.442516326904297,
          10.246926307678223,
          10.971068382263184,
          10.956440925598145,
          10.484246253967285,
          10.253811836242676,
          10.614019393920898,
          10.658848762512207,
          10.432626724243164,
          10.246880531311035,
          10.786540031433105,
          10.648347854614258,
          10.8154296875,
          10.56928825378418,
          10.910455703735352,
          10.67536449432373,
          10.574151039123535,
          10.5726957321167,
          10.560980796813965,
          10.59350872039795,
          10.648629188537598,
          10.530797958374023,
          10.473125457763672,
          10.90722942352295,
          10.250191688537598,
          7.601171970367432,
          8.136710166931152,
          8.06643295288086
         ]
        },
        {
         "hoverinfo": "text",
         "marker": {
          "color": "brown",
          "size": 5
         },
         "mode": "markers",
         "name": "odonata",
         "text": [
          "XP_046407332_1 protein timeless homolog [Ischnura elegans]"
         ],
         "type": "scatter3d",
         "x": [
          5.505252838134766
         ],
         "y": [
          15.727714538574219
         ],
         "z": [
          8.93764591217041
         ]
        },
        {
         "hoverinfo": "text",
         "marker": {
          "color": "yellow",
          "size": 5
         },
         "mode": "markers",
         "name": "orthoptera",
         "text": [
          "XP_046982697_1 protein timeless homolog [Schistocerca americana]",
          "XP_047100393_1 protein timeless homolog [Schistocerca piceifrons]",
          "XP_049770457_1 protein timeless homolog [Schistocerca cancellata]",
          "XP_049797672_1 protein timeless homolog [Schistocerca nitens]",
          "XP_049842526_1 protein timeless homolog [Schistocerca gregaria]",
          "XP_049849404_1 protein timeless homolog [Schistocerca gregaria]",
          "XP_049945993_1 protein timeless homolog [Schistocerca serialis cubense]"
         ],
         "type": "scatter3d",
         "x": [
          5.295350074768066,
          5.29243278503418,
          5.292121887207031,
          5.2908525466918945,
          5.291438579559326,
          5.667602062225342,
          5.2894721031188965
         ],
         "y": [
          11.353277206420898,
          11.381120681762695,
          11.362159729003906,
          11.384135246276855,
          11.38055419921875,
          9.52863597869873,
          11.369829177856445
         ],
         "z": [
          9.217639923095703,
          9.227086067199707,
          9.214065551757812,
          9.219721794128418,
          9.2221097946167,
          10.642166137695312,
          9.206077575683594
         ]
        }
       ],
       "layout": {
        "height": 1000,
        "legend": {
         "title": {
          "text": "Clade"
         }
        },
        "scene": {
         "xaxis": {
          "title": {
           "text": "UMAP Dimension 1"
          }
         },
         "yaxis": {
          "title": {
           "text": "UMAP Dimension 2"
          }
         },
         "zaxis": {
          "title": {
           "text": "UMAP Dimension 3"
          }
         }
        },
        "template": {
         "data": {
          "bar": [
           {
            "error_x": {
             "color": "#2a3f5f"
            },
            "error_y": {
             "color": "#2a3f5f"
            },
            "marker": {
             "line": {
              "color": "#E5ECF6",
              "width": 0.5
             },
             "pattern": {
              "fillmode": "overlay",
              "size": 10,
              "solidity": 0.2
             }
            },
            "type": "bar"
           }
          ],
          "barpolar": [
           {
            "marker": {
             "line": {
              "color": "#E5ECF6",
              "width": 0.5
             },
             "pattern": {
              "fillmode": "overlay",
              "size": 10,
              "solidity": 0.2
             }
            },
            "type": "barpolar"
           }
          ],
          "carpet": [
           {
            "aaxis": {
             "endlinecolor": "#2a3f5f",
             "gridcolor": "white",
             "linecolor": "white",
             "minorgridcolor": "white",
             "startlinecolor": "#2a3f5f"
            },
            "baxis": {
             "endlinecolor": "#2a3f5f",
             "gridcolor": "white",
             "linecolor": "white",
             "minorgridcolor": "white",
             "startlinecolor": "#2a3f5f"
            },
            "type": "carpet"
           }
          ],
          "choropleth": [
           {
            "colorbar": {
             "outlinewidth": 0,
             "ticks": ""
            },
            "type": "choropleth"
           }
          ],
          "contour": [
           {
            "colorbar": {
             "outlinewidth": 0,
             "ticks": ""
            },
            "colorscale": [
             [
              0,
              "#0d0887"
             ],
             [
              0.1111111111111111,
              "#46039f"
             ],
             [
              0.2222222222222222,
              "#7201a8"
             ],
             [
              0.3333333333333333,
              "#9c179e"
             ],
             [
              0.4444444444444444,
              "#bd3786"
             ],
             [
              0.5555555555555556,
              "#d8576b"
             ],
             [
              0.6666666666666666,
              "#ed7953"
             ],
             [
              0.7777777777777778,
              "#fb9f3a"
             ],
             [
              0.8888888888888888,
              "#fdca26"
             ],
             [
              1,
              "#f0f921"
             ]
            ],
            "type": "contour"
           }
          ],
          "contourcarpet": [
           {
            "colorbar": {
             "outlinewidth": 0,
             "ticks": ""
            },
            "type": "contourcarpet"
           }
          ],
          "heatmap": [
           {
            "colorbar": {
             "outlinewidth": 0,
             "ticks": ""
            },
            "colorscale": [
             [
              0,
              "#0d0887"
             ],
             [
              0.1111111111111111,
              "#46039f"
             ],
             [
              0.2222222222222222,
              "#7201a8"
             ],
             [
              0.3333333333333333,
              "#9c179e"
             ],
             [
              0.4444444444444444,
              "#bd3786"
             ],
             [
              0.5555555555555556,
              "#d8576b"
             ],
             [
              0.6666666666666666,
              "#ed7953"
             ],
             [
              0.7777777777777778,
              "#fb9f3a"
             ],
             [
              0.8888888888888888,
              "#fdca26"
             ],
             [
              1,
              "#f0f921"
             ]
            ],
            "type": "heatmap"
           }
          ],
          "heatmapgl": [
           {
            "colorbar": {
             "outlinewidth": 0,
             "ticks": ""
            },
            "colorscale": [
             [
              0,
              "#0d0887"
             ],
             [
              0.1111111111111111,
              "#46039f"
             ],
             [
              0.2222222222222222,
              "#7201a8"
             ],
             [
              0.3333333333333333,
              "#9c179e"
             ],
             [
              0.4444444444444444,
              "#bd3786"
             ],
             [
              0.5555555555555556,
              "#d8576b"
             ],
             [
              0.6666666666666666,
              "#ed7953"
             ],
             [
              0.7777777777777778,
              "#fb9f3a"
             ],
             [
              0.8888888888888888,
              "#fdca26"
             ],
             [
              1,
              "#f0f921"
             ]
            ],
            "type": "heatmapgl"
           }
          ],
          "histogram": [
           {
            "marker": {
             "pattern": {
              "fillmode": "overlay",
              "size": 10,
              "solidity": 0.2
             }
            },
            "type": "histogram"
           }
          ],
          "histogram2d": [
           {
            "colorbar": {
             "outlinewidth": 0,
             "ticks": ""
            },
            "colorscale": [
             [
              0,
              "#0d0887"
             ],
             [
              0.1111111111111111,
              "#46039f"
             ],
             [
              0.2222222222222222,
              "#7201a8"
             ],
             [
              0.3333333333333333,
              "#9c179e"
             ],
             [
              0.4444444444444444,
              "#bd3786"
             ],
             [
              0.5555555555555556,
              "#d8576b"
             ],
             [
              0.6666666666666666,
              "#ed7953"
             ],
             [
              0.7777777777777778,
              "#fb9f3a"
             ],
             [
              0.8888888888888888,
              "#fdca26"
             ],
             [
              1,
              "#f0f921"
             ]
            ],
            "type": "histogram2d"
           }
          ],
          "histogram2dcontour": [
           {
            "colorbar": {
             "outlinewidth": 0,
             "ticks": ""
            },
            "colorscale": [
             [
              0,
              "#0d0887"
             ],
             [
              0.1111111111111111,
              "#46039f"
             ],
             [
              0.2222222222222222,
              "#7201a8"
             ],
             [
              0.3333333333333333,
              "#9c179e"
             ],
             [
              0.4444444444444444,
              "#bd3786"
             ],
             [
              0.5555555555555556,
              "#d8576b"
             ],
             [
              0.6666666666666666,
              "#ed7953"
             ],
             [
              0.7777777777777778,
              "#fb9f3a"
             ],
             [
              0.8888888888888888,
              "#fdca26"
             ],
             [
              1,
              "#f0f921"
             ]
            ],
            "type": "histogram2dcontour"
           }
          ],
          "mesh3d": [
           {
            "colorbar": {
             "outlinewidth": 0,
             "ticks": ""
            },
            "type": "mesh3d"
           }
          ],
          "parcoords": [
           {
            "line": {
             "colorbar": {
              "outlinewidth": 0,
              "ticks": ""
             }
            },
            "type": "parcoords"
           }
          ],
          "pie": [
           {
            "automargin": true,
            "type": "pie"
           }
          ],
          "scatter": [
           {
            "fillpattern": {
             "fillmode": "overlay",
             "size": 10,
             "solidity": 0.2
            },
            "type": "scatter"
           }
          ],
          "scatter3d": [
           {
            "line": {
             "colorbar": {
              "outlinewidth": 0,
              "ticks": ""
             }
            },
            "marker": {
             "colorbar": {
              "outlinewidth": 0,
              "ticks": ""
             }
            },
            "type": "scatter3d"
           }
          ],
          "scattercarpet": [
           {
            "marker": {
             "colorbar": {
              "outlinewidth": 0,
              "ticks": ""
             }
            },
            "type": "scattercarpet"
           }
          ],
          "scattergeo": [
           {
            "marker": {
             "colorbar": {
              "outlinewidth": 0,
              "ticks": ""
             }
            },
            "type": "scattergeo"
           }
          ],
          "scattergl": [
           {
            "marker": {
             "colorbar": {
              "outlinewidth": 0,
              "ticks": ""
             }
            },
            "type": "scattergl"
           }
          ],
          "scattermapbox": [
           {
            "marker": {
             "colorbar": {
              "outlinewidth": 0,
              "ticks": ""
             }
            },
            "type": "scattermapbox"
           }
          ],
          "scatterpolar": [
           {
            "marker": {
             "colorbar": {
              "outlinewidth": 0,
              "ticks": ""
             }
            },
            "type": "scatterpolar"
           }
          ],
          "scatterpolargl": [
           {
            "marker": {
             "colorbar": {
              "outlinewidth": 0,
              "ticks": ""
             }
            },
            "type": "scatterpolargl"
           }
          ],
          "scatterternary": [
           {
            "marker": {
             "colorbar": {
              "outlinewidth": 0,
              "ticks": ""
             }
            },
            "type": "scatterternary"
           }
          ],
          "surface": [
           {
            "colorbar": {
             "outlinewidth": 0,
             "ticks": ""
            },
            "colorscale": [
             [
              0,
              "#0d0887"
             ],
             [
              0.1111111111111111,
              "#46039f"
             ],
             [
              0.2222222222222222,
              "#7201a8"
             ],
             [
              0.3333333333333333,
              "#9c179e"
             ],
             [
              0.4444444444444444,
              "#bd3786"
             ],
             [
              0.5555555555555556,
              "#d8576b"
             ],
             [
              0.6666666666666666,
              "#ed7953"
             ],
             [
              0.7777777777777778,
              "#fb9f3a"
             ],
             [
              0.8888888888888888,
              "#fdca26"
             ],
             [
              1,
              "#f0f921"
             ]
            ],
            "type": "surface"
           }
          ],
          "table": [
           {
            "cells": {
             "fill": {
              "color": "#EBF0F8"
             },
             "line": {
              "color": "white"
             }
            },
            "header": {
             "fill": {
              "color": "#C8D4E3"
             },
             "line": {
              "color": "white"
             }
            },
            "type": "table"
           }
          ]
         },
         "layout": {
          "annotationdefaults": {
           "arrowcolor": "#2a3f5f",
           "arrowhead": 0,
           "arrowwidth": 1
          },
          "autotypenumbers": "strict",
          "coloraxis": {
           "colorbar": {
            "outlinewidth": 0,
            "ticks": ""
           }
          },
          "colorscale": {
           "diverging": [
            [
             0,
             "#8e0152"
            ],
            [
             0.1,
             "#c51b7d"
            ],
            [
             0.2,
             "#de77ae"
            ],
            [
             0.3,
             "#f1b6da"
            ],
            [
             0.4,
             "#fde0ef"
            ],
            [
             0.5,
             "#f7f7f7"
            ],
            [
             0.6,
             "#e6f5d0"
            ],
            [
             0.7,
             "#b8e186"
            ],
            [
             0.8,
             "#7fbc41"
            ],
            [
             0.9,
             "#4d9221"
            ],
            [
             1,
             "#276419"
            ]
           ],
           "sequential": [
            [
             0,
             "#0d0887"
            ],
            [
             0.1111111111111111,
             "#46039f"
            ],
            [
             0.2222222222222222,
             "#7201a8"
            ],
            [
             0.3333333333333333,
             "#9c179e"
            ],
            [
             0.4444444444444444,
             "#bd3786"
            ],
            [
             0.5555555555555556,
             "#d8576b"
            ],
            [
             0.6666666666666666,
             "#ed7953"
            ],
            [
             0.7777777777777778,
             "#fb9f3a"
            ],
            [
             0.8888888888888888,
             "#fdca26"
            ],
            [
             1,
             "#f0f921"
            ]
           ],
           "sequentialminus": [
            [
             0,
             "#0d0887"
            ],
            [
             0.1111111111111111,
             "#46039f"
            ],
            [
             0.2222222222222222,
             "#7201a8"
            ],
            [
             0.3333333333333333,
             "#9c179e"
            ],
            [
             0.4444444444444444,
             "#bd3786"
            ],
            [
             0.5555555555555556,
             "#d8576b"
            ],
            [
             0.6666666666666666,
             "#ed7953"
            ],
            [
             0.7777777777777778,
             "#fb9f3a"
            ],
            [
             0.8888888888888888,
             "#fdca26"
            ],
            [
             1,
             "#f0f921"
            ]
           ]
          },
          "colorway": [
           "#636efa",
           "#EF553B",
           "#00cc96",
           "#ab63fa",
           "#FFA15A",
           "#19d3f3",
           "#FF6692",
           "#B6E880",
           "#FF97FF",
           "#FECB52"
          ],
          "font": {
           "color": "#2a3f5f"
          },
          "geo": {
           "bgcolor": "white",
           "lakecolor": "white",
           "landcolor": "#E5ECF6",
           "showlakes": true,
           "showland": true,
           "subunitcolor": "white"
          },
          "hoverlabel": {
           "align": "left"
          },
          "hovermode": "closest",
          "mapbox": {
           "style": "light"
          },
          "paper_bgcolor": "white",
          "plot_bgcolor": "#E5ECF6",
          "polar": {
           "angularaxis": {
            "gridcolor": "white",
            "linecolor": "white",
            "ticks": ""
           },
           "bgcolor": "#E5ECF6",
           "radialaxis": {
            "gridcolor": "white",
            "linecolor": "white",
            "ticks": ""
           }
          },
          "scene": {
           "xaxis": {
            "backgroundcolor": "#E5ECF6",
            "gridcolor": "white",
            "gridwidth": 2,
            "linecolor": "white",
            "showbackground": true,
            "ticks": "",
            "zerolinecolor": "white"
           },
           "yaxis": {
            "backgroundcolor": "#E5ECF6",
            "gridcolor": "white",
            "gridwidth": 2,
            "linecolor": "white",
            "showbackground": true,
            "ticks": "",
            "zerolinecolor": "white"
           },
           "zaxis": {
            "backgroundcolor": "#E5ECF6",
            "gridcolor": "white",
            "gridwidth": 2,
            "linecolor": "white",
            "showbackground": true,
            "ticks": "",
            "zerolinecolor": "white"
           }
          },
          "shapedefaults": {
           "line": {
            "color": "#2a3f5f"
           }
          },
          "ternary": {
           "aaxis": {
            "gridcolor": "white",
            "linecolor": "white",
            "ticks": ""
           },
           "baxis": {
            "gridcolor": "white",
            "linecolor": "white",
            "ticks": ""
           },
           "bgcolor": "#E5ECF6",
           "caxis": {
            "gridcolor": "white",
            "linecolor": "white",
            "ticks": ""
           }
          },
          "title": {
           "x": 0.05
          },
          "xaxis": {
           "automargin": true,
           "gridcolor": "white",
           "linecolor": "white",
           "ticks": "",
           "title": {
            "standoff": 15
           },
           "zerolinecolor": "white",
           "zerolinewidth": 2
          },
          "yaxis": {
           "automargin": true,
           "gridcolor": "white",
           "linecolor": "white",
           "ticks": "",
           "title": {
            "standoff": 15
           },
           "zerolinecolor": "white",
           "zerolinewidth": 2
          }
         }
        },
        "title": {
         "text": "3D UMAP Projection of Protein Embeddings by Insect Clade"
        },
        "width": 1200
       }
      }
     },
     "metadata": {},
     "output_type": "display_data"
    }
   ],
   "source": [
    "# Create a new figure for 3D plotting\n",
    "fig = go.Figure()\n",
    "\n",
    "# Plot each clade's points in the 3D space\n",
    "for clade in embeddings_data.keys():\n",
    "    indices = (all_labels_3d == clade)\n",
    "    fig.add_trace(go.Scatter3d(\n",
    "        x=embedded_data_3d[indices, 0],\n",
    "        y=embedded_data_3d[indices, 1],\n",
    "        z=embedded_data_3d[indices, 2],\n",
    "        mode='markers',\n",
    "        marker=dict(\n",
    "            size=5,\n",
    "            color=color_map[clade],\n",
    "        ),\n",
    "        text=keys_data[clade],\n",
    "        hoverinfo=\"text\",\n",
    "        name=clade\n",
    "    ))\n",
    "\n",
    "# Set the title and labels\n",
    "fig.update_layout(\n",
    "    title='3D UMAP Projection of Protein Embeddings by Insect Clade',\n",
    "    scene=dict(\n",
    "        xaxis_title='UMAP Dimension 1',\n",
    "        yaxis_title='UMAP Dimension 2',\n",
    "        zaxis_title='UMAP Dimension 3'\n",
    "    ),\n",
    "    legend_title=\"Clade\",\n",
    "    width=1200,\n",
    "    height=1000,\n",
    ")\n",
    "\n",
    "# Show plot\n",
    "fig.show()"
   ]
  },
  {
   "cell_type": "code",
   "execution_count": 18,
   "metadata": {},
   "outputs": [
    {
     "name": "stderr",
     "output_type": "stream",
     "text": [
      "c:\\ProgramData\\anaconda3\\envs\\ml\\Lib\\site-packages\\umap\\umap_.py:1943: UserWarning:\n",
      "\n",
      "n_jobs value -1 overridden to 1 by setting random_state. Use no seed for parallelism.\n",
      "\n"
     ]
    }
   ],
   "source": [
    "# Initialize UMAP for 2D projection\n",
    "umap_reducer_2d = UMAP(n_components=2, n_neighbors=30, min_dist=0.0, random_state=42)\n",
    "\n",
    "# Concatenate all embeddings for fitting\n",
    "all_embeddings_2d = np.concatenate(list(embeddings_data.values()))\n",
    "all_labels_2d = np.concatenate([[clade] * len(data) for clade, data in embeddings_data.items()])\n",
    "\n",
    "# Fit UMAP\n",
    "embedded_data_2d = umap_reducer_2d.fit_transform(all_embeddings_2d)"
   ]
  },
  {
   "cell_type": "code",
   "execution_count": 48,
   "metadata": {},
   "outputs": [
    {
     "data": {
      "application/vnd.plotly.v1+json": {
       "config": {
        "plotlyServerURL": "https://plot.ly"
       },
       "data": [
        {
         "hoverinfo": "text",
         "marker": {
          "color": "red",
          "size": 5
         },
         "mode": "markers",
         "name": "coleoptera",
         "text": [
          "CAK1651321_1 Protein timeless homolog [Acanthoscelides obtectus]",
          "CAK1651322_1 Protein timeless homolog [Acanthoscelides obtectus]",
          "CAK1651328_1 Protein timeless homolog [Acanthoscelides obtectus]",
          "CAK1651332_1 Protein timeless homolog [Acanthoscelides obtectus]",
          "CAK1657700_1 Protein timeless homolog [Acanthoscelides obtectus]",
          "CAK1664182_1 Protein timeless homolog [Acanthoscelides obtectus]",
          "KAF7271216_1 hypothetical protein GWI33_015878 [Rhynchophorus ferrugineus]",
          "KAF7275727_1 hypothetical protein GWI33_011329, partial [Rhynchophorus ferrugineus]",
          "KAF7276150_1 hypothetical protein GWI33_010874, partial [Rhynchophorus ferrugineus]",
          "KAF7276725_1 hypothetical protein GWI33_009884, partial [Rhynchophorus ferrugineus]",
          "KAF7277062_1 hypothetical protein GWI33_009485, partial [Rhynchophorus ferrugineus]",
          "KAF7285717_1 hypothetical protein GWI33_010138 [Rhynchophorus ferrugineus]",
          "XP_008201051_1 protein timeless homolog isoform X1 [Tribolium castaneum]",
          "XP_015840765_1 protein timeless homolog isoform X2 [Tribolium castaneum]",
          "XP_017771147_1 PREDICTED: protein timeless homolog [Nicrophorus vespilloides]",
          "XP_017783660_1 PREDICTED: protein timeless homolog, partial [Nicrophorus vespilloides]",
          "XP_018327682_1 protein timeless homolog [Agrilus planipennis]",
          "XP_018561954_1 protein timeless homolog [Anoplophora glabripennis]",
          "XP_019866643_2 protein timeless homolog [Aethina tumida]",
          "XP_022919507_1 protein timeless homolog [Onthophagus taurus]",
          "XP_023016006_1 protein timeless homolog [Leptinotarsa decemlineata]",
          "XP_028140690_1 protein timeless homolog [Diabrotica virgifera virgifera]",
          "XP_030750597_1 protein timeless homolog [Sitophilus oryzae]",
          "XP_031332510_1 protein timeless homolog [Photinus pyralis]",
          "XP_044258885_1 protein timeless homolog [Tribolium madens]",
          "XP_044762559_1 protein timeless homolog [Coccinella septempunctata]",
          "XP_045461505_1 protein timeless homolog isoform X1 [Harmonia axyridis]",
          "XP_045461506_1 protein timeless homolog isoform X2 [Harmonia axyridis]",
          "XP_048519526_1 protein timeless homolog isoform X1 [Dendroctonus ponderosae]",
          "XP_048519560_1 protein timeless homolog isoform X2 [Dendroctonus ponderosae]",
          "XP_048519588_1 protein timeless homolog isoform X3 [Dendroctonus ponderosae]",
          "XP_050308820_1 protein timeless homolog [Anthonomus grandis grandis]",
          "XP_056642812_1 protein timeless homolog [Diorhabda sublineata]",
          "XP_056642813_1 protein timeless homolog [Diorhabda sublineata]",
          "XP_056642814_1 protein timeless homolog [Diorhabda sublineata]",
          "XP_057660653_1 protein timeless homolog [Diorhabda carinulata]",
          "XP_057660654_1 protein timeless homolog [Diorhabda carinulata]",
          "XP_057660656_1 protein timeless homolog [Diorhabda carinulata]",
          "XP_057660657_1 protein timeless homolog [Diorhabda carinulata]",
          "XP_060524213_1 protein timeless homolog isoform X1 [Cylas formicarius]",
          "XP_060524214_1 protein timeless homolog isoform X2 [Cylas formicarius]",
          "XP_063908888_1 protein timeless homolog [Zophobas morio]"
         ],
         "type": "scatter",
         "x": [
          5.975992679595947,
          6.804302215576172,
          6.57112979888916,
          6.835041522979736,
          6.77655553817749,
          5.2566680908203125,
          5.128159046173096,
          6.9126482009887695,
          6.874776363372803,
          6.970334053039551,
          6.977668285369873,
          6.19235897064209,
          10.258048057556152,
          10.256701469421387,
          6.251828193664551,
          5.274956703186035,
          7.035319805145264,
          1.2900184392929077,
          1.2451893091201782,
          10.166321754455566,
          7.819231986999512,
          9.931602478027344,
          1.3966377973556519,
          9.35987663269043,
          10.33426570892334,
          6.933681488037109,
          6.956742286682129,
          6.893147945404053,
          9.916631698608398,
          9.934624671936035,
          10.21931266784668,
          10.144095420837402,
          9.654508590698242,
          9.644131660461426,
          9.641865730285645,
          9.627411842346191,
          9.639435768127441,
          9.634026527404785,
          9.640413284301758,
          10.07485580444336,
          6.681410789489746,
          10.138083457946777
         ],
         "y": [
          -4.064380168914795,
          -3.8255767822265625,
          -4.754274845123291,
          -3.907752752304077,
          -3.9817681312561035,
          11.445276260375977,
          11.3134183883667,
          -3.5086886882781982,
          -3.473886728286743,
          -3.48795747756958,
          -3.464261770248413,
          -3.6281557083129883,
          9.401650428771973,
          9.476489067077637,
          -3.5766971111297607,
          11.465899467468262,
          13.993451118469238,
          9.678744316101074,
          9.665460586547852,
          7.796505451202393,
          10.104138374328613,
          7.4269232749938965,
          9.624988555908203,
          9.632131576538086,
          9.419011116027832,
          13.922013282775879,
          14.135984420776367,
          13.97248363494873,
          6.402228355407715,
          6.407532691955566,
          8.837140083312988,
          7.721342086791992,
          7.042882919311523,
          7.037660598754883,
          7.03646183013916,
          7.007867336273193,
          7.020274639129639,
          7.014986991882324,
          7.0064215660095215,
          9.003111839294434,
          -3.1832544803619385,
          9.411053657531738
         ]
        },
        {
         "hoverinfo": "text",
         "marker": {
          "color": "blue",
          "size": 5
         },
         "mode": "markers",
         "name": "diptera",
         "text": [
          "AAC39101_1 CLOCK [Drosophila melanogaster]",
          "BFF90723_1 protein timeless homolog [Drosophila madeirensis]",
          "JAC98811_1 Protein timeless homolog [Zeugodacus cucurbitae]",
          "SPP87904_1 blast:Protein timeless homolog [Drosophila guanche]",
          "XP_001953059_3 protein timeless homolog [Drosophila ananassae]",
          "XP_001980312_1 protein timeless homolog [Drosophila erecta]",
          "XP_001998905_3 protein timeless homolog [Drosophila mojavensis]",
          "XP_002031370_1 protein timeless homolog isoform X2 [Drosophila sechellia]",
          "XP_002056175_1 protein timeless homolog [Drosophila virilis]",
          "XP_002097485_2 protein timeless homolog [Drosophila yakuba]",
          "XP_016034895_1 protein timeless homolog [Drosophila simulans]",
          "XP_016949738_1 protein timeless homolog [Drosophila biarmipes]",
          "XP_017020269_1 protein timeless homolog [Drosophila kikkawai]",
          "XP_017039962_1 protein timeless homolog isoform X1 [Drosophila ficusphila]",
          "XP_017039963_1 protein timeless homolog isoform X2 [Drosophila ficusphila]",
          "XP_017039964_1 protein timeless homolog isoform X2 [Drosophila ficusphila]",
          "XP_017084436_2 LOW QUALITY PROTEIN: protein timeless homolog [Drosophila eugracilis]",
          "XP_017104534_2 protein timeless homolog isoform X1 [Drosophila bipectinata]",
          "XP_017104535_2 protein timeless homolog isoform X2 [Drosophila bipectinata]",
          "XP_017110468_1 protein timeless homolog [Drosophila elegans]",
          "XP_017143003_1 protein timeless homolog [Drosophila miranda]",
          "XP_017475253_1 PREDICTED: protein timeless homolog, partial [Rhagoletis zephyria]",
          "XP_017478984_1 PREDICTED: protein timeless homolog [Rhagoletis zephyria]",
          "XP_017481394_1 PREDICTED: protein timeless homolog, partial [Rhagoletis zephyria]",
          "XP_017482642_1 PREDICTED: protein timeless homolog, partial [Rhagoletis zephyria]",
          "XP_017486485_1 PREDICTED: protein timeless homolog, partial [Rhagoletis zephyria]",
          "XP_017487645_1 PREDICTED: protein timeless homolog, partial [Rhagoletis zephyria]",
          "XP_017492742_1 PREDICTED: protein timeless homolog [Rhagoletis zephyria]",
          "XP_017844954_1 protein timeless homolog [Drosophila busckii]",
          "XP_017855718_1 PREDICTED: protein timeless homolog [Drosophila arizonae]",
          "XP_017968856_1 protein timeless homolog isoform X1 [Drosophila navojoa]",
          "XP_017968857_1 protein timeless homolog isoform X2 [Drosophila navojoa]",
          "XP_018786691_1 PREDICTED: protein timeless homolog, partial [Bactrocera latifrons]",
          "XP_018803058_1 PREDICTED: protein timeless homolog [Bactrocera latifrons]",
          "XP_020811280_1 protein timeless homolog [Drosophila serrata]",
          "XP_021704743_1 protein timeless homolog [Aedes aegypti]",
          "XP_022211508_2 LOW QUALITY PROTEIN: protein timeless homolog [Drosophila obscura]",
          "XP_023035402_1 protein timeless homolog [Drosophila willistoni]",
          "XP_023158519_1 protein timeless homolog [Ceratitis capitata]",
          "XP_023158675_1 protein timeless homolog [Ceratitis capitata]",
          "XP_026845744_1 protein timeless homolog [Drosophila persimilis]",
          "XP_030080650_1 protein timeless homolog [Drosophila hydei]",
          "XP_030080772_1 protein timeless homolog [Drosophila hydei]",
          "XP_030370378_1 protein timeless homolog [Scaptodrosophila lebanonensis]",
          "XP_030558784_1 protein timeless homolog isoform X1 [Drosophila novamexicana]",
          "XP_030558785_1 protein timeless homolog isoform X2 [Drosophila novamexicana]",
          "XP_031631724_1 protein timeless homolog [Contarinia nasturtii]",
          "XP_032576688_1 protein timeless homolog isoform X1 [Drosophila sechellia]",
          "XP_032593051_1 LOW QUALITY PROTEIN: protein timeless homolog [Drosophila grimshawi]",
          "XP_033149795_1 protein timeless homolog [Drosophila busckii]",
          "XP_033162455_1 protein timeless homolog [Drosophila mauritiana]",
          "XP_033235075_1 protein timeless homolog [Drosophila pseudoobscura]",
          "XP_034112918_2 protein timeless homolog [Drosophila albomicans]",
          "XP_034137511_1 protein timeless homolog [Drosophila guanche]",
          "XP_034485285_1 protein timeless homolog [Drosophila innubila]",
          "XP_034660738_1 protein timeless homolog [Drosophila subobscura]",
          "XP_035774369_1 protein timeless homolog [Anopheles albimanus]",
          "XP_035903529_1 protein timeless homolog isoform X1 [Anopheles stephensi]",
          "XP_035903530_1 protein timeless homolog isoform X2 [Anopheles stephensi]",
          "XP_036217632_1 LOW QUALITY PROTEIN: protein timeless homolog [Bactrocera oleae]",
          "XP_036221609_1 protein timeless homolog, partial [Bactrocera oleae]",
          "XP_036324507_1 protein timeless homolog [Rhagoletis pomonella]",
          "XP_036325088_1 protein timeless homolog [Rhagoletis pomonella]",
          "XP_036325089_1 protein timeless homolog [Rhagoletis pomonella]",
          "XP_036673902_1 protein timeless homolog [Drosophila suzukii]",
          "XP_037029927_1 protein timeless homolog [Bradysia coprophila]",
          "XP_037710339_1 protein timeless homolog [Drosophila subpulchrella]",
          "XP_037810211_1 protein timeless homolog, partial [Lucilia sericata]",
          "XP_037818705_1 protein timeless homolog, partial [Lucilia sericata]",
          "XP_037823816_1 protein timeless homolog, partial [Lucilia sericata]",
          "XP_037891579_1 protein timeless homolog [Glossina fuscipes]",
          "XP_037898745_1 protein timeless homolog [Glossina fuscipes]",
          "XP_037910311_1 protein timeless homolog [Hermetia illucens]",
          "XP_037944705_1 protein timeless homolog [Teleopsis dalmanni]",
          "XP_038119185_1 protein timeless homolog [Culex quinquefasciatus]",
          "XP_039444112_1 protein timeless homolog [Culex pipiens pallens]",
          "XP_039490573_1 protein timeless homolog [Drosophila santomea]",
          "XP_039970840_1 protein timeless homolog [Bactrocera tryoni]",
          "XP_040169072_1 protein timeless homolog [Anopheles arabiensis]",
          "XP_040236697_2 protein timeless homolog [Anopheles coluzzii]",
          "XP_041783569_1 protein timeless homolog [Anopheles merus]",
          "XP_041787849_1 protein timeless homolog [Anopheles merus]",
          "XP_043651501_1 protein timeless homolog [Drosophila teissieri]",
          "XP_044250121_1 protein timeless homolog [Drosophila takahashii]",
          "XP_044250122_1 protein timeless homolog [Drosophila takahashii]",
          "XP_044313331_1 protein timeless homolog [Drosophila rhopaloa]",
          "XP_046806289_1 protein timeless homolog [Lucilia cuprina]",
          "XP_049288882_1 protein timeless homolog [Anopheles funestus]",
          "XP_049304185_1 protein timeless homolog [Bactrocera dorsalis]",
          "XP_049549391_1 protein timeless homolog [Anopheles darlingi]",
          "XP_050080049_1 LOW QUALITY PROTEIN: protein timeless homolog [Anopheles maculipalpis]",
          "XP_050087805_1 protein timeless homolog [Anopheles aquasalis]",
          "XP_050318241_1 protein timeless homolog [Bactrocera neohumeralis]",
          "XP_052836881_1 protein timeless homolog isoform X1 [Drosophila gunungcola]",
          "XP_052836882_1 protein timeless homolog isoform X2 [Drosophila gunungcola]",
          "XP_052870855_1 protein timeless homolog, partial [Anopheles cruzii]",
          "XP_052873402_1 LOW QUALITY PROTEIN: protein timeless homolog [Anopheles cruzii]",
          "XP_052873403_1 protein timeless homolog [Anopheles cruzii]",
          "XP_052902821_1 protein timeless homolog [Anopheles moucheti]",
          "XP_053661191_1 protein timeless homolog [Anopheles marshallii]",
          "XP_053678116_1 protein timeless homolog [Anopheles nili]",
          "XP_053678117_1 protein timeless homolog [Anopheles nili]",
          "XP_053699073_1 protein timeless homolog isoform X1 [Sabethes cyaneus]",
          "XP_053699127_1 protein timeless homolog isoform X2 [Sabethes cyaneus]",
          "XP_053945845_1 protein timeless homolog [Anastrepha ludens]",
          "XP_053946362_1 protein timeless homolog [Anastrepha ludens]",
          "XP_054086429_1 protein timeless homolog [Zeugodacus cucurbitae]",
          "XP_054086432_1 protein timeless homolog [Zeugodacus cucurbitae]",
          "XP_054726635_1 protein timeless homolog [Anastrepha obliqua]",
          "XP_054728280_1 protein timeless homolog [Anastrepha obliqua]",
          "XP_055324474_1 protein timeless homolog [Sitodiplosis mosellana]",
          "XP_055382504_1 protein timeless homolog [Condylostylus longicornis]",
          "XP_055524013_1 protein timeless homolog isoform X1 [Wyeomyia smithii]",
          "XP_055524014_1 protein timeless homolog isoform X2 [Wyeomyia smithii]",
          "XP_055604879_1 protein timeless homolog [Uranotaenia lowii]",
          "XP_055616681_1 protein timeless homolog [Toxorhynchites rutilus septentrionalis]",
          "XP_055677398_1 protein timeless homolog [Lutzomyia longipalpis]",
          "XP_055712943_1 protein timeless homolog [Phlebotomus papatasi]",
          "XP_055851009_1 protein timeless homolog [Episyrphus balteatus]",
          "XP_055901939_1 protein timeless homolog [Eupeodes corollae]",
          "XP_058065592_1 protein timeless homolog [Anopheles bellator]",
          "XP_058121766_1 protein timeless homolog [Anopheles coustani]",
          "XP_058168125_1 protein timeless homolog [Anopheles ziemanni]",
          "XP_058442752_1 protein timeless homolog [Malaya genurostris]",
          "XP_058811331_1 protein timeless homolog [Topomyia yanbarensis]",
          "XP_058984004_1 protein timeless homolog [Musca domestica]",
          "XP_059218459_1 protein timeless homolog [Stomoxys calcitrans]",
          "XP_059621722_1 protein timeless homolog [Phlebotomus argentipes]",
          "XP_060645851_1 protein timeless homolog [Drosophila nasuta]",
          "XP_061387220_1 protein timeless homolog [Musca vetustissima]",
          "XP_061395865_1 protein timeless homolog [Musca vetustissima]",
          "XP_061513618_1 protein timeless homolog [Anopheles gambiae]",
          "XP_062127255_1 LOW QUALITY PROTEIN: protein timeless homolog [Drosophila sulfurigaster albostrigata]",
          "XP_062536633_1 protein timeless homolog isoform X1 [Armigeres subalbatus]",
          "XP_062536634_1 protein timeless homolog isoform X2 [Armigeres subalbatus]",
          "XP_062536635_1 protein timeless homolog isoform X3 [Armigeres subalbatus]",
          "XP_062701717_1 protein timeless homolog [Aedes albopictus]",
          "XP_063704948_1 protein timeless homolog [Culicoides brevitarsis]",
          "sp|O61735_3|CLOCK_DROME RecName: Full=Circadian locomoter output cycles protein kaput; AltName: Full=dCLOCK; AltName: Full=dPAS1",
          "sp|O96690_2|PDF_DROME RecName: Full=Protein PDF; Contains: RecName: Full=PDF precursor-related peptide; Short=PAP; Contains: RecName: Full=Neuropeptide PDF; AltName: Full=Pigment-dispersing factor homolog; Flags: Precursor"
         ],
         "type": "scatter",
         "x": [
          5.558035850524902,
          17.329463958740234,
          16.15520668029785,
          17.3028621673584,
          17.05431365966797,
          17.28611946105957,
          17.39279556274414,
          17.27415657043457,
          17.331388473510742,
          17.225021362304688,
          17.290870666503906,
          17.19518280029297,
          17.085817337036133,
          17.206663131713867,
          15.332839012145996,
          15.346224784851074,
          17.172588348388672,
          17.149295806884766,
          16.903278350830078,
          17.21973419189453,
          17.148578643798828,
          15.171012878417969,
          6.885042190551758,
          6.221205234527588,
          6.419455528259277,
          6.926694869995117,
          6.897181034088135,
          1.1440026760101318,
          15.316075325012207,
          17.334096908569336,
          17.27360725402832,
          17.369951248168945,
          15.168550491333008,
          16.262380599975586,
          17.053987503051758,
          11.414726257324219,
          17.243722915649414,
          17.224456787109375,
          15.171438217163086,
          6.421317100524902,
          17.13785171508789,
          15.340890884399414,
          6.4607038497924805,
          17.26726722717285,
          17.325950622558594,
          15.345367431640625,
          11.285024642944336,
          17.320655822753906,
          17.345989227294922,
          6.4143571853637695,
          17.324975967407227,
          17.20130729675293,
          17.276498794555664,
          17.30683135986328,
          17.217317581176758,
          17.379379272460938,
          10.071885108947754,
          8.478303909301758,
          8.469902038574219,
          16.202796936035156,
          6.652773380279541,
          15.161709785461426,
          6.217233180999756,
          6.313873767852783,
          17.25417137145996,
          11.383709907531738,
          17.208375930786133,
          6.438013076782227,
          15.216129302978516,
          6.911534786224365,
          16.152545928955078,
          5.9925923347473145,
          16.133647918701172,
          16.017080307006836,
          11.539356231689453,
          11.650583267211914,
          17.36697769165039,
          16.204322814941406,
          8.40455150604248,
          8.417652130126953,
          8.40477466583252,
          6.195119380950928,
          17.231069564819336,
          15.275945663452148,
          6.69486665725708,
          17.34835433959961,
          16.450510025024414,
          8.453547477722168,
          16.225805282592773,
          10.005784034729004,
          8.422183990478516,
          10.000859260559082,
          16.1544189453125,
          17.19791603088379,
          16.917844772338867,
          6.405660629272461,
          1.4431623220443726,
          1.6279412508010864,
          8.60684585571289,
          8.57319164276123,
          9.898460388183594,
          9.923749923706055,
          11.360966682434082,
          11.304889678955078,
          15.2316255569458,
          6.484005451202393,
          16.16461753845215,
          16.175851821899414,
          6.487518787384033,
          15.165687561035156,
          11.356959342956543,
          6.4823503494262695,
          11.216145515441895,
          11.162274360656738,
          11.452102661132812,
          11.401355743408203,
          10.309511184692383,
          10.282744407653809,
          11.133056640625,
          11.26280689239502,
          9.994129180908203,
          9.952605247497559,
          9.927881240844727,
          11.319729804992676,
          11.286698341369629,
          16.518924713134766,
          16.450347900390625,
          10.200899124145508,
          17.213481903076172,
          6.4185967445373535,
          15.202447891235352,
          8.365731239318848,
          17.144611358642578,
          11.345983505249023,
          11.368220329284668,
          11.417898178100586,
          11.45352840423584,
          11.02292251586914,
          5.5299859046936035,
          6.677657127380371
         ],
         "y": [
          11.83129596710205,
          10.936137199401855,
          11.069575309753418,
          10.956729888916016,
          10.337788581848145,
          10.405933380126953,
          11.000829696655273,
          10.390495300292969,
          10.910749435424805,
          10.482172012329102,
          10.375295639038086,
          10.347152709960938,
          10.436104774475098,
          10.34855842590332,
          11.049596786499023,
          11.041166305541992,
          10.317904472351074,
          10.357351303100586,
          10.473719596862793,
          10.334527969360352,
          10.87197494506836,
          11.130196571350098,
          -3.974083423614502,
          -3.9446494579315186,
          -4.043694972991943,
          -3.960205554962158,
          -3.8911256790161133,
          9.644439697265625,
          11.054108619689941,
          10.997493743896484,
          10.894073486328125,
          10.38491153717041,
          11.150795936584473,
          11.12372875213623,
          10.387897491455078,
          9.202573776245117,
          10.809456825256348,
          10.62778377532959,
          11.14950180053711,
          -4.005475997924805,
          10.765152931213379,
          11.04253101348877,
          -3.9588568210601807,
          10.642419815063477,
          10.944169044494629,
          11.038434982299805,
          9.213314056396484,
          10.376202583312988,
          10.8834867477417,
          -4.083685398101807,
          10.427225112915039,
          10.877182960510254,
          10.910103797912598,
          10.948139190673828,
          10.795004844665527,
          10.928024291992188,
          8.418127059936523,
          8.582169532775879,
          8.569130897521973,
          11.104795455932617,
          -3.290635824203491,
          11.152709007263184,
          -3.831421136856079,
          -4.012669563293457,
          10.302176475524902,
          9.146933555603027,
          10.327061653137207,
          -3.998936176300049,
          11.11808967590332,
          -3.9281487464904785,
          10.94454288482666,
          -4.060368061065674,
          10.82135009765625,
          10.84390640258789,
          9.20874309539795,
          9.254137992858887,
          10.439167976379395,
          11.075982093811035,
          8.574191093444824,
          8.604259490966797,
          8.593217849731445,
          -3.7732059955596924,
          10.313149452209473,
          11.119038581848145,
          -3.7326087951660156,
          10.381690979003906,
          10.829845428466797,
          8.592482566833496,
          11.07394027709961,
          8.352165222167969,
          8.577872276306152,
          8.326935768127441,
          11.063240051269531,
          10.383131980895996,
          10.46693229675293,
          -3.6496877670288086,
          9.894420623779297,
          9.97309398651123,
          8.665545463562012,
          8.60309886932373,
          8.064373016357422,
          8.146851539611816,
          9.253544807434082,
          9.237619400024414,
          11.090422630310059,
          -3.995598077774048,
          11.070246696472168,
          11.09926986694336,
          -3.942406415939331,
          11.151843070983887,
          9.170374870300293,
          -4.024537086486816,
          8.945244789123535,
          8.913331985473633,
          9.197563171386719,
          9.185881614685059,
          8.531535148620605,
          8.572273254394531,
          9.335921287536621,
          9.300800323486328,
          8.304410934448242,
          8.316462516784668,
          8.273859024047852,
          9.165228843688965,
          9.267178535461426,
          10.690929412841797,
          10.755918502807617,
          8.47985553741455,
          10.80799388885498,
          -4.029239177703857,
          11.160767555236816,
          8.654960632324219,
          10.838370323181152,
          9.121306419372559,
          9.124345779418945,
          9.170209884643555,
          9.229433059692383,
          9.263589859008789,
          11.799144744873047,
          -3.731797456741333
         ]
        },
        {
         "hoverinfo": "text",
         "marker": {
          "color": "green",
          "size": 5
         },
         "mode": "markers",
         "name": "hemiptera",
         "text": [
          "UHH90574_1 cyclobutane pyrimidine dimer photolyase [Pyrrhocoris apterus]",
          "XP_008186746_1 protein timeless homolog [Acyrthosiphon pisum]",
          "XP_008482101_2 protein timeless homolog [Diaphorina citri]",
          "XP_014246467_1 protein timeless homolog [Cimex lectularius]",
          "XP_014246468_1 protein timeless homolog [Cimex lectularius]",
          "XP_015364645_1 PREDICTED: protein timeless homolog [Diuraphis noxia]",
          "XP_016662949_1 protein timeless homolog [Acyrthosiphon pisum]",
          "XP_018907854_1 PREDICTED: protein timeless homolog [Bemisia tabaci]",
          "XP_022179868_1 protein timeless homolog isoform X1 [Myzus persicae]",
          "XP_022179877_1 protein timeless homolog isoform X2 [Myzus persicae]",
          "XP_024217293_1 protein timeless homolog [Halyomorpha halys]",
          "XP_025208327_1 protein timeless homolog [Melanaphis sacchari]",
          "XP_025208328_1 protein timeless homolog [Melanaphis sacchari]",
          "XP_025415562_1 protein timeless homolog isoform X1 [Sipha flava]",
          "XP_025415563_1 protein timeless homolog isoform X2 [Sipha flava]",
          "XP_025415564_1 protein timeless homolog isoform X3 [Sipha flava]",
          "XP_025415565_1 protein timeless homolog isoform X3 [Sipha flava]",
          "XP_025415566_1 protein timeless homolog isoform X3 [Sipha flava]",
          "XP_025415567_1 protein timeless homolog isoform X4 [Sipha flava]",
          "XP_026679889_1 protein timeless homolog isoform X1 [Diaphorina citri]",
          "XP_026679890_1 protein timeless homolog isoform X2 [Diaphorina citri]",
          "XP_026686241_1 protein timeless homolog [Diaphorina citri]",
          "XP_026686242_1 protein timeless homolog isoform X1 [Diaphorina citri]",
          "XP_026686243_1 protein timeless homolog isoform X2 [Diaphorina citri]",
          "XP_026686244_1 protein timeless homolog isoform X3 [Diaphorina citri]",
          "XP_026816055_1 protein timeless homolog [Rhopalosiphum maidis]",
          "XP_026816056_1 protein timeless homolog [Rhopalosiphum maidis]",
          "XP_039290694_1 protein timeless homolog [Nilaparvata lugens]",
          "XP_046662859_1 protein timeless homolog [Homalodisca vitripennis]",
          "XP_046687267_1 protein timeless homolog isoform X1 [Homalodisca vitripennis]",
          "XP_046687268_1 protein timeless homolog isoform X2 [Homalodisca vitripennis]",
          "XP_050054653_1 protein timeless homolog isoform X1 [Aphis gossypii]",
          "XP_050054654_1 protein timeless homolog isoform X2 [Aphis gossypii]",
          "XP_050054655_1 protein timeless homolog isoform X3 [Aphis gossypii]",
          "XP_050054656_1 protein timeless homolog isoform X4 [Aphis gossypii]",
          "XP_050066510_1 protein timeless homolog isoform X1 [Aphis gossypii]",
          "XP_050066511_1 protein timeless homolog isoform X1 [Aphis gossypii]",
          "XP_050066512_1 protein timeless homolog isoform X2 [Aphis gossypii]",
          "XP_050066513_1 protein timeless homolog isoform X3 [Aphis gossypii]",
          "XP_050066514_1 protein timeless homolog isoform X4 [Aphis gossypii]",
          "XP_050432474_1 LOW QUALITY PROTEIN: protein timeless homolog [Adelges cooleyi]",
          "XP_050538805_1 protein timeless homolog [Daktulosphaira vitifoliae]",
          "XP_054279540_1 protein timeless homolog [Macrosteles quadrilineatus]",
          "XP_054281406_1 protein timeless homolog [Macrosteles quadrilineatus]",
          "XP_060843659_1 protein timeless homolog isoform X1 [Rhopalosiphum padi]",
          "XP_060843660_1 protein timeless homolog isoform X2 [Rhopalosiphum padi]",
          "XP_060869026_1 protein timeless homolog [Metopolophium dirhodum]"
         ],
         "type": "scatter",
         "x": [
          9.930543899536133,
          0.8000695109367371,
          5.181612014770508,
          -1.1997884511947632,
          -1.1847879886627197,
          -0.09799809008836746,
          0.7843268513679504,
          1.9705911874771118,
          -0.09686300158500671,
          0.06756317615509033,
          1.2192057371139526,
          0.23419761657714844,
          0.20077767968177795,
          0.8770244717597961,
          0.8469096422195435,
          0.7337223887443542,
          0.7711941599845886,
          0.7919471263885498,
          0.803753674030304,
          5.9855546951293945,
          5.982430458068848,
          6.688271999359131,
          6.608827590942383,
          6.6040358543396,
          6.595732688903809,
          -1.124363660812378,
          -1.1421070098876953,
          2.044679641723633,
          6.66797399520874,
          1.9661414623260498,
          2.014225721359253,
          -2.3142740726470947,
          -2.297211170196533,
          -2.3098556995391846,
          -2.3828184604644775,
          -2.9971063137054443,
          -2.9758975505828857,
          -2.984255790710449,
          -2.9399707317352295,
          -2.8636043071746826,
          0.8951879143714905,
          0.5991086363792419,
          1.585220456123352,
          1.6938802003860474,
          -1.1248655319213867,
          -1.112677812576294,
          -0.10732042044401169
         ],
         "y": [
          6.394031524658203,
          9.94129467010498,
          11.3612699508667,
          9.312746047973633,
          9.29314136505127,
          9.248980522155762,
          9.925355911254883,
          10.040546417236328,
          9.246379852294922,
          9.353914260864258,
          9.75959300994873,
          9.47840690612793,
          9.451223373413086,
          9.661696434020996,
          9.657153129577637,
          9.894144058227539,
          9.893187522888184,
          9.902636528015137,
          9.941767692565918,
          -4.052801609039307,
          -4.054090976715088,
          -3.7207183837890625,
          -4.849145889282227,
          -4.845076084136963,
          -4.831888198852539,
          9.218043327331543,
          9.235076904296875,
          10.081809997558594,
          -3.285555124282837,
          10.065037727355957,
          10.08664608001709,
          8.82531452178955,
          8.853919982910156,
          8.824180603027344,
          8.778135299682617,
          8.404390335083008,
          8.426650047302246,
          8.421142578125,
          8.456302642822266,
          8.513707160949707,
          9.890408515930176,
          9.770210266113281,
          9.969364166259766,
          10.015294075012207,
          9.253528594970703,
          9.220398902893066,
          9.246648788452148
         ]
        },
        {
         "hoverinfo": "text",
         "marker": {
          "color": "orange",
          "size": 5
         },
         "mode": "markers",
         "name": "homoptera",
         "text": [
          "UHH90574_1 cyclobutane pyrimidine dimer photolyase [Pyrrhocoris apterus]",
          "XP_008186746_1 protein timeless homolog [Acyrthosiphon pisum]",
          "XP_008482101_2 protein timeless homolog [Diaphorina citri]",
          "XP_014246467_1 protein timeless homolog [Cimex lectularius]",
          "XP_014246468_1 protein timeless homolog [Cimex lectularius]",
          "XP_015364645_1 PREDICTED: protein timeless homolog [Diuraphis noxia]",
          "XP_016662949_1 protein timeless homolog [Acyrthosiphon pisum]",
          "XP_018907854_1 PREDICTED: protein timeless homolog [Bemisia tabaci]",
          "XP_022179868_1 protein timeless homolog isoform X1 [Myzus persicae]",
          "XP_022179877_1 protein timeless homolog isoform X2 [Myzus persicae]",
          "XP_024217293_1 protein timeless homolog [Halyomorpha halys]",
          "XP_025208327_1 protein timeless homolog [Melanaphis sacchari]",
          "XP_025208328_1 protein timeless homolog [Melanaphis sacchari]",
          "XP_025415562_1 protein timeless homolog isoform X1 [Sipha flava]",
          "XP_025415563_1 protein timeless homolog isoform X2 [Sipha flava]",
          "XP_025415564_1 protein timeless homolog isoform X3 [Sipha flava]",
          "XP_025415565_1 protein timeless homolog isoform X3 [Sipha flava]",
          "XP_025415566_1 protein timeless homolog isoform X3 [Sipha flava]",
          "XP_025415567_1 protein timeless homolog isoform X4 [Sipha flava]",
          "XP_026679889_1 protein timeless homolog isoform X1 [Diaphorina citri]",
          "XP_026679890_1 protein timeless homolog isoform X2 [Diaphorina citri]",
          "XP_026686241_1 protein timeless homolog [Diaphorina citri]",
          "XP_026686242_1 protein timeless homolog isoform X1 [Diaphorina citri]",
          "XP_026686243_1 protein timeless homolog isoform X2 [Diaphorina citri]",
          "XP_026686244_1 protein timeless homolog isoform X3 [Diaphorina citri]",
          "XP_026816055_1 protein timeless homolog [Rhopalosiphum maidis]",
          "XP_026816056_1 protein timeless homolog [Rhopalosiphum maidis]",
          "XP_039290694_1 protein timeless homolog [Nilaparvata lugens]",
          "XP_046662859_1 protein timeless homolog [Homalodisca vitripennis]",
          "XP_046687267_1 protein timeless homolog isoform X1 [Homalodisca vitripennis]",
          "XP_046687268_1 protein timeless homolog isoform X2 [Homalodisca vitripennis]",
          "XP_050054653_1 protein timeless homolog isoform X1 [Aphis gossypii]",
          "XP_050054654_1 protein timeless homolog isoform X2 [Aphis gossypii]",
          "XP_050054655_1 protein timeless homolog isoform X3 [Aphis gossypii]",
          "XP_050054656_1 protein timeless homolog isoform X4 [Aphis gossypii]",
          "XP_050066510_1 protein timeless homolog isoform X1 [Aphis gossypii]",
          "XP_050066511_1 protein timeless homolog isoform X1 [Aphis gossypii]",
          "XP_050066512_1 protein timeless homolog isoform X2 [Aphis gossypii]",
          "XP_050066513_1 protein timeless homolog isoform X3 [Aphis gossypii]",
          "XP_050066514_1 protein timeless homolog isoform X4 [Aphis gossypii]",
          "XP_050432474_1 LOW QUALITY PROTEIN: protein timeless homolog [Adelges cooleyi]",
          "XP_050538805_1 protein timeless homolog [Daktulosphaira vitifoliae]",
          "XP_054279540_1 protein timeless homolog [Macrosteles quadrilineatus]",
          "XP_054281406_1 protein timeless homolog [Macrosteles quadrilineatus]",
          "XP_060843659_1 protein timeless homolog isoform X1 [Rhopalosiphum padi]",
          "XP_060843660_1 protein timeless homolog isoform X2 [Rhopalosiphum padi]",
          "XP_060869026_1 protein timeless homolog [Metopolophium dirhodum]"
         ],
         "type": "scatter",
         "x": [
          9.931047439575195,
          0.765332043170929,
          5.146301746368408,
          -1.1817175149917603,
          -1.18622624874115,
          -0.12904474139213562,
          0.8436167240142822,
          2.048886775970459,
          -0.07392123341560364,
          0.09689632803201675,
          1.1740976572036743,
          0.18915793299674988,
          0.21479569375514984,
          0.8615328073501587,
          0.8172204494476318,
          0.730167031288147,
          0.7912130951881409,
          0.7581218481063843,
          0.8296270370483398,
          5.9410481452941895,
          5.946065425872803,
          6.7768940925598145,
          6.625445365905762,
          6.596327781677246,
          6.61086893081665,
          -1.2068694829940796,
          -1.1279866695404053,
          2.061598300933838,
          6.642855167388916,
          1.9967108964920044,
          2.0012569427490234,
          -2.3605031967163086,
          -2.290013313293457,
          -2.318655252456665,
          -2.3545703887939453,
          -2.961137294769287,
          -2.961113691329956,
          -3.00577974319458,
          -2.9567553997039795,
          -2.849073886871338,
          0.9067593812942505,
          0.6014809608459473,
          1.5629940032958984,
          1.6066627502441406,
          -1.1276524066925049,
          -1.1082789897918701,
          -0.1405484825372696
         ],
         "y": [
          6.391666889190674,
          9.976333618164062,
          11.326909065246582,
          9.291471481323242,
          9.297910690307617,
          9.22327709197998,
          9.960314750671387,
          10.102230072021484,
          9.280064582824707,
          9.380133628845215,
          9.756114959716797,
          9.443527221679688,
          9.461064338684082,
          9.63679027557373,
          9.623287200927734,
          9.90353012084961,
          9.89802360534668,
          9.921575546264648,
          9.918426513671875,
          -4.09014892578125,
          -4.092995643615723,
          -3.6346042156219482,
          -4.866507530212402,
          -4.834349632263184,
          -4.850768089294434,
          9.29600715637207,
          9.216024398803711,
          10.07957935333252,
          -3.280280351638794,
          10.083578109741211,
          10.132806777954102,
          8.888984680175781,
          8.851907730102539,
          8.791162490844727,
          8.803190231323242,
          8.439912796020508,
          8.442431449890137,
          8.401505470275879,
          8.440982818603516,
          8.53195858001709,
          9.814990997314453,
          9.76699161529541,
          9.934081077575684,
          9.963872909545898,
          9.253715515136719,
          9.213715553283691,
          9.219780921936035
         ]
        },
        {
         "hoverinfo": "text",
         "marker": {
          "color": "purple",
          "size": 5
         },
         "mode": "markers",
         "name": "hymenoptera",
         "text": [
          "CAG5109075_1 Similar to Timeless: Protein timeless homolog (Mus musculus) [Cotesia congregata]",
          "CAG5109077_1 Similar to Timeless: Protein timeless homolog (Rattus norvegicus) [Cotesia congregata]",
          "KAG8037721_1 hypothetical protein G9C98_005932, partial [Cotesia typhae]",
          "KAG8037722_1 hypothetical protein G9C98_005933, partial [Cotesia typhae]",
          "XP_003395036_2 protein timeless homolog isoform X1 [Bombus terrestris]",
          "XP_006565495_2 protein timeless homolog isoform X1 [Apis mellifera]",
          "XP_006565496_2 protein timeless homolog isoform X2 [Apis mellifera]",
          "XP_006614752_1 protein timeless homolog isoform X1 [Apis dorsata]",
          "XP_008552252_1 protein timeless homolog [Microplitis demolitor]",
          "XP_011059080_1 PREDICTED: protein timeless homolog [Acromyrmex echinatior]",
          "XP_011173663_2 protein timeless homolog isoform X1 [Solenopsis invicta]",
          "XP_011173664_2 protein timeless homolog isoform X1 [Solenopsis invicta]",
          "XP_011252216_2 protein timeless homolog [Camponotus floridanus]",
          "XP_011305481_1 PREDICTED: protein timeless homolog [Fopius arisanus]",
          "XP_011334076_2 protein timeless homolog isoform X1 [Ooceraea biroi]",
          "XP_011334077_2 protein timeless homolog isoform X2 [Ooceraea biroi]",
          "XP_011499954_1 PREDICTED: protein timeless homolog [Ceratosolen solmsi marchali]",
          "XP_011690831_1 PREDICTED: protein timeless homolog isoform X1 [Wasmannia auropunctata]",
          "XP_011690841_1 PREDICTED: protein timeless homolog isoform X2 [Wasmannia auropunctata]",
          "XP_011874597_1 PREDICTED: protein timeless homolog isoform X1 [Vollenhovia emeryi]",
          "XP_011874598_1 PREDICTED: protein timeless homolog isoform X1 [Vollenhovia emeryi]",
          "XP_011874599_1 PREDICTED: protein timeless homolog isoform X2 [Vollenhovia emeryi]",
          "XP_012062583_1 PREDICTED: protein timeless homolog [Atta cephalotes]",
          "XP_012151360_1 PREDICTED: protein timeless homolog [Megachile rotundata]",
          "XP_012222323_1 PREDICTED: protein timeless homolog [Linepithema humile]",
          "XP_012222324_1 PREDICTED: protein timeless homolog [Linepithema humile]",
          "XP_012222325_1 PREDICTED: protein timeless homolog [Linepithema humile]",
          "XP_012279584_1 protein timeless homolog [Orussus abietinus]",
          "XP_012343215_2 protein timeless homolog [Apis florea]",
          "XP_012535516_2 protein timeless homolog isoform X2 [Monomorium pharaonis]",
          "XP_014234686_1 protein timeless homolog [Trichogramma pretiosum]",
          "XP_014475495_1 PREDICTED: protein timeless homolog [Dinoponera quadriceps]",
          "XP_014609708_1 PREDICTED: protein timeless homolog isoform X1 [Polistes canadensis]",
          "XP_014609709_1 PREDICTED: protein timeless homolog isoform X2 [Polistes canadensis]",
          "XP_015111724_1 protein timeless homolog [Diachasma alloeum]",
          "XP_015111725_1 protein timeless homolog [Diachasma alloeum]",
          "XP_015111726_1 protein timeless homolog [Diachasma alloeum]",
          "XP_015190380_1 PREDICTED: protein timeless homolog isoform X1 [Polistes dominula]",
          "XP_015190382_1 PREDICTED: protein timeless homolog isoform X2 [Polistes dominula]",
          "XP_015190383_1 PREDICTED: protein timeless homolog isoform X3 [Polistes dominula]",
          "XP_015433585_1 PREDICTED: protein timeless homolog [Dufourea novaeangliae]",
          "XP_015524887_1 protein timeless homolog [Neodiprion lecontei]",
          "XP_015606157_1 protein timeless homolog [Cephus cinctus]",
          "XP_017753046_1 PREDICTED: protein timeless homolog [Eufriesea mexicana]",
          "XP_017756744_1 PREDICTED: protein timeless homolog, partial [Eufriesea mexicana]",
          "XP_017793791_1 PREDICTED: protein timeless homolog [Habropoda laboriosa]",
          "XP_017793810_1 PREDICTED: LOW QUALITY PROTEIN: protein timeless homolog [Habropoda laboriosa]",
          "XP_017893332_1 protein timeless homolog isoform X2 [Ceratina calcarata]",
          "XP_018055561_1 PREDICTED: protein timeless homolog [Atta colombica]",
          "XP_018314887_1 PREDICTED: LOW QUALITY PROTEIN: protein timeless homolog [Trachymyrmex zeteki]",
          "XP_018314888_1 PREDICTED: LOW QUALITY PROTEIN: protein timeless homolog [Trachymyrmex zeteki]",
          "XP_018346918_1 PREDICTED: protein timeless homolog [Trachymyrmex septentrionalis]",
          "XP_018347152_1 PREDICTED: LOW QUALITY PROTEIN: protein timeless homolog [Trachymyrmex septentrionalis]",
          "XP_018360634_1 PREDICTED: LOW QUALITY PROTEIN: protein timeless homolog [Trachymyrmex cornetzi]",
          "XP_018375486_1 PREDICTED: protein timeless homolog [Trachymyrmex cornetzi]",
          "XP_018393058_1 PREDICTED: protein timeless homolog [Cyphomyrmex costatus]",
          "XP_019886605_2 protein timeless homolog isoform X3 [Ooceraea biroi]",
          "XP_019886606_2 protein timeless homolog isoform X4 [Ooceraea biroi]",
          "XP_020292360_1 protein timeless homolog isoform X1 [Pseudomyrmex gracilis]",
          "XP_020292361_1 protein timeless homolog isoform X2 [Pseudomyrmex gracilis]",
          "XP_020709520_2 protein timeless homolog isoform X1 [Athalia rosae]",
          "XP_023245988_1 protein timeless homolog [Copidosoma floridanum]",
          "XP_024871768_1 protein timeless homolog [Temnothorax curvispinosus]",
          "XP_025075247_1 protein timeless homolog [Pogonomyrmex barbatus]",
          "XP_025161119_1 protein timeless homolog [Harpegnathos saltator]",
          "XP_025266375_1 protein timeless homolog [Camponotus floridanus]",
          "XP_026666669_1 protein timeless homolog isoform X1 [Ceratina calcarata]",
          "XP_026666670_1 protein timeless homolog isoform X3 [Ceratina calcarata]",
          "XP_029034528_1 protein timeless homolog isoform X1 [Osmia bicornis bicornis]",
          "XP_029034529_1 protein timeless homolog isoform X2 [Osmia bicornis bicornis]",
          "XP_029034530_1 protein timeless homolog isoform X3 [Osmia bicornis bicornis]",
          "XP_029159250_1 protein timeless homolog [Nylanderia fulva]",
          "XP_029667673_1 LOW QUALITY PROTEIN: protein timeless homolog [Formica exsecta]",
          "XP_031365788_1 protein timeless homolog isoform X2 [Apis dorsata]",
          "XP_031783081_1 protein timeless homolog [Nasonia vitripennis]",
          "XP_031783083_1 protein timeless homolog [Nasonia vitripennis]",
          "XP_031783084_1 protein timeless homolog [Nasonia vitripennis]",
          "XP_031783085_1 protein timeless homolog [Nasonia vitripennis]",
          "XP_031834411_1 protein timeless homolog [Nomia melanderi]",
          "XP_032453711_1 protein timeless homolog [Nasonia vitripennis]",
          "XP_032684188_1 protein timeless homolog isoform X1 [Odontomachus brunneus]",
          "XP_032684189_1 protein timeless homolog isoform X1 [Odontomachus brunneus]",
          "XP_032684190_1 protein timeless homolog isoform X2 [Odontomachus brunneus]",
          "XP_033178655_1 protein timeless homolog, partial [Bombus impatiens]",
          "XP_033180090_1 protein timeless homolog [Bombus impatiens]",
          "XP_033188264_1 protein timeless homolog isoform X1 [Bombus vancouverensis nearcticus]",
          "XP_033188265_1 protein timeless homolog isoform X2 [Bombus vancouverensis nearcticus]",
          "XP_033200565_1 protein timeless homolog, partial [Bombus vancouverensis nearcticus]",
          "XP_033230286_1 protein timeless homolog [Belonocnema kinseyi]",
          "XP_033297290_1 protein timeless homolog isoform X1 [Bombus bifarius]",
          "XP_033297291_1 protein timeless homolog isoform X2 [Bombus bifarius]",
          "XP_033298193_1 protein timeless homolog, partial [Bombus bifarius]",
          "XP_033326523_1 protein timeless homolog [Megalopta genalis]",
          "XP_033346868_1 protein timeless homolog isoform X1 [Bombus vosnesenskii]",
          "XP_033346869_1 protein timeless homolog isoform X2 [Bombus vosnesenskii]",
          "XP_033348735_1 protein timeless homolog isoform X1 [Bombus vosnesenskii]",
          "XP_033348741_1 protein timeless homolog isoform X2 [Bombus vosnesenskii]",
          "XP_034174592_1 protein timeless homolog isoform X1 [Osmia lignaria]",
          "XP_034174593_1 protein timeless homolog isoform X2 [Osmia lignaria]",
          "XP_034934837_1 protein timeless homolog isoform X1 [Chelonus insularis]",
          "XP_034934838_1 protein timeless homolog isoform X2 [Chelonus insularis]",
          "XP_035744025_1 protein timeless homolog isoform X1 [Vespa mandarinia]",
          "XP_035744027_1 protein timeless homolog isoform X1 [Vespa mandarinia]",
          "XP_035744028_1 protein timeless homolog isoform X1 [Vespa mandarinia]",
          "XP_035744029_1 protein timeless homolog isoform X1 [Vespa mandarinia]",
          "XP_035744030_1 protein timeless homolog isoform X1 [Vespa mandarinia]",
          "XP_035744031_1 protein timeless homolog isoform X1 [Vespa mandarinia]",
          "XP_035744032_1 protein timeless homolog isoform X1 [Vespa mandarinia]",
          "XP_035744033_1 protein timeless homolog isoform X2 [Vespa mandarinia]",
          "XP_036146421_1 protein timeless homolog isoform X1 [Monomorium pharaonis]",
          "XP_039305902_1 protein timeless homolog isoform X1 [Solenopsis invicta]",
          "XP_039305903_1 protein timeless homolog isoform X2 [Solenopsis invicta]",
          "XP_043250203_1 protein timeless homolog, partial [Colletes gigas]",
          "XP_043268843_1 protein timeless homolog [Venturia canescens]",
          "XP_043470922_1 protein timeless homolog [Leptopilina heterotoma]",
          "XP_043499789_1 protein timeless homolog [Polistes fuscatus]",
          "XP_043529520_1 protein timeless homolog isoform X1 [Frieseomelitta varia]",
          "XP_043529521_1 protein timeless homolog isoform X1 [Frieseomelitta varia]",
          "XP_043529522_1 protein timeless homolog isoform X2 [Frieseomelitta varia]",
          "XP_043529524_1 protein timeless homolog isoform X3 [Frieseomelitta varia]",
          "XP_043579591_1 protein timeless homolog [Bombus pyrosoma]",
          "XP_043664097_1 protein timeless homolog [Vespula pensylvanica]",
          "XP_043664098_1 protein timeless homolog [Vespula pensylvanica]",
          "XP_043801951_1 protein timeless homolog isoform X1 [Apis laboriosa]",
          "XP_043801952_1 protein timeless homolog isoform X2 [Apis laboriosa]",
          "XP_044012560_1 protein timeless homolog [Aphidius gifuensis]",
          "XP_044599448_1 protein timeless homolog isoform X1 [Cotesia glomerata]",
          "XP_044599449_1 protein timeless homolog isoform X2 [Cotesia glomerata]",
          "XP_046417749_1 protein timeless homolog [Neodiprion fabricii]",
          "XP_046476559_1 protein timeless homolog [Neodiprion pinetum]",
          "XP_046612222_1 protein timeless homolog [Neodiprion virginianus]",
          "XP_046736872_1 protein timeless homolog [Diprion similis]",
          "XP_046837900_1 protein timeless homolog isoform X1 [Vespa crabro]",
          "XP_046837902_1 protein timeless homolog isoform X1 [Vespa crabro]",
          "XP_046837903_1 protein timeless homolog isoform X1 [Vespa crabro]",
          "XP_046837904_1 protein timeless homolog isoform X1 [Vespa crabro]",
          "XP_046837905_1 protein timeless homolog isoform X1 [Vespa crabro]",
          "XP_046837906_1 protein timeless homolog isoform X1 [Vespa crabro]",
          "XP_046837907_1 protein timeless homolog isoform X1 [Vespa crabro]",
          "XP_046837908_1 protein timeless homolog isoform X1 [Vespa crabro]",
          "XP_046837909_1 protein timeless homolog isoform X1 [Vespa crabro]",
          "XP_046837910_1 protein timeless homolog isoform X1 [Vespa crabro]",
          "XP_046837911_1 protein timeless homolog isoform X2 [Vespa crabro]",
          "XP_047343569_1 protein timeless homolog [Vespa velutina]",
          "XP_048261586_1 protein timeless homolog isoform X2 [Bombus terrestris]",
          "XP_048512372_1 protein timeless homolog isoform X2 [Athalia rosae]",
          "XP_050450903_1 protein timeless homolog [Cataglyphis hispanica]",
          "XP_050450904_1 protein timeless homolog [Cataglyphis hispanica]",
          "XP_050450905_1 protein timeless homolog [Cataglyphis hispanica]",
          "XP_050450906_1 protein timeless homolog [Cataglyphis hispanica]",
          "XP_050479053_1 protein timeless homolog isoform X1 [Bombus huntii]",
          "XP_050479054_1 protein timeless homolog isoform X2 [Bombus huntii]",
          "XP_050573610_1 protein timeless homolog isoform X1 [Bombus affinis]",
          "XP_050573611_1 protein timeless homolog isoform X2 [Bombus affinis]",
          "XP_050844030_1 protein timeless homolog [Vespula vulgaris]",
          "XP_051156269_1 protein timeless homolog, partial [Leptopilina boulardi]",
          "XP_051170612_1 protein timeless homolog [Leptopilina boulardi]",
          "XP_053978576_1 protein timeless homolog isoform X1 [Hylaeus volcanicus]",
          "XP_053978577_1 protein timeless homolog isoform X2 [Hylaeus volcanicus]",
          "XP_054003528_1 protein timeless homolog isoform X1 [Hylaeus anthracinus]",
          "XP_054003529_1 protein timeless homolog isoform X2 [Hylaeus anthracinus]",
          "XP_057326747_1 protein timeless homolog [Microplitis mediator]",
          "XP_057326748_1 protein timeless homolog [Microplitis mediator]",
          "XP_058798650_1 protein timeless homolog isoform X1 [Phymastichus coffea]",
          "XP_058798651_1 protein timeless homolog isoform X2 [Phymastichus coffea]",
          "XP_060821668_1 protein timeless homolog isoform X1 [Bombus pascuorum]",
          "XP_060821669_1 protein timeless homolog isoform X2 [Bombus pascuorum]",
          "XP_060821670_1 protein timeless homolog isoform X3 [Bombus pascuorum]",
          "XP_061929980_1 protein timeless homolog isoform X1 [Apis cerana]",
          "XP_061929981_1 protein timeless homolog isoform X1 [Apis cerana]",
          "XP_061929982_1 protein timeless homolog isoform X2 [Apis cerana]",
          "XP_061929983_1 protein timeless homolog isoform X3 [Apis cerana]",
          "XP_063971887_1 protein timeless homolog [Diachasmimorpha longicaudata]"
         ],
         "type": "scatter",
         "x": [
          7.021609783172607,
          5.166314601898193,
          6.604007720947266,
          5.230590343475342,
          8.233430862426758,
          8.192887306213379,
          8.361289024353027,
          8.327310562133789,
          9.457494735717773,
          9.940377235412598,
          10.035491943359375,
          10.087906837463379,
          10.06971263885498,
          10.551145553588867,
          9.932737350463867,
          9.88178825378418,
          7.1233015060424805,
          10.097700119018555,
          10.05727481842041,
          9.923540115356445,
          9.880894660949707,
          9.842841148376465,
          9.848766326904297,
          8.31870174407959,
          10.147639274597168,
          10.230172157287598,
          10.16434097290039,
          8.129270553588867,
          8.30385684967041,
          10.153162002563477,
          7.4583845138549805,
          9.753372192382812,
          7.168251991271973,
          7.140143394470215,
          10.676636695861816,
          10.710577011108398,
          10.689459800720215,
          7.103824138641357,
          7.151086807250977,
          7.189451694488525,
          6.328094482421875,
          10.408226013183594,
          9.678726196289062,
          6.230072975158691,
          5.270687580108643,
          5.244461536407471,
          6.279731750488281,
          8.549762725830078,
          9.8670654296875,
          6.542125225067139,
          5.1949286460876465,
          5.211258411407471,
          6.544680595397949,
          6.468201637268066,
          5.196606159210205,
          10.098786354064941,
          9.92341423034668,
          9.94317626953125,
          9.867422103881836,
          9.714515686035156,
          10.434469223022461,
          7.635984897613525,
          10.088760375976562,
          10.079816818237305,
          9.688581466674805,
          10.035786628723145,
          8.456439971923828,
          8.430923461914062,
          8.37232780456543,
          8.374833106994629,
          8.386331558227539,
          10.078020095825195,
          9.269806861877441,
          8.342488288879395,
          7.538435935974121,
          7.509591102600098,
          7.508091926574707,
          7.501806735992432,
          9.173580169677734,
          7.49301815032959,
          9.426667213439941,
          9.428296089172363,
          9.388407707214355,
          5.254268169403076,
          6.226833343505859,
          6.263922214508057,
          6.187912464141846,
          5.239838600158691,
          7.674317359924316,
          6.310215473175049,
          6.234643936157227,
          5.2156548500061035,
          8.321487426757812,
          5.322995185852051,
          5.352094650268555,
          6.263988494873047,
          6.213573455810547,
          8.393242835998535,
          8.42940902709961,
          1.0964927673339844,
          1.1456329822540283,
          7.044289588928223,
          7.055461406707764,
          7.027163982391357,
          7.065152168273926,
          7.061126232147217,
          7.080840110778809,
          7.052279949188232,
          7.050877571105957,
          10.063365936279297,
          10.174020767211914,
          9.941555976867676,
          6.691124439239502,
          10.050662994384766,
          1.237371802330017,
          7.09152889251709,
          8.330360412597656,
          8.359058380126953,
          8.363116264343262,
          8.33922290802002,
          8.260686874389648,
          7.140279293060303,
          7.1573662757873535,
          8.327929496765137,
          8.294745445251465,
          7.322872638702393,
          9.608755111694336,
          9.624643325805664,
          10.401666641235352,
          10.421661376953125,
          10.346853256225586,
          10.424450874328613,
          7.18354606628418,
          7.185737133026123,
          7.192473888397217,
          7.187439918518066,
          7.165521621704102,
          7.180363655090332,
          7.1779375076293945,
          7.204506874084473,
          7.184432506561279,
          7.170434474945068,
          7.187782287597656,
          7.183059215545654,
          8.136003494262695,
          10.438335418701172,
          9.345148086547852,
          9.344141960144043,
          9.339631080627441,
          9.386552810668945,
          8.345393180847168,
          8.127391815185547,
          8.202503204345703,
          8.182787895202637,
          7.1212310791015625,
          6.193016529083252,
          5.059070110321045,
          8.60882568359375,
          8.60387897491455,
          8.615078926086426,
          8.63274097442627,
          9.51157283782959,
          9.45122241973877,
          7.025516510009766,
          6.9081501960754395,
          8.135052680969238,
          7.964818954467773,
          8.235121726989746,
          8.253663063049316,
          8.264169692993164,
          8.246794700622559,
          8.242803573608398,
          10.602554321289062
         ],
         "y": [
          -3.9414236545562744,
          11.26069164276123,
          -3.686490058898926,
          11.42519760131836,
          10.858780860900879,
          11.344029426574707,
          11.519365310668945,
          11.445133209228516,
          10.860747337341309,
          9.914671897888184,
          9.745985984802246,
          9.7508544921875,
          9.868927001953125,
          9.107413291931152,
          9.617964744567871,
          9.6267728805542,
          14.129475593566895,
          9.768749237060547,
          9.68057918548584,
          9.41943073272705,
          9.375362396240234,
          9.480569839477539,
          9.945414543151855,
          10.546957015991211,
          9.734416961669922,
          9.658136367797852,
          9.704534530639648,
          11.831697463989258,
          11.481978416442871,
          9.691317558288574,
          9.833368301391602,
          9.716075897216797,
          14.08465576171875,
          13.729842185974121,
          9.219820022583008,
          9.221049308776855,
          9.252311706542969,
          14.169588088989258,
          14.098933219909668,
          14.202051162719727,
          -3.4771580696105957,
          8.781922340393066,
          9.410148620605469,
          -3.5152487754821777,
          11.461390495300293,
          11.434833526611328,
          -3.5031118392944336,
          10.369697570800781,
          9.928452491760254,
          -3.6570868492126465,
          11.409416198730469,
          11.409517288208008,
          -3.633775234222412,
          -3.661461114883423,
          11.403583526611328,
          9.61621379852295,
          9.635095596313477,
          9.209413528442383,
          9.888555526733398,
          9.856410026550293,
          9.005206108093262,
          9.9357328414917,
          9.72600269317627,
          9.746020317077637,
          9.782196044921875,
          9.910486221313477,
          10.422144889831543,
          10.408730506896973,
          10.526707649230957,
          10.497335433959961,
          10.506011009216309,
          9.908590316772461,
          10.108760833740234,
          11.47482967376709,
          9.907974243164062,
          9.870820045471191,
          9.85912036895752,
          9.864951133728027,
          10.12780475616455,
          9.8546724319458,
          9.618906021118164,
          9.676935195922852,
          9.638158798217773,
          11.434069633483887,
          -3.4825620651245117,
          -3.4982311725616455,
          -3.5432958602905273,
          11.425024032592773,
          10.10161018371582,
          -3.4318103790283203,
          -3.6676251888275146,
          11.373319625854492,
          10.66993236541748,
          11.498308181762695,
          11.488290786743164,
          -3.449906349182129,
          -3.7094104290008545,
          10.485487937927246,
          10.477956771850586,
          9.6643705368042,
          9.726717948913574,
          13.646183967590332,
          13.652101516723633,
          13.625964164733887,
          13.68789005279541,
          13.662973403930664,
          13.690630912780762,
          13.619664192199707,
          13.637861251831055,
          9.760258674621582,
          9.878472328186035,
          9.26372241973877,
          -3.18748140335083,
          8.65556812286377,
          9.81810474395752,
          14.15088176727295,
          10.815826416015625,
          10.754749298095703,
          10.771302223205566,
          10.780545234680176,
          10.805401802062988,
          14.251785278320312,
          14.226576805114746,
          11.494967460632324,
          11.414468765258789,
          14.216341972351074,
          10.606952667236328,
          10.605238914489746,
          8.847390174865723,
          8.84180736541748,
          8.77033805847168,
          8.782930374145508,
          14.493793487548828,
          14.462024688720703,
          14.499879837036133,
          14.48858642578125,
          14.455646514892578,
          14.449777603149414,
          14.464621543884277,
          14.439046859741211,
          14.485112190246582,
          14.480385780334473,
          14.504406929016113,
          14.481771469116211,
          10.949361801147461,
          8.989323616027832,
          10.074750900268555,
          10.077863693237305,
          10.065897941589355,
          10.02502155303955,
          10.733349800109863,
          10.949849128723145,
          10.874101638793945,
          10.882177352905273,
          14.241552352905273,
          -3.5164551734924316,
          11.282753944396973,
          10.278532028198242,
          10.281316757202148,
          10.26709270477295,
          10.255607604980469,
          10.779772758483887,
          10.814454078674316,
          13.817450523376465,
          13.861505508422852,
          10.922059059143066,
          11.050086975097656,
          10.820006370544434,
          11.3968505859375,
          11.417886734008789,
          11.411373138427734,
          11.346840858459473,
          9.203814506530762
         ]
        },
        {
         "hoverinfo": "text",
         "marker": {
          "color": "pink",
          "size": 5
         },
         "mode": "markers",
         "name": "lepidoptera",
         "text": [
          "GBP19670_1 Protein timeless homolog [Eumeta japonica]",
          "KAI8424376_1 hypothetical protein MSG28_002902 [Choristoneura fumiferana]",
          "PZC70583_1 hypothetical protein B5X24_HaOG215582 [Helicoverpa armigera]",
          "PZC71942_1 hypothetical protein B5X24_HaOG212222 [Helicoverpa armigera]",
          "PZC76761_1 hypothetical protein B5X24_HaOG204149 [Helicoverpa armigera]",
          "PZC86677_1 hypothetical protein B5X24_HaOG206238 [Helicoverpa armigera]",
          "XP_012545048_1 protein timeless homolog isoform X1 [Bombyx mori]",
          "XP_012545050_1 protein timeless homolog isoform X3 [Bombyx mori]",
          "XP_013139047_1 PREDICTED: protein timeless homolog [Papilio polytes]",
          "XP_013165122_1 PREDICTED: protein timeless homolog isoform X1 [Papilio xuthus]",
          "XP_013165123_1 PREDICTED: protein timeless homolog isoform X2 [Papilio xuthus]",
          "XP_013190354_1 protein timeless homolog isoform X1 [Amyelois transitella]",
          "XP_013190355_1 protein timeless homolog isoform X2 [Amyelois transitella]",
          "XP_021188130_2 protein timeless homolog isoform X1 [Helicoverpa armigera]",
          "XP_021188130_3 protein timeless homolog isoform X1 [Helicoverpa armigera]",
          "XP_021188135_2 protein timeless homolog isoform X2 [Helicoverpa armigera]",
          "XP_021188135_3 protein timeless homolog isoform X2 [Helicoverpa armigera]",
          "XP_021203013_1 protein timeless homolog isoform X2 [Bombyx mori]",
          "XP_022130632_2 protein timeless homolog [Pieris rapae]",
          "XP_022825293_1 protein timeless homolog [Spodoptera litura]",
          "XP_023951788_2 protein timeless homolog [Bicyclus anynana]",
          "XP_026322138_1 protein timeless homolog [Hyposmocoma kahamanoa]",
          "XP_026737157_1 protein timeless homolog [Trichoplusia ni]",
          "XP_026755358_2 protein timeless homolog isoform X1 [Galleria mellonella]",
          "XP_028031042_1 protein timeless homolog [Bombyx mandarina]",
          "XP_028171612_1 protein timeless homolog [Ostrinia furnacalis]",
          "XP_030028363_2 protein timeless homolog [Manduca sexta]",
          "XP_031767070_2 protein timeless homolog isoform X2 [Galleria mellonella]",
          "XP_032512746_1 protein timeless homolog [Danaus plexippus plexippus]",
          "XP_034829680_1 protein timeless homolog [Maniola hyperantus]",
          "XP_037961725_2 protein timeless homolog [Plutella xylostella]",
          "XP_038223054_1 protein timeless homolog [Zerene cesonia]",
          "XP_039749472_1 protein timeless homolog [Pararge aegeria]",
          "XP_041971304_1 protein timeless homolog [Aricia agestis]",
          "XP_045446823_1 protein timeless homolog [Melitaea cinxia]",
          "XP_045494148_1 protein timeless homolog [Colias croceus]",
          "XP_045514633_1 protein timeless homolog isoform X1 [Pieris brassicae]",
          "XP_045514640_1 protein timeless homolog isoform X2 [Pieris brassicae]",
          "XP_045534788_1 protein timeless homolog isoform X1 [Papilio machaon]",
          "XP_045534789_1 protein timeless homolog isoform X2 [Papilio machaon]",
          "XP_045765294_1 protein timeless homolog isoform X1 [Maniola jurtina]",
          "XP_045765295_1 protein timeless homolog isoform X2 [Maniola jurtina]",
          "XP_046963189_1 protein timeless homolog [Vanessa cardui]",
          "XP_047022504_1 protein timeless homolog isoform X1 [Helicoverpa zea]",
          "XP_047022505_1 protein timeless homolog isoform X2 [Helicoverpa zea]",
          "XP_047526130_1 protein timeless homolog [Pieris napi]",
          "XP_047528915_1 protein timeless homolog [Vanessa atalanta]",
          "XP_047983992_1 protein timeless homolog isoform X1 [Leguminivora glycinivorella]",
          "XP_047983993_1 protein timeless homolog isoform X2 [Leguminivora glycinivorella]",
          "XP_049869881_1 protein timeless homolog [Pectinophora gossypiella]",
          "XP_050343206_1 protein timeless homolog [Nymphalis io]",
          "XP_050562246_1 protein timeless homolog [Spodoptera frugiperda]",
          "XP_050681257_1 protein timeless homolog [Leptidea sinapis]",
          "XP_052749243_1 protein timeless homolog isoform X1 [Galleria mellonella]",
          "XP_053603776_1 protein timeless homolog [Plodia interpunctella]",
          "XP_059046079_1 protein timeless homolog [Achroia grisella]",
          "XP_061377646_1 protein timeless homolog [Danaus plexippus]",
          "XP_061710979_1 protein timeless homolog [Cydia pomonella]",
          "XP_063360561_1 protein timeless homolog [Cydia amplana]",
          "XP_063377349_1 protein timeless homolog [Cydia fagiglandana]",
          "XP_063533309_1 protein timeless homolog [Cydia strobilella]",
          "XP_063619541_1 protein timeless homolog [Cydia splendana]",
          "XP_063824228_1 protein timeless homolog isoform X1 [Ostrinia nubilalis]",
          "XP_063824229_1 protein timeless homolog isoform X2 [Ostrinia nubilalis]",
          "XP_063893290_1 protein timeless homolog isoform X1 [Helicoverpa armigera]",
          "XP_064071504_1 protein timeless homolog [Vanessa tameamea]",
          "sp|Q17062_1|PER_ANTPE RecName: Full=Period circadian protein",
          "sp|Q25020_1|PER_HYACE RecName: Full=Period circadian protein",
          "sp|Q25478_1|PER_MANSE RecName: Full=Period circadian protein"
         ],
         "type": "scatter",
         "x": [
          10.838071823120117,
          10.382883071899414,
          7.108663082122803,
          5.079622745513916,
          7.047840118408203,
          11.011129379272461,
          10.04970932006836,
          9.971667289733887,
          10.491793632507324,
          10.498058319091797,
          9.999053001403809,
          10.118287086486816,
          10.125521659851074,
          11.029561996459961,
          11.046292304992676,
          11.037428855895996,
          11.036003112792969,
          10.0187349319458,
          10.460196495056152,
          10.626192092895508,
          10.521123886108398,
          17.332998275756836,
          10.630561828613281,
          10.738324165344238,
          10.066807746887207,
          10.13701343536377,
          9.994475364685059,
          10.830047607421875,
          10.634035110473633,
          10.469344139099121,
          10.33166217803955,
          11.033056259155273,
          10.764270782470703,
          10.2327299118042,
          10.403485298156738,
          10.937491416931152,
          10.328073501586914,
          10.381967544555664,
          10.656655311584473,
          10.62883472442627,
          10.148340225219727,
          10.095367431640625,
          9.895050048828125,
          10.999099731445312,
          10.997978210449219,
          10.255345344543457,
          9.946577072143555,
          10.285934448242188,
          10.345507621765137,
          10.178094863891602,
          9.943857192993164,
          10.680435180664062,
          10.579902648925781,
          10.778413772583008,
          10.371516227722168,
          10.818729400634766,
          10.692028045654297,
          10.33262825012207,
          10.330729484558105,
          10.263934135437012,
          10.332197189331055,
          10.327378273010254,
          10.09520435333252,
          10.109867095947266,
          11.025275230407715,
          9.95046329498291,
          5.523164749145508,
          6.4529805183410645,
          6.558779239654541
         ],
         "y": [
          5.278481960296631,
          5.4125823974609375,
          -3.9102842807769775,
          11.236388206481934,
          -3.765717029571533,
          4.7909932136535645,
          4.659978866577148,
          5.035109519958496,
          5.1870832443237305,
          5.144081115722656,
          5.455819606781006,
          4.601193428039551,
          4.609675884246826,
          4.7779717445373535,
          4.739931583404541,
          4.75889253616333,
          4.795385360717773,
          4.662019729614258,
          5.015336990356445,
          4.947763442993164,
          5.215015888214111,
          11.187627792358398,
          5.09210729598999,
          5.071570873260498,
          4.647739410400391,
          4.611844062805176,
          4.51483154296875,
          5.196134567260742,
          4.9481024742126465,
          4.763017177581787,
          5.431334972381592,
          4.754766941070557,
          5.042901039123535,
          4.7269287109375,
          5.10073184967041,
          4.838057994842529,
          5.057263374328613,
          5.020682334899902,
          5.158947944641113,
          5.169816970825195,
          4.6746931076049805,
          4.594848155975342,
          4.376190185546875,
          4.788167953491211,
          4.802833080291748,
          5.157817840576172,
          4.452391624450684,
          5.455825328826904,
          5.378862380981445,
          4.665151596069336,
          4.445691108703613,
          4.87675666809082,
          4.946345806121826,
          5.173228740692139,
          5.369028568267822,
          5.229859352111816,
          4.945878982543945,
          5.42110538482666,
          5.443953037261963,
          5.378077507019043,
          5.411069393157959,
          5.412593364715576,
          4.583578586578369,
          4.582950115203857,
          4.77041482925415,
          4.4560041427612305,
          11.785815238952637,
          -3.5693159103393555,
          -3.4651906490325928
         ]
        },
        {
         "hoverinfo": "text",
         "marker": {
          "color": "brown",
          "size": 5
         },
         "mode": "markers",
         "name": "odonata",
         "text": [
          "XP_046407332_1 protein timeless homolog [Ischnura elegans]"
         ],
         "type": "scatter",
         "x": [
          6.937785625457764
         ],
         "y": [
          13.558418273925781
         ]
        },
        {
         "hoverinfo": "text",
         "marker": {
          "color": "yellow",
          "size": 5
         },
         "mode": "markers",
         "name": "orthoptera",
         "text": [
          "XP_046982697_1 protein timeless homolog [Schistocerca americana]",
          "XP_047100393_1 protein timeless homolog [Schistocerca piceifrons]",
          "XP_049770457_1 protein timeless homolog [Schistocerca cancellata]",
          "XP_049797672_1 protein timeless homolog [Schistocerca nitens]",
          "XP_049842526_1 protein timeless homolog [Schistocerca gregaria]",
          "XP_049849404_1 protein timeless homolog [Schistocerca gregaria]",
          "XP_049945993_1 protein timeless homolog [Schistocerca serialis cubense]"
         ],
         "type": "scatter",
         "x": [
          7.80371618270874,
          7.786007404327393,
          7.7818284034729,
          7.7895731925964355,
          7.787425994873047,
          9.89229679107666,
          7.811121463775635
         ],
         "y": [
          8.586234092712402,
          8.614303588867188,
          8.593538284301758,
          8.615152359008789,
          8.59294319152832,
          8.064905166625977,
          8.568385124206543
         ]
        }
       ],
       "layout": {
        "height": 1000,
        "legend": {
         "title": {
          "text": "Clade"
         }
        },
        "template": {
         "data": {
          "bar": [
           {
            "error_x": {
             "color": "#2a3f5f"
            },
            "error_y": {
             "color": "#2a3f5f"
            },
            "marker": {
             "line": {
              "color": "#E5ECF6",
              "width": 0.5
             },
             "pattern": {
              "fillmode": "overlay",
              "size": 10,
              "solidity": 0.2
             }
            },
            "type": "bar"
           }
          ],
          "barpolar": [
           {
            "marker": {
             "line": {
              "color": "#E5ECF6",
              "width": 0.5
             },
             "pattern": {
              "fillmode": "overlay",
              "size": 10,
              "solidity": 0.2
             }
            },
            "type": "barpolar"
           }
          ],
          "carpet": [
           {
            "aaxis": {
             "endlinecolor": "#2a3f5f",
             "gridcolor": "white",
             "linecolor": "white",
             "minorgridcolor": "white",
             "startlinecolor": "#2a3f5f"
            },
            "baxis": {
             "endlinecolor": "#2a3f5f",
             "gridcolor": "white",
             "linecolor": "white",
             "minorgridcolor": "white",
             "startlinecolor": "#2a3f5f"
            },
            "type": "carpet"
           }
          ],
          "choropleth": [
           {
            "colorbar": {
             "outlinewidth": 0,
             "ticks": ""
            },
            "type": "choropleth"
           }
          ],
          "contour": [
           {
            "colorbar": {
             "outlinewidth": 0,
             "ticks": ""
            },
            "colorscale": [
             [
              0,
              "#0d0887"
             ],
             [
              0.1111111111111111,
              "#46039f"
             ],
             [
              0.2222222222222222,
              "#7201a8"
             ],
             [
              0.3333333333333333,
              "#9c179e"
             ],
             [
              0.4444444444444444,
              "#bd3786"
             ],
             [
              0.5555555555555556,
              "#d8576b"
             ],
             [
              0.6666666666666666,
              "#ed7953"
             ],
             [
              0.7777777777777778,
              "#fb9f3a"
             ],
             [
              0.8888888888888888,
              "#fdca26"
             ],
             [
              1,
              "#f0f921"
             ]
            ],
            "type": "contour"
           }
          ],
          "contourcarpet": [
           {
            "colorbar": {
             "outlinewidth": 0,
             "ticks": ""
            },
            "type": "contourcarpet"
           }
          ],
          "heatmap": [
           {
            "colorbar": {
             "outlinewidth": 0,
             "ticks": ""
            },
            "colorscale": [
             [
              0,
              "#0d0887"
             ],
             [
              0.1111111111111111,
              "#46039f"
             ],
             [
              0.2222222222222222,
              "#7201a8"
             ],
             [
              0.3333333333333333,
              "#9c179e"
             ],
             [
              0.4444444444444444,
              "#bd3786"
             ],
             [
              0.5555555555555556,
              "#d8576b"
             ],
             [
              0.6666666666666666,
              "#ed7953"
             ],
             [
              0.7777777777777778,
              "#fb9f3a"
             ],
             [
              0.8888888888888888,
              "#fdca26"
             ],
             [
              1,
              "#f0f921"
             ]
            ],
            "type": "heatmap"
           }
          ],
          "heatmapgl": [
           {
            "colorbar": {
             "outlinewidth": 0,
             "ticks": ""
            },
            "colorscale": [
             [
              0,
              "#0d0887"
             ],
             [
              0.1111111111111111,
              "#46039f"
             ],
             [
              0.2222222222222222,
              "#7201a8"
             ],
             [
              0.3333333333333333,
              "#9c179e"
             ],
             [
              0.4444444444444444,
              "#bd3786"
             ],
             [
              0.5555555555555556,
              "#d8576b"
             ],
             [
              0.6666666666666666,
              "#ed7953"
             ],
             [
              0.7777777777777778,
              "#fb9f3a"
             ],
             [
              0.8888888888888888,
              "#fdca26"
             ],
             [
              1,
              "#f0f921"
             ]
            ],
            "type": "heatmapgl"
           }
          ],
          "histogram": [
           {
            "marker": {
             "pattern": {
              "fillmode": "overlay",
              "size": 10,
              "solidity": 0.2
             }
            },
            "type": "histogram"
           }
          ],
          "histogram2d": [
           {
            "colorbar": {
             "outlinewidth": 0,
             "ticks": ""
            },
            "colorscale": [
             [
              0,
              "#0d0887"
             ],
             [
              0.1111111111111111,
              "#46039f"
             ],
             [
              0.2222222222222222,
              "#7201a8"
             ],
             [
              0.3333333333333333,
              "#9c179e"
             ],
             [
              0.4444444444444444,
              "#bd3786"
             ],
             [
              0.5555555555555556,
              "#d8576b"
             ],
             [
              0.6666666666666666,
              "#ed7953"
             ],
             [
              0.7777777777777778,
              "#fb9f3a"
             ],
             [
              0.8888888888888888,
              "#fdca26"
             ],
             [
              1,
              "#f0f921"
             ]
            ],
            "type": "histogram2d"
           }
          ],
          "histogram2dcontour": [
           {
            "colorbar": {
             "outlinewidth": 0,
             "ticks": ""
            },
            "colorscale": [
             [
              0,
              "#0d0887"
             ],
             [
              0.1111111111111111,
              "#46039f"
             ],
             [
              0.2222222222222222,
              "#7201a8"
             ],
             [
              0.3333333333333333,
              "#9c179e"
             ],
             [
              0.4444444444444444,
              "#bd3786"
             ],
             [
              0.5555555555555556,
              "#d8576b"
             ],
             [
              0.6666666666666666,
              "#ed7953"
             ],
             [
              0.7777777777777778,
              "#fb9f3a"
             ],
             [
              0.8888888888888888,
              "#fdca26"
             ],
             [
              1,
              "#f0f921"
             ]
            ],
            "type": "histogram2dcontour"
           }
          ],
          "mesh3d": [
           {
            "colorbar": {
             "outlinewidth": 0,
             "ticks": ""
            },
            "type": "mesh3d"
           }
          ],
          "parcoords": [
           {
            "line": {
             "colorbar": {
              "outlinewidth": 0,
              "ticks": ""
             }
            },
            "type": "parcoords"
           }
          ],
          "pie": [
           {
            "automargin": true,
            "type": "pie"
           }
          ],
          "scatter": [
           {
            "fillpattern": {
             "fillmode": "overlay",
             "size": 10,
             "solidity": 0.2
            },
            "type": "scatter"
           }
          ],
          "scatter3d": [
           {
            "line": {
             "colorbar": {
              "outlinewidth": 0,
              "ticks": ""
             }
            },
            "marker": {
             "colorbar": {
              "outlinewidth": 0,
              "ticks": ""
             }
            },
            "type": "scatter3d"
           }
          ],
          "scattercarpet": [
           {
            "marker": {
             "colorbar": {
              "outlinewidth": 0,
              "ticks": ""
             }
            },
            "type": "scattercarpet"
           }
          ],
          "scattergeo": [
           {
            "marker": {
             "colorbar": {
              "outlinewidth": 0,
              "ticks": ""
             }
            },
            "type": "scattergeo"
           }
          ],
          "scattergl": [
           {
            "marker": {
             "colorbar": {
              "outlinewidth": 0,
              "ticks": ""
             }
            },
            "type": "scattergl"
           }
          ],
          "scattermapbox": [
           {
            "marker": {
             "colorbar": {
              "outlinewidth": 0,
              "ticks": ""
             }
            },
            "type": "scattermapbox"
           }
          ],
          "scatterpolar": [
           {
            "marker": {
             "colorbar": {
              "outlinewidth": 0,
              "ticks": ""
             }
            },
            "type": "scatterpolar"
           }
          ],
          "scatterpolargl": [
           {
            "marker": {
             "colorbar": {
              "outlinewidth": 0,
              "ticks": ""
             }
            },
            "type": "scatterpolargl"
           }
          ],
          "scatterternary": [
           {
            "marker": {
             "colorbar": {
              "outlinewidth": 0,
              "ticks": ""
             }
            },
            "type": "scatterternary"
           }
          ],
          "surface": [
           {
            "colorbar": {
             "outlinewidth": 0,
             "ticks": ""
            },
            "colorscale": [
             [
              0,
              "#0d0887"
             ],
             [
              0.1111111111111111,
              "#46039f"
             ],
             [
              0.2222222222222222,
              "#7201a8"
             ],
             [
              0.3333333333333333,
              "#9c179e"
             ],
             [
              0.4444444444444444,
              "#bd3786"
             ],
             [
              0.5555555555555556,
              "#d8576b"
             ],
             [
              0.6666666666666666,
              "#ed7953"
             ],
             [
              0.7777777777777778,
              "#fb9f3a"
             ],
             [
              0.8888888888888888,
              "#fdca26"
             ],
             [
              1,
              "#f0f921"
             ]
            ],
            "type": "surface"
           }
          ],
          "table": [
           {
            "cells": {
             "fill": {
              "color": "#EBF0F8"
             },
             "line": {
              "color": "white"
             }
            },
            "header": {
             "fill": {
              "color": "#C8D4E3"
             },
             "line": {
              "color": "white"
             }
            },
            "type": "table"
           }
          ]
         },
         "layout": {
          "annotationdefaults": {
           "arrowcolor": "#2a3f5f",
           "arrowhead": 0,
           "arrowwidth": 1
          },
          "autotypenumbers": "strict",
          "coloraxis": {
           "colorbar": {
            "outlinewidth": 0,
            "ticks": ""
           }
          },
          "colorscale": {
           "diverging": [
            [
             0,
             "#8e0152"
            ],
            [
             0.1,
             "#c51b7d"
            ],
            [
             0.2,
             "#de77ae"
            ],
            [
             0.3,
             "#f1b6da"
            ],
            [
             0.4,
             "#fde0ef"
            ],
            [
             0.5,
             "#f7f7f7"
            ],
            [
             0.6,
             "#e6f5d0"
            ],
            [
             0.7,
             "#b8e186"
            ],
            [
             0.8,
             "#7fbc41"
            ],
            [
             0.9,
             "#4d9221"
            ],
            [
             1,
             "#276419"
            ]
           ],
           "sequential": [
            [
             0,
             "#0d0887"
            ],
            [
             0.1111111111111111,
             "#46039f"
            ],
            [
             0.2222222222222222,
             "#7201a8"
            ],
            [
             0.3333333333333333,
             "#9c179e"
            ],
            [
             0.4444444444444444,
             "#bd3786"
            ],
            [
             0.5555555555555556,
             "#d8576b"
            ],
            [
             0.6666666666666666,
             "#ed7953"
            ],
            [
             0.7777777777777778,
             "#fb9f3a"
            ],
            [
             0.8888888888888888,
             "#fdca26"
            ],
            [
             1,
             "#f0f921"
            ]
           ],
           "sequentialminus": [
            [
             0,
             "#0d0887"
            ],
            [
             0.1111111111111111,
             "#46039f"
            ],
            [
             0.2222222222222222,
             "#7201a8"
            ],
            [
             0.3333333333333333,
             "#9c179e"
            ],
            [
             0.4444444444444444,
             "#bd3786"
            ],
            [
             0.5555555555555556,
             "#d8576b"
            ],
            [
             0.6666666666666666,
             "#ed7953"
            ],
            [
             0.7777777777777778,
             "#fb9f3a"
            ],
            [
             0.8888888888888888,
             "#fdca26"
            ],
            [
             1,
             "#f0f921"
            ]
           ]
          },
          "colorway": [
           "#636efa",
           "#EF553B",
           "#00cc96",
           "#ab63fa",
           "#FFA15A",
           "#19d3f3",
           "#FF6692",
           "#B6E880",
           "#FF97FF",
           "#FECB52"
          ],
          "font": {
           "color": "#2a3f5f"
          },
          "geo": {
           "bgcolor": "white",
           "lakecolor": "white",
           "landcolor": "#E5ECF6",
           "showlakes": true,
           "showland": true,
           "subunitcolor": "white"
          },
          "hoverlabel": {
           "align": "left"
          },
          "hovermode": "closest",
          "mapbox": {
           "style": "light"
          },
          "paper_bgcolor": "white",
          "plot_bgcolor": "#E5ECF6",
          "polar": {
           "angularaxis": {
            "gridcolor": "white",
            "linecolor": "white",
            "ticks": ""
           },
           "bgcolor": "#E5ECF6",
           "radialaxis": {
            "gridcolor": "white",
            "linecolor": "white",
            "ticks": ""
           }
          },
          "scene": {
           "xaxis": {
            "backgroundcolor": "#E5ECF6",
            "gridcolor": "white",
            "gridwidth": 2,
            "linecolor": "white",
            "showbackground": true,
            "ticks": "",
            "zerolinecolor": "white"
           },
           "yaxis": {
            "backgroundcolor": "#E5ECF6",
            "gridcolor": "white",
            "gridwidth": 2,
            "linecolor": "white",
            "showbackground": true,
            "ticks": "",
            "zerolinecolor": "white"
           },
           "zaxis": {
            "backgroundcolor": "#E5ECF6",
            "gridcolor": "white",
            "gridwidth": 2,
            "linecolor": "white",
            "showbackground": true,
            "ticks": "",
            "zerolinecolor": "white"
           }
          },
          "shapedefaults": {
           "line": {
            "color": "#2a3f5f"
           }
          },
          "ternary": {
           "aaxis": {
            "gridcolor": "white",
            "linecolor": "white",
            "ticks": ""
           },
           "baxis": {
            "gridcolor": "white",
            "linecolor": "white",
            "ticks": ""
           },
           "bgcolor": "#E5ECF6",
           "caxis": {
            "gridcolor": "white",
            "linecolor": "white",
            "ticks": ""
           }
          },
          "title": {
           "x": 0.05
          },
          "xaxis": {
           "automargin": true,
           "gridcolor": "white",
           "linecolor": "white",
           "ticks": "",
           "title": {
            "standoff": 15
           },
           "zerolinecolor": "white",
           "zerolinewidth": 2
          },
          "yaxis": {
           "automargin": true,
           "gridcolor": "white",
           "linecolor": "white",
           "ticks": "",
           "title": {
            "standoff": 15
           },
           "zerolinecolor": "white",
           "zerolinewidth": 2
          }
         }
        },
        "title": {
         "text": "2D UMAP Projection of Protein Embeddings by Insect Clade"
        },
        "width": 1200,
        "xaxis": {
         "title": {
          "text": "UMAP Dimension 1"
         }
        },
        "yaxis": {
         "title": {
          "text": "UMAP Dimension 2"
         }
        }
       }
      }
     },
     "metadata": {},
     "output_type": "display_data"
    }
   ],
   "source": [
    "import plotly.graph_objects as go\n",
    "import numpy as np\n",
    "\n",
    "# Assuming 'all_labels_2d' and 'embedded_data_2d' are already defined from previous UMAP reduction\n",
    "\n",
    "# Define hardcoded colors for each clade\n",
    "color_map = {\n",
    "    \"coleoptera\": \"red\", \"diptera\": \"blue\", \"hemiptera\": \"green\", \"homoptera\": \"orange\",\n",
    "    \"hymenoptera\": \"purple\", \"lepidoptera\": \"pink\", \"odonata\": \"brown\", \"orthoptera\": \"yellow\"\n",
    "}\n",
    "\n",
    "# Create a new figure for 2D plotting\n",
    "fig = go.Figure()\n",
    "\n",
    "# Plot each clade's points in the 2D space\n",
    "for clade in embeddings_data.keys():\n",
    "    indices = (all_labels_2d == clade)\n",
    "    fig.add_trace(go.Scatter(\n",
    "        x=embedded_data_2d[indices, 0],\n",
    "        y=embedded_data_2d[indices, 1],\n",
    "        mode='markers',\n",
    "        marker=dict(\n",
    "            size=5,\n",
    "            color=color_map[clade],  # Color for each clade\n",
    "        ),\n",
    "        text=keys_data[clade],\n",
    "        hoverinfo=\"text\",\n",
    "        name=clade  # Name of the clade for the legend\n",
    "    ))\n",
    "\n",
    "# Set the title and labels\n",
    "fig.update_layout(\n",
    "    title='2D UMAP Projection of Protein Embeddings by Insect Clade',\n",
    "    xaxis_title='UMAP Dimension 1',\n",
    "    yaxis_title='UMAP Dimension 2',\n",
    "    legend_title=\"Clade\",\n",
    "    width=1200,\n",
    "    height=1000,\n",
    ")\n",
    "\n",
    "# Show plot\n",
    "fig.show()"
   ]
  }
 ],
 "metadata": {
  "kernelspec": {
   "display_name": "ml",
   "language": "python",
   "name": "python3"
  },
  "language_info": {
   "codemirror_mode": {
    "name": "ipython",
    "version": 3
   },
   "file_extension": ".py",
   "mimetype": "text/x-python",
   "name": "python",
   "nbconvert_exporter": "python",
   "pygments_lexer": "ipython3",
   "version": "3.12.2"
  }
 },
 "nbformat": 4,
 "nbformat_minor": 2
}
